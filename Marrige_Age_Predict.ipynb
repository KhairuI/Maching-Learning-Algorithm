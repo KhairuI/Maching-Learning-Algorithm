{
  "nbformat": 4,
  "nbformat_minor": 0,
  "metadata": {
    "colab": {
      "name": "Marrige Age Predict.ipynb",
      "provenance": []
    },
    "kernelspec": {
      "name": "python3",
      "display_name": "Python 3"
    },
    "language_info": {
      "name": "python"
    }
  },
  "cells": [
    {
      "cell_type": "markdown",
      "metadata": {
        "id": "QEtDaNUGcpnI"
      },
      "source": [
        "Marrige Year Predict use to random forest algorithm / Regression"
      ]
    },
    {
      "cell_type": "code",
      "metadata": {
        "id": "QejPmXczcxJb"
      },
      "source": [
        "import pandas as pd"
      ],
      "execution_count": null,
      "outputs": []
    },
    {
      "cell_type": "markdown",
      "metadata": {
        "id": "zPaqMkludKDh"
      },
      "source": [
        "File upload here"
      ]
    },
    {
      "cell_type": "code",
      "metadata": {
        "colab": {
          "resources": {
            "http://localhost:8080/nbextensions/google.colab/files.js": {
              "data": "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",
              "ok": true,
              "headers": [
                [
                  "content-type",
                  "application/javascript"
                ]
              ],
              "status": 200,
              "status_text": "OK"
            }
          },
          "base_uri": "https://localhost:8080/",
          "height": 115
        },
        "id": "z4t3o1uOdHyc",
        "outputId": "c66345ed-e85e-4765-9284-4c08fa903cb8"
      },
      "source": [
        "from google.colab import files\n",
        "files.upload()"
      ],
      "execution_count": null,
      "outputs": [
        {
          "output_type": "display_data",
          "data": {
            "text/html": [
              "\n",
              "     <input type=\"file\" id=\"files-2c5cfe08-0ac0-4c18-ad75-5aa7093247fe\" name=\"files[]\" multiple disabled\n",
              "        style=\"border:none\" />\n",
              "     <output id=\"result-2c5cfe08-0ac0-4c18-ad75-5aa7093247fe\">\n",
              "      Upload widget is only available when the cell has been executed in the\n",
              "      current browser session. Please rerun this cell to enable.\n",
              "      </output>\n",
              "      <script src=\"/nbextensions/google.colab/files.js\"></script> "
            ],
            "text/plain": [
              "<IPython.core.display.HTML object>"
            ]
          },
          "metadata": {
            "tags": []
          }
        },
        {
          "output_type": "stream",
          "text": [
            "Saving age_of_marriage_data.csv to age_of_marriage_data.csv\n"
          ],
          "name": "stdout"
        },
        {
          "output_type": "execute_result",
          "data": {
            "text/plain": [
              "{'age_of_marriage_data.csv': b'id,gender,height,religion,caste,mother_tongue,profession,location,country,age_of_marriage\\r\\n1,female,\"5\\'4\"\"\",,others,Telugu,,London, United Kingdom,21\\r\\n2,male,\"5\\'7\"\"\",Jain, Shwetamber,Gujarati,Doctor / Healthcare Professional,Fairfax- VA, USA,32\\r\\n3,male,\"5\\'7\"\"\",Hindu, Brahmin,Hindi,Entrepreneurs / Business ,Begusarai, India,32\\r\\n4,female,\"5\\'0\"\"\",Hindu, Thakur,Hindi,Architect,Mumbai, India,30\\r\\n5,male,\"5\\'5\"\"\",Christian, Born Again,Malayalam,Sales Professional / Marketing,Sulthan Bathery, India,30\\r\\n6,male,\"5\\'5\"\"\",Hindu, Valmiki,Hindi,Sportsman,Delhi, India,29\\r\\n7,female,\"5\\'2\"\"\",Hindu, Rajput - Lodhi,Hindi,Banking Professional,Jodhpur, India,28\\r\\n8,male,\"5\\'5\"\"\",Hindu, Bhatia,Punjabi,Entrepreneurs / Business ,Faridabad, India,30\\r\\n9,female,\"5\\'5\"\"\",Jain, Shwetamber,Gujarati,Software Professional,Vadodara, India,35\\r\\n10,female,\"5\\'1\"\"\",Hindu, Billava,Tulu,HR Professional,Bengaluru / Bangalore, India,32\\r\\n11,female,\"5\\'3\"\"\",,others,Tamil,Not working,Chennai, India,29\\r\\n12,male,\"5\\'9\"\"\",Hindu, Brahmin,Bengali,Finance Professional,Suri, India,32\\r\\n13,male,\"5\\'10\"\"\",Hindu, Vanniyar,Tamil,Not Specified,Vellore, India,28\\r\\n14,male,,,others,,,Vilathikulam, India,31\\r\\n15,female,\"5\\'1\"\"\",Hindu, Agri,Marathi,Not Specified,Mumbai, India,30\\r\\n16,female,\"5\\'2\"\"\",Christian, Marthoma,Malayalam,Not working,Kollam, India,31\\r\\n17,female,\"5\\'6\"\"\",,others,Marwari,,Bengaluru / Bangalore, India,35\\r\\n18,female,\"5\\'3\"\"\",Hindu, Ahom,Assamese,Not working,Assam, India,28\\r\\n19,female,\"5\\'3\"\"\",Hindu, Bhatia,Hindi,Chartered Accountant,Delhi, India,28\\r\\n20,male,\"5\\'4\"\"\",Hindu, Baishnab,Bengali,Sales Professional / Marketing,Dhubri, India,29\\r\\n21,female,\"5\\'3\"\"\",Christian, Roman Catholic,Hindi,Logistics and Travel Professional,Mumbai, India,31\\r\\n22,female,\"4\\'5\"\"\",,others,Bengali,Not working,Midnapore, India,20\\r\\n23,male,\"5\\'9\"\"\",Hindu, Ahom,Assamese,Defense Services,Jorhat, India,29\\r\\n24,male,\"5\\'6\"\"\",Jain, Shwetamber,Hindi,Entrepreneurs / Business ,Vadodara, India,35\\r\\n25,female,\"5\\'3\"\"\",Hindu, Brahmin,Marathi,Software Professional,Pleasanton- CA, USA,29\\r\\n26,female,\"5\\'4\"\"\",Hindu, Agri,Marathi,Doctor / Healthcare Professional,Raigad, India,28\\r\\n27,male,\"5\\'7\"\"\",,others,Tamil,Marketing Professional,Bengaluru / Bangalore, India,35\\r\\n28,male,\"5\\'10\"\"\",Hindu, Lingayath,Kannada,Software Professional,San Francisco- CA, USA,34\\r\\n29,female,\"5\\'2\"\"\",Hindu, Kalita,Assamese,Team Member / Staff,Assam, India,29\\r\\n30,male,\"5\\'10\"\"\",,others,Telugu,,Noida, India,26\\r\\n31,male,\"5\\'9\"\"\",Hindu, Vaishnav,Gujarati,Managers and Senior Executives,Mumbai, India,32\\r\\n32,,,,others,Hindi,Not working,Kannauj, India,27\\r\\n33,male,\"5\\'7\"\"\",,,Hindi,,, India,33\\r\\n34,male,\"5\\'11\"\"\",Hindu, Brahmin,Marathi,Not Specified,Mumbai, India,32\\r\\n35,male,\"5\\'11\"\"\",,others,Malayalam,Hardware & Networking professional,Mumbai, India,24\\r\\n36,male,\"5\\'6\"\"\",Hindu, Sahu,Hindi,Not Specified,Sagar, India,27\\r\\n37,male,\"5\\'6\"\"\",,others,Bengali,Civil Engineer,Kolkata, India,25\\r\\n38,female,\"5\\'3\"\"\",Hindu, Baishya,Bengali,Chartered Accountant,Bengaluru / Bangalore, India,29\\r\\n39,female,\"5\\'8\"\"\",Hindu, Sahu,Hindi,Admin Professional,Lucknow, India,26\\r\\n40,female,\"5\\'6\"\"\",Muslim, Memon,Hindi,Accounting Professional (Others),Berhampur, India,26\\r\\n41,female,\"5\\'3\"\"\",Hindu, Brahmin,Hindi,Investment Professional,Lakhisarai, India,30\\r\\n42,male,,,others,Telugu,Not Specified,Nizamabad, India,25\\r\\n43,female,\"4\\'5\"\"\",Hindu, Lingayath,Kannada,Not Specified,Mysuru / Mysore, India,31\\r\\n44,male,\"5\\'8\"\"\",Hindu, Agarwal,Punjabi,Civil Engineer,Sydney, Australia,30\\r\\n45,male,\"5\\'11\"\"\",Hindu, Billava,Tulu,Consultant / Supervisor / Team Leads,Mumbai, India,28\\r\\n46,female,\"5\\'6\"\"\",Hindu, Agarwal,Punjabi,Entrepreneurs / Business ,Panchkula, India,27\\r\\n47,male,\"5\\'7\"\"\",Hindu, Sahu,Hindi,Public Relations Professional,Sagar, India,27\\r\\n48,male,\"5\\'9\"\"\",Hindu, Rajput - Lodhi,Hindi,Sportsman,Bengaluru / Bangalore, India,30\\r\\n49,male,\"5\\'8\"\"\",Hindu, Rajput - Lodhi,Hindi,Software Professional,Agra, India,31\\r\\n50,female,\"5\\'0\"\"\",Hindu, Panchal,Hindi,Admin Professional,Karnal, India,30\\r\\n51,female,\"5\\'1\"\"\",Jain, Shwetamber,Hindi,Finance Professional,Ahmedabad, India,35\\r\\n52,male,\"5\\'1\"\"\",Hindu, Baidya,Bengali,Banking Professional,Silchar, India,30\\r\\n53,female,\"6\\'5\"\"\",Hindu, Kaibarta,Assamese,Not working,Sibsagar, India,29\\r\\n54,male,\"5\\'11\"\"\",,others,,,Howra, India,35\\r\\n55,male,\"5\\'10\"\"\",Christian, Marthoma,Malayalam,HR Professional,Kozhikode, India,33\\r\\n56,male,\"5\\'7\"\"\",Hindu, Brahmin,Hindi,Managers and Senior Executives,Delhi, India,32\\r\\n57,male,\"5\\'9\"\"\",Hindu, Agri,Marathi,Software Professional,Mumbai, India,31\\r\\n58,female,\"5\\'4\"\"\",Hindu, Sindhi-Sakkhar,Sindhi,Not Specified,Gwalior, India,28\\r\\n59,female,\"5\\'2\"\"\",Hindu, Rajput - Lodhi,Hindi,Not working,Aligarh, India,27\\r\\n60,female,\"5\\'1\"\"\",Hindu, Baishya,Bengali,Not working,Kolkata, India,27\\r\\n61,male,\"5\\'6\"\"\",Hindu, Viswabrahmin,Telugu,Training Professional (Others),Tanuku, India,29\\r\\n62,female,\"5\\'5\"\"\",Hindu, Patel,English,Hotel & Hospitality Professional (Others),Dubai, United Arab Emirates,30\\r\\n63,female,\"5\\'9\"\"\",Jain, Shwetamber,Marwari,Entrepreneurs / Business ,Siliguri, India,35\\r\\n64,female,\"5\\'4\"\"\",Hindu, Patel,Gujarati,Software Professional (Others),Ahmedabad, India,29\\r\\n65,female,\"5\\'2\"\"\",Hindu, Baidya,Bengali,Nurse,Siliguri, India,28\\r\\n66,female,\"4\\'11\"\"\",Hindu, Scheduled Caste (SC),Hindi,Accounting Professional (Others),Mumbai, India,34\\r\\n67,male,\"5\\'11\"\"\",Sikh, Kshatriya,Punjabi,Not Specified,Punjab, India,30\\r\\n68,female,\"5\\'0\"\"\",Hindu, Rajput - Lodhi,Hindi,Artist (Others),Mumbai, India,29\\r\\n69,female,\"5\\'3\"\"\",Christian, Marthoma,Malayalam,HR Professional,Mumbai, India,32\\r\\n70,female,\"5\\'4\"\"\",Christian, Marthoma,Malayalam,Nurse,Chicago- IL, USA,29\\r\\n71,female,\"5\\'3\"\"\",Christian, Born Again,Tamil,Software Professional,Coimbatore, India,30\\r\\n72,female,\"5\\'3\"\"\",Christian, Marthoma,Malayalam,Non IT Engineer (Others),Delhi, India,31\\r\\n73,male,\"5\\'10\"\"\",Hindu, Brahmin,Marathi,Doctor / Healthcare Professional,Ratnagiri, India,30\\r\\n74,male,\"5\\'7\"\"\",Hindu, Kalita,Assamese,Training Professional (Others),Guwahati, India,28\\r\\n75,male,\"5\\'5\"\"\",Hindu, Kaibarta,Odia,Defense Services,Orissa, India,31\\r\\n76,female,\"5\\'5\"\"\",Hindu, Baishya,Hindi,Not working,Gorakhpur, India,27\\r\\n77,female,\"5\\'3\"\"\",Hindu, Agri,Marathi,Not Specified,Raigad, India,30\\r\\n78,male,\"5\\'8\"\"\",Hindu, Sindhi-Sakkhar,Sindhi,Event Manager,Delhi, India,27\\r\\n79,female,\"5\\'2\"\"\",Sikh, Ramdasia,Punjabi,Not working,Moga, India,30\\r\\n80,,,,others,Malayalam,,Kerala, India,24\\r\\n81,female,\"5\\'5\"\"\",Christian, Roman Catholic,Konkani,Software Professional (Others),Bengaluru / Bangalore, India,30\\r\\n82,female,\"5\\'5\"\"\",Sikh, Khatri,Punjabi,Marketing Professional,Noida, India,31\\r\\n83,female,\"5\\'2\"\"\",Jain, Shwetamber,Hindi,Science Professional (Others),Delhi, India,32\\r\\n84,female,\"5\\'4\"\"\",Hindu, OBC - Barber/Naayee,Assamese,Managers and Senior Executives,Guwahati, India,29\\r\\n85,male,\"4\\'7\"\"\",Hindu, Kaibarta,Assamese,Defense Services,Golaghat, India,31\\r\\n86,male,\"5\\'8\"\"\",Hindu, Kaibarta,Odia,Mechanical / Production Engineer,Cuttack, India,28\\r\\n87,male,\"4\\'9\"\"\",Hindu, Patel,Gujarati,Banking Professional,Surat, India,31\\r\\n88,male,\"5\\'11\"\"\",Hindu, Brahmin,Telugu,Research Assistant,Bengaluru / Bangalore, India,33\\r\\n89,male,\"5\\'8\"\"\",,others,Malayalam,Electronics / Telecom Engineer,Goa, India,29\\r\\n90,male,,,others,Hindi,Not Specified,Kolkata, India,29\\r\\n91,male,\"5\\'7\"\"\",Hindu, Sindhi-Sakkhar,Sindhi,Entrepreneurs / Business ,Kolkata, India,27\\r\\n92,male,\"5\\'7\"\"\",Hindu, Sindhi-Sakkhar,Sindhi,Software Professional (Others),Maharashtra, India,27\\r\\n93,male,\"5\\'10\"\"\",Christian, Roman Catholic,Tamil,Entrepreneurs / Business ,Coimbatore, India,31\\r\\n94,female,\"5\\'5\"\"\",Hindu, Valmiki,Hindi,Electronics / Telecom Engineer,Delhi, India,27\\r\\n95,female,\"5\\'4\"\"\",Hindu, Baniya,Hindi,Consultant / Supervisor / Team Leads,Delhi, India,35\\r\\n96,male,\"5\\'6\"\"\",Hindu, Goud,Odia,Teacher,Bhadrak, India,30\\r\\n97,male,\"5\\'6\"\"\",Sikh, Ramdasia,Punjabi,Software Professional,Patiala, India,30\\r\\n98,female,\"5\\'3\"\"\",Sikh, Khatri,Punjabi,Not Specified,Surrey, Canada,29\\r\\n99,male,\"4\\'5\"\"\",Hindu, Balija,Telugu,Banking Professional,Anantapur, India,31\\r\\n100,female,\"5\\'3\"\"\",Christian, Born Again,Hindi,Nurse,Punjab, India,31\\r\\n101,female,\"5\\'1\"\"\",Hindu, Scheduled Caste (SC),Malayalam,Nurse,Kozhikode, India,32\\r\\n102,female,\"5\\'4\"\"\",,others,Kannada,Not Specified,Hubbali-Dharwad, India,22\\r\\n103,male,\"5\\'8\"\"\",Hindu, Billava,Tulu,Accounting Professional (Others),Mangaluru / Mangalore, India,30\\r\\n104,female,\"5\\'1\"\"\",Hindu, Panchal,Gujarati,Professor,Anand, India,30\\r\\n105,male,\"5\\'5\"\"\",Hindu, Baishnab,Bengali,Artist (Others),Malda, India,29\\r\\n106,female,\"5\\'3\"\"\",Hindu, Arora,Punjabi,Software Professional (Others),Atlanta- GA, USA,32\\r\\n107,female,\"5\\'2\"\"\",Hindu, Brahmin,Telugu,Mechanical / Production Engineer,Hyderabad, India,28\\r\\n108,female,\"5\\'2\"\"\",Hindu, Vanniyar,Tamil,Not working,Titakudi, India,29\\r\\n109,male,\"5\\'5\"\"\",Hindu, Sindhi-Sakkhar,Sindhi,Non IT Engineer (Others),Delhi-NCR, India,29\\r\\n110,male,\"5\\'6\"\"\",Hindu, Brahmin,Hindi,Mechanical / Production Engineer,West Bengal, India,30\\r\\n111,female,\"5\\'4\"\"\",Hindu, Bhatia,Punjabi,Admin Professional,Delhi, India,29\\r\\n112,female,\"5\\'4\"\"\",Hindu, Ahom,Assamese,Not working,Jorhat, India,28\\r\\n113,male,\"5\\'6\"\"\",Hindu, Brahmin,Telugu,Software Professional,Hyderabad, India,33\\r\\n114,female,\"5\\'4\"\"\",Hindu, Sindhi-Sakkhar,Sindhi,Interior Designer,Bengaluru / Bangalore, India,27\\r\\n115,male,\"5\\'3\"\"\",Hindu, Baishnab,Bengali,Civil Engineer,Kolkata, India,29\\r\\n116,female,\"5\\'5\"\"\",Hindu, Viswabrahmin,Telugu,Not Specified,Nellore, India,27\\r\\n117,female,\"5\\'6\"\"\",Hindu, Kayastha,Bengali,Logistics and Travel Professional,Kolkata, India,34\\r\\n118,female,\"5\\'5\"\"\",Hindu, Vaishnav,Gujarati,Not Specified,Pune, India,31\\r\\n119,female,\"5\\'3\"\"\",Hindu, Lingayath,Kannada,Not working,Belagavi / Belagaum, India,30\\r\\n120,female,\"5\\'4\"\"\",,others,Tamil,Finance Professional,Chennai, India,31\\r\\n121,female,\"5\\'0\"\"\",Hindu, Brahmin,Marathi,Software Professional,Nashik, India,28\\r\\n122,male,\"6\\'2\"\"\",,others,Telugu,Consultant / Supervisor / Team Leads,Tirupati, India,24\\r\\n123,female,\"5\\'6\"\"\",Sikh, Gursikh,Punjabi,Defense Services,Amritsar, India,29\\r\\n124,male,\"5\\'10\"\"\",,others,Kannada,Software Professional,Bengaluru / Bangalore, India,27\\r\\n125,female,,,others,,,Shah Alam, Malaysia,32\\r\\n126,female,\"5\\'6\"\"\",,others,Bengali,Not Specified,Kolkata, India,24\\r\\n127,male,\"5\\'4\"\"\",,,,Entrepreneurs / Business ,Ahmedabad, India,23\\r\\n128,female,\"5\\'2\"\"\",Hindu, Viswabrahmin,Telugu,Not Specified,Hyderabad, India,27\\r\\n129,female,\"5\\'0\"\"\",,others,,Software Professional (Others),Pune, India,35\\r\\n130,female,\"5\\'3\"\"\",Hindu, Viswabrahmin,Telugu,Not working,Hyderabad, India,26\\r\\n131,male,\"6\\'1\"\"\",,others,Telugu,,Mysuru / Mysore, India,31\\r\\n132,female,\"5\\'7\"\"\",Hindu, Viswabrahmin,Telugu,Artist (Others),Bhadrachalam, India,27\\r\\n133,female,\"5\\'1\"\"\",Hindu, Vanniyar,Tamil,Fashion Designer,Mumbai, India,28\\r\\n134,male,\"5\\'7\"\"\",,,Kannada,Defense Services,, India,25\\r\\n135,male,\"6\\'0\"\"\",,others,Malayalam,Marketing Professional,Bengaluru / Bangalore, India,33\\r\\n136,female,\"5\\'4\"\"\",,others,Sindhi,,, India,33\\r\\n137,male,\"6\\'0\"\"\",Sikh, Khatri,Punjabi,Admin Professional,Burhanpur, India,33\\r\\n138,male,\"5\\'11\"\"\",Hindu, Kaibarta,Odia,Banking Professional,Balangir, India,28\\r\\n139,female,\"4\\'5\"\"\",Hindu, Baidya,Bengali,Beautician,West Bengal, India,27\\r\\n140,female,,,others,,,Bengaluru / Bangalore, India,31\\r\\n141,female,\"5\\'5\"\"\",Hindu, Agarwal,Marwari,Banking Professional,Mumbai, India,30\\r\\n142,female,\"5\\'3\"\"\",Hindu, Arora,Punjabi,Banking Professional,Sonepat, India,33\\r\\n143,female,\"5\\'1\"\"\",Hindu, Billava,Tulu,Accounting Professional (Others),Mangaluru / Mangalore, India,30\\r\\n144,female,\"5\\'8\"\"\",Christian, Born Again,Tamil,Doctor / Healthcare Professional,Bengaluru / Bangalore, India,32\\r\\n145,male,\"5\\'5\"\"\",,,Hindi,,, India,31\\r\\n146,female,\"5\\'2\"\"\",Hindu, Kayastha,Bengali,HR Professional,Bengaluru / Bangalore, India,34\\r\\n147,male,\"5\\'6\"\"\",Sikh, Ramdasia,Punjabi,Electronics / Telecom Engineer,Jaipur, India,31\\r\\n148,male,\"5\\'3\"\"\",Hindu, Thakur,Hindi,Non IT Engineer (Others),Ranchi, India,30\\r\\n149,male,\"5\\'10\"\"\",Hindu, Thakur,Hindi,Artist (Others),Indore, India,30\\r\\n150,male,\"5\\'9\"\"\",Jain, Shwetamber,Marwari,Accounting Professional (Others),Delhi, India,34\\r\\n151,male,\"5\\'8\"\"\",Hindu, Vaishnav,Gujarati,HR Professional,Vadodara, India,30\\r\\n152,female,\"4\\'11\"\"\",Hindu, Brahmin,Marathi,Software Consultant,Vadodara, India,29\\r\\n153,female,\"5\\'1\"\"\",,others,Telugu,Not working,Tadepalligudem, India,27\\r\\n154,male,\"5\\'11\"\"\",Hindu, Arya Vysya,Telugu,Entrepreneurs / Business ,Visakhapatnam, India,30\\r\\n155,male,\"5\\'5\"\"\",Hindu, OBC - Barber/Naayee,Hindi,Team Member / Staff,Aurangabad, India,26\\r\\n156,female,\"5\\'1\"\"\",Hindu, Sindhi-Sakkhar,Sindhi,Entrepreneurs / Business ,Mumbai, India,30\\r\\n157,female,\"4\\'5\"\"\",Hindu, Patel,Hindi,Not working,Bhopal, India,29\\r\\n158,female,\"5\\'3\"\"\",,others,Bengali,Mechanical / Production Engineer,Midnapore, India,20\\r\\n159,male,\"5\\'3\"\"\",,others,Marathi,,,,25\\r\\n160,male,\"6\\'0\"\"\",Hindu, Brahmin,Bengali,Medical / Healthcare Professional (Others),Kolkata, India,30\\r\\n161,female,,,,,,, India,35\\r\\n162,male,\"6\\'0\"\"\",Hindu, OBC - Barber/Naayee,Assamese,Not working,Dibrugarh, India,26\\r\\n163,female,\"5\\'0\"\"\",Hindu, Kaibarta,Odia,Not working,Panikoili, India,28\\r\\n164,male,\"5\\'11\"\"\",Sikh, Gursikh,Punjabi,Consultant / Supervisor / Team Leads,Ahmedabad, India,33\\r\\n165,female,\"5\\'3\"\"\",,others,Telugu,,Hyderabad, India,32\\r\\n166,male,,,others,Telugu,Entrepreneurs / Business ,Karimnagar, India,32\\r\\n167,male,\"5\\'5\"\"\",Hindu, Brahmin,Marathi,Software Professional,Pune, India,31\\r\\n168,female,\"5\\'3\"\"\",Sikh, Gursikh,Punjabi,Beautician,Ludhiana, India,30\\r\\n169,female,\"5\\'4\"\"\",Hindu, Baishya,Bengali,Chartered Accountant,Bengaluru / Bangalore, India,26\\r\\n170,male,\"4\\'6\"\"\",Hindu, Baishya,Assamese,Not Specified,Albertville- AL, USA,28\\r\\n171,male,\"5\\'3\"\"\",Hindu, Bhandari,Gujarati,Not Specified,Mumbai, India,33\\r\\n172,female,\"5\\'1\"\"\",Hindu, OBC - Barber/Naayee,Marwari,Accounting Professional (Others),Mumbai, India,27\\r\\n173,male,\"5\\'4\"\"\",Hindu, Scheduled Caste (SC),Hindi,Non IT Engineer (Others),Chandigarh, India,32\\r\\n174,male,\"6\\'0\"\"\",Hindu, Bhatia,Punjabi,Entrepreneurs / Business ,Amritsar, India,28\\r\\n175,female,\"5\\'3\"\"\",Hindu, Sindhi-Sakkhar,Sindhi,Software Professional (Others),Pune, India,29\\r\\n176,male,\"5\\'6\"\"\",,,Telugu,,Suryapet, India,24\\r\\n177,male,\"5\\'10\"\"\",Hindu, Balija,Telugu,Teacher,Adoni, India,29\\r\\n178,female,\"5\\'3\"\"\",Hindu, Brahmin,Hindi,Team Member / Staff,Jamshedpur, India,31\\r\\n179,female,\"4\\'11\"\"\",Hindu, Scheduled Caste (SC),Punjabi,Teacher,Rupnagar, India,34\\r\\n180,male,\"5\\'5\"\"\",Hindu, Rajput - Lodhi,Hindi,Agent / Broker / Trader / Contractor,Unnao, India,28\\r\\n181,female,\"5\\'5\"\"\",,others,Tamil,Nurse,Chennai, India,24\\r\\n182,male,\"5\\'11\"\"\",Hindu, Sindhi-Sakkhar,Sindhi,Software Professional,Mumbai, India,29\\r\\n183,female,\"5\\'5\"\"\",Hindu, Balija,Telugu,Accounting Professional (Others),Anantapur, India,26\\r\\n184,female,\"5\\'4\"\"\",Hindu, Baidya,Bengali,Science Professional (Others),Toronto, Canada,29\\r\\n185,female,\"5\\'1\"\"\",,others,Tamil,,Theni, India,30\\r\\n186,male,\"5\\'5\"\"\",,,,Accounting Professional (Others),Gujarat, India,28\\r\\n187,female,\"5\\'1\"\"\",Hindu, Saini,Hindi,Teacher,Faridabad, India,27\\r\\n188,male,,,others,Kannada,Not working,Hubbali-Dharwad, India,26\\r\\n189,female,\"5\\'4\"\"\",Christian, Roman Catholic,Konkani,HR Professional,Mangaluru / Mangalore, India,31\\r\\n190,female,\"4\\'6\"\"\",Hindu, Agri,Marathi,Logistics and Travel Professional,Maharashtra, India,29\\r\\n191,male,\"5\\'6\"\"\",Hindu, Vaishnav,Gujarati,Lawyer,Mumbai, India,30\\r\\n192,male,\"5\\'7\"\"\",,others,Bengali,Not Specified,Kharagpur, India,27\\r\\n193,male,\"5\\'6\"\"\",Hindu, Baniya,Hindi,Software Consultant,Mumbai, India,35\\r\\n194,female,\"5\\'6\"\"\",Hindu, Thakur,Hindi,Not working,Kanpur, India,29\\r\\n195,female,\"5\\'8\"\"\",Hindu, Rajput - Lodhi,Hindi,Managers and Senior Executives,Bengaluru / Bangalore, India,30\\r\\n196,male,\"5\\'0\"\"\",Hindu, Thakur,Hindi,Hardware & Networking professional,Sitapur, India,29\\r\\n197,female,\"5\\'6\"\"\",,others,,Teacher,Kozhikode, India,26\\r\\n198,male,\"5\\'9\"\"\",Hindu, Arora,Punjabi,Entrepreneurs / Business ,Faridabad, India,36\\r\\n199,male,\"5\\'8\"\"\",Hindu, Brahmin,Odia,Medical / Healthcare Professional (Others),Puri, India,32\\r\\n200,female,\"5\\'2\"\"\",Hindu, Bhatia,Sindhi,Marketing Professional,Dubai, United Arab Emirates,29\\r\\n201,female,\"5\\'3\"\"\",Hindu, Valmiki,Hindi,Not working,Delhi-NCR, India,28\\r\\n202,female,\"5\\'1\"\"\",Hindu, Brahmin,Telugu,Not Specified,Visakhapatnam, India,30\\r\\n203,male,\"5\\'6\"\"\",Hindu, Lingayath,Kannada,Finance Professional,Bengaluru / Bangalore, India,32\\r\\n204,female,\"5\\'1\"\"\",,others,Bengali,Not working,Kharagpur, India,25\\r\\n205,female,\"5\\'7\"\"\",Sikh, Ramdasia,Punjabi,Teacher,Bathinda, India,31\\r\\n206,female,\"4\\'11\"\"\",Hindu, Arya Vysya,Assamese,Not Specified,Delhi, India,25\\r\\n207,female,\"5\\'1\"\"\",Jain, Shwetamber,Gujarati,Marketing Professional,Mumbai, India,34\\r\\n208,male,\"5\\'7\"\"\",Hindu, Valmiki,Hindi,Marketing Professional,Delhi, India,28\\r\\n209,female,\"5\\'4\"\"\",Sikh, Khatri,Punjabi,Banking Professional,Delhi, India,28\\r\\n210,female,\"5\\'6\"\"\",Hindu, Scheduled Caste (SC),Marathi,Lawyer,Mumbai, India,34\\r\\n211,female,\"5\\'2\"\"\",Hindu, Arora,Punjabi,Fashion Designer,Faridabad, India,33\\r\\n212,male,\"5\\'11\"\"\",,,,,Mumbai, India,29\\r\\n213,female,\"5\\'2\"\"\",Muslim, Memon,Hindi,Not working,Hyderabad, India,26\\r\\n214,male,\"6\\'0\"\"\",Hindu, Brahmin,Bengali,Hardware & Networking professional,Other, Netherlands,33\\r\\n215,female,\"5\\'0\"\"\",Hindu, Kayastha,Bengali,Web / UX Designers,Bengaluru / Bangalore, India,34\\r\\n216,female,\"5\\'6\"\"\",,others,Malayalam,Admin Professional,Thiruvananthapuram, India,30\\r\\n217,male,\"5\\'8\"\"\",Hindu, Brahmin,Marwari,Managers and Senior Executives,Mumbai, India,30\\r\\n218,male,\"5\\'8\"\"\",,,,,Palakkad, India,24\\r\\n219,male,\"5\\'0\"\"\",,others,Marathi,Agent / Broker / Trader / Contractor,Nandurbar, India,29\\r\\n220,male,\"5\\'6\"\"\",Hindu, Brahmin,Bengali,Software Consultant,Bengaluru / Bangalore, India,30\\r\\n221,female,\"5\\'3\"\"\",Hindu, Baishnab,Assamese,Marketing Professional,Bengaluru / Bangalore, India,27\\r\\n222,female,\"5\\'4\"\"\",Hindu, Arya Vysya,Telugu,Non IT Engineer (Others),Bengaluru / Bangalore, India,25\\r\\n223,male,,,others,Hindi,,, India,28\\r\\n224,female,\"5\\'3\"\"\",Sikh, Kshatriya,Punjabi,Pharmacist,Ludhiana, India,29\\r\\n225,female,\"5\\'8\"\"\",Hindu, Agarwal,Punjabi,Marketing Professional,Melbourne, Australia,29\\r\\n226,male,\"5\\'0\"\"\",,,Kannada,,, India,28\\r\\n227,male,\"5\\'4\"\"\",,others,Tamil,,Chennai, India,31\\r\\n228,male,\"5\\'7\"\"\",Hindu, Goud,Telugu,Marketing Professional,Karimnagar, India,29\\r\\n229,female,\"5\\'0\"\"\",Hindu, Baniya,Hindi,Entrepreneurs / Business ,Delhi, India,35\\r\\n230,male,\"5\\'8\"\"\",Hindu, Scheduled Caste (SC),Kannada,Managers and Senior Executives,Bengaluru / Bangalore, India,34\\r\\n231,female,\"5\\'4\"\"\",Hindu, Sahu,Chattisgarhi,Not Specified,Janjgir, India,28\\r\\n232,female,\"4\\'10\"\"\",Hindu, Baishnab,Bengali,Not Specified,Alipore, India,25\\r\\n233,female,\"5\\'7\"\"\",,others,Telugu,,Hyderabad, India,22\\r\\n234,female,\"5\\'8\"\"\",Hindu, Baidya,Bengali,Not Specified,Kolkata, India,26\\r\\n235,female,\"5\\'3\"\"\",,others,Marwari,Chartered Accountant,Ahmedabad, India,24\\r\\n236,female,\"5\\'0\"\"\",Hindu, Panchal,Gujarati,Not Specified,Deoghar, India,30\\r\\n237,male,\"5\\'9\"\"\",Hindu, Thakur,Hindi,Marketing Professional,Mumbai, India,28\\r\\n238,female,\"5\\'3\"\"\",Sikh, Gursikh,Punjabi,Not working,Patiala, India,29\\r\\n239,male,\"5\\'9\"\"\",Christian, Roman Catholic,Malayalam,HR Professional,Bengaluru / Bangalore, India,31\\r\\n240,male,\"5\\'9\"\"\",Hindu, Viswabrahmin,Telugu,Software Professional,Hyderabad, India,29\\r\\n241,male,\"5\\'10\"\"\",,others,,,, India,29\\r\\n242,male,\"5\\'7\"\"\",,,,Sales Professional / Marketing,Ahmedabad, India,22\\r\\n243,male,\"5\\'7\"\"\",,others,Telugu,Finance Professional,Mancherial, India,33\\r\\n244,male,,,,,,, India,32\\r\\n245,female,\"5\\'0\"\"\",Hindu, Lingayath,Kannada,Admin Professional,Hubbali-Dharwad, India,29\\r\\n246,male,\"5\\'11\"\"\",Hindu, Kalita,Assamese,Mechanical / Production Engineer,Chandigarh, India,31\\r\\n247,male,\"5\\'4\"\"\",Hindu, OBC - Barber/Naayee,Gujarati,Mechanical / Production Engineer,Bharuch, India,29\\r\\n248,male,\"5\\'8\"\"\",Hindu, Sindhi-Sakkhar,Sindhi,Entrepreneurs / Business ,Kanpur, India,30\\r\\n249,male,\"5\\'4\"\"\",Hindu, Rajput - Lodhi,Hindi,Accounting Professional (Others),Mathura, India,28\\r\\n250,male,\"5\\'9\"\"\",Jain, Shwetamber,Gujarati,Investment Professional,Belleville- NJ, USA,35\\r\\n251,female,\"4\\'5\"\"\",Hindu, Balija,Kannada,Team Member / Staff,Bengaluru / Bangalore, India,26\\r\\n252,male,\"6\\'1\"\"\",Hindu, Goud,Telugu,Banking Professional,Hyderabad, India,29\\r\\n253,male,\"5\\'1\"\"\",Hindu, Bhatia,Gujarati,Not working,Gandhinagar, India,30\\r\\n254,male,\"5\\'7\"\"\",Hindu, Panchal,Gujarati,Finance Professional,Ahmedabad, India,29\\r\\n255,male,\"5\\'5\"\"\",Hindu, Scheduled Caste (SC),Hindi,Training Professional (Others),Mandi, India,33\\r\\n256,male,\"5\\'10\"\"\",,,,,Jhunjhunun, India,34\\r\\n257,female,\"5\\'4\"\"\",Hindu, Brahmin,Bengali,Marketing Professional,Mumbai, India,30\\r\\n258,male,\"5\\'6\"\"\",Hindu, Sindhi-Sakkhar,Sindhi,Accounting Professional (Others),Delhi, India,28\\r\\n259,male,\"5\\'5\"\"\",Hindu, Rajput - Lodhi,Hindi,Not working,Jhansi, India,28\\r\\n260,female,\"5\\'2\"\"\",Hindu, Baidya,Bengali,Team Member / Staff,Kolkata, India,28\\r\\n261,male,\"5\\'9\"\"\",Sikh, Gursikh,Punjabi,Team Member / Staff,Punjab, India,32\\r\\n262,male,\"5\\'5\"\"\",Hindu, Kaibarta,Odia,Marketing Professional,Cuttack, India,31\\r\\n263,male,\"5\\'9\"\"\",Hindu, Patel,Hindi,Doctor / Healthcare Professional,Raipur, India,34\\r\\n264,female,\"5\\'1\"\"\",Hindu, Brahmin,Bengali,Research Scholar,Cambridge- MA, USA,31\\r\\n265,male,\"4\\'5\"\"\",Muslim, Memon,Bengali,Banking Professional,Uttar Pradesh, India,28\\r\\n266,male,\"5\\'1\"\"\",,others,,,Panruti, India,32\\r\\n267,female,\"5\\'0\"\"\",Hindu, Panchal,Gujarati,Not Specified,Ahmedabad, India,27\\r\\n268,male,\"5\\'11\"\"\",Sikh, Khatri,Punjabi,Mechanical / Production Engineer,Ludhiana, India,32\\r\\n269,male,\"5\\'11\"\"\",Hindu, Patel,Gujarati,Finance Professional,Ahmedabad, India,31\\r\\n270,male,\"5\\'9\"\"\",Hindu, Agri,Marathi,Entrepreneurs / Business ,Raigad, India,30\\r\\n271,male,\"5\\'10\"\"\",Hindu, Kaibarta,Odia,Banking Professional,Bengaluru / Bangalore, India,31\\r\\n272,male,\"5\\'2\"\"\",Hindu, Agri,Marathi,Electronics / Telecom Engineer,Mumbai, India,30\\r\\n273,female,\"5\\'2\"\"\",Hindu, Saini,Hindi,Not Specified,Gurgaon, India,27\\r\\n274,female,,,others,Telugu,Not Specified,Tirupati, India,23\\r\\n275,female,\"5\\'6\"\"\",Hindu, Bhandari,Marathi,Not working,Mumbai, India,32\\r\\n276,female,,,others,Kannada,Not Specified,Shivamogga, India,22\\r\\n277,male,\"5\\'9\"\"\",,others,Marathi,Electronics / Telecom Engineer,Nagpur, India,32\\r\\n278,female,\"5\\'4\"\"\",Hindu, Scheduled Caste (SC),Odia,Consultant / Supervisor / Team Leads,Bengaluru / Bangalore, India,31\\r\\n279,male,\"5\\'6\"\"\",Hindu, Brahmin,Hindi,Actor,Patna, India,30\\r\\n280,male,\"5\\'6\"\"\",Hindu, Goud,Odia,Non IT Engineer (Others),Kolkata, India,29\\r\\n281,male,\"5\\'11\"\"\",Hindu, Brahmin,Marathi,Software Professional (Others),Pune, India,30\\r\\n282,female,\"5\\'3\"\"\",Hindu, Sindhi-Sakkhar,Hindi,Not Specified,Raigarh, India,29\\r\\n283,female,\"6\\'0\"\"\",Hindu, Ahom,Assamese,Finance Professional,Golaghat, India,27\\r\\n284,male,\"5\\'4\"\"\",Hindu, Rajput - Lodhi,Hindi,Banking Professional,Aligarh, India,31\\r\\n285,male,\"5\\'8\"\"\",Hindu, Arora,Hindi,Software Professional,Bengaluru / Bangalore, India,33\\r\\n286,male,\"5\\'10\"\"\",Hindu, Vanniyar,Tamil,Not Specified,Karnataka, India,28\\r\\n287,male,\"5\\'8\"\"\",Hindu, Agarwal,Punjabi,Entrepreneurs / Business ,Patiala, India,33\\r\\n288,female,\"5\\'1\"\"\",Hindu, OBC - Barber/Naayee,Hindi,Not working,Agra, India,27\\r\\n289,male,\"5\\'11\"\"\",Hindu, Lingayath,Kannada,Medical / Healthcare Professional (Others),Bidar, India,33\\r\\n290,female,\"5\\'0\"\"\",,others,Bengali,Not working,Howra, India,26\\r\\n291,female,\"5\\'4\"\"\",,,,Finance Professional,Hyderabad, India,\\r\\n292,male,\"5\\'8\"\"\",Hindu, Arora,Hindi,Entrepreneurs / Business ,Ludhiana, India,34\\r\\n293,male,\"5\\'7\"\"\",Hindu, Sindhi-Sakkhar,Sindhi,Sales Professional / Marketing,Surat, India,28\\r\\n294,male,\"5\\'9\"\"\",Hindu, Vaishnav,Gujarati,Chartered Accountant,Dubai, United Arab Emirates,31\\r\\n295,female,\"5\\'2\"\"\",Hindu, Baniya,Hindi,Finance Professional,Delhi, India,36\\r\\n296,male,\"5\\'0\"\"\",Hindu, Baishnab,Bengali,Not Specified,Bankura, India,27\\r\\n297,female,\"4\\'10\"\"\",Hindu, Patel,Gujarati,Not working,Surat, India,28\\r\\n298,male,\"5\\'11\"\"\",Hindu, Panchal,Hindi,Software Professional (Others),Dungarpur, India,29\\r\\n299,male,\"5\\'6\"\"\",Hindu, Goud,Hindi,Not Specified,Jharsuguda, India,29\\r\\n300,male,\"5\\'6\"\"\",Hindu, Scheduled Caste (SC),Gujarati,Entertainment Professional,Vancouver, Canada,34\\r\\n301,female,\"5\\'4\"\"\",Sikh, Ramdasia,Punjabi,Teacher,Hoshiarpur, India,29\\r\\n302,male,,,others,,,, India,26\\r\\n303,male,\"5\\'6\"\"\",Jain, Shwetamber,Hindi,Entrepreneurs / Business ,Deoghar, India,35\\r\\n304,male,\"5\\'4\"\"\",Christian, Born Again,Telugu,Medical / Healthcare Professional (Others),Hyderabad, India,32\\r\\n305,male,\"5\\'8\"\"\",Hindu, Brahmin,Konkani,Software Professional (Others),Chennai, India,32\\r\\n306,female,\"5\\'0\"\"\",,,,Consultant / Supervisor / Team Leads,Hyderabad, India,\\r\\n307,female,\"4\\'5\"\"\",Hindu, Baishya,Bengali,Not working,Balurghat, India,28\\r\\n308,female,\"5\\'0\"\"\",,others,Malayalam,Admin Professional,Hyderabad, India,25\\r\\n309,male,\"5\\'7\"\"\",Hindu, Lingayath,Kannada,Accounting Professional (Others),Davanagere, India,33\\r\\n310,female,\"5\\'2\"\"\",Hindu, Arora,Hindi,Managers and Senior Executives,Delhi, India,31\\r\\n311,female,\"5\\'3\"\"\",Hindu, Valmiki,Hindi,Not working,Dehradun, India,30\\r\\n312,male,\"5\\'9\"\"\",Jain, Shwetamber,Hindi,HR Professional,Rajasthan, India,33\\r\\n313,female,\"4\\'9\"\"\",Hindu, Lingayath,Kannada,Not Specified,Vijayapura / Bijapur, India,29\\r\\n314,male,\"5\\'6\"\"\",Hindu, Brahmin,Marathi,Software Consultant,Pune, India,30\\r\\n315,male,\"5\\'6\"\"\",Hindu, Brahmin,Bengali,Non IT Engineer (Others),Pune, India,30\\r\\n316,male,\"5\\'7\"\"\",,others,Tamil,,Chennai, India,31\\r\\n317,male,\"5\\'7\"\"\",Hindu, Thakur,Hindi,Accounting Professional (Others),Lucknow, India,28\\r\\n318,male,\"5\\'11\"\"\",Sikh, Ramdasia,Punjabi,Entrepreneurs / Business ,Mohali, India,30\\r\\n319,male,\"5\\'2\"\"\",,,Kannada,,Udupi, India,25\\r\\n320,male,\"6\\'0\"\"\",,,Tulu,,Mumbai, India,31\\r\\n321,male,\"5\\'8\"\"\",Hindu, Brahmin,Marathi,Non IT Engineer (Others),Tempe- AZ, USA,30\\r\\n322,male,\"4\\'7\"\"\",,others,Marathi,,Bhandara, India,31\\r\\n323,female,\"5\\'2\"\"\",,others,Bengali,Marketing Professional,Kolkata, India,34\\r\\n324,male,\"5\\'11\"\"\",Hindu, Patel,Hindi,Consultant / Supervisor / Team Leads,Rajnandgaon, India,32\\r\\n325,male,\"5\\'7\"\"\",Christian, Roman Catholic,English,Entrepreneurs / Business ,Stockbridge- GA, USA,31\\r\\n326,male,\"6\\'2\"\"\",Hindu, Brahmin,Gujarati,Not Specified,Surat, India,32\\r\\n327,male,\"5\\'8\"\"\",,others,Tamil,Software Professional,Theni, India,25\\r\\n328,male,\"6\\'0\"\"\",Hindu, Agri,Marathi,Team Member / Staff,Maharashtra, India,28\\r\\n329,male,\"6\\'0\"\"\",Hindu, Brahmin,Telugu,Consultant / Supervisor / Team Leads,Hyderabad, India,33\\r\\n330,female,\"5\\'4\"\"\",Hindu, Thakur,Hindi,Not working,Lucknow, India,29\\r\\n331,female,\"5\\'2\"\"\",Hindu, Ahom,Assamese,Not Specified,Delhi, India,27\\r\\n332,female,\"5\\'5\"\"\",Hindu, Vaishnav,Gujarati,Sales Professional / Marketing,Mumbai, India,30\\r\\n333,male,\"5\\'1\"\"\",,others,Kannada,Other Airline Professional,Belagavi / Belagaum, India,29\\r\\n334,female,\"5\\'4\"\"\",,others,Tamil,,Selangor, Malaysia,32\\r\\n335,female,\"5\\'0\"\"\",Jain, Shwetamber,Hindi,Teacher,Kolkata, India,33\\r\\n336,male,\"5\\'5\"\"\",Hindu, Saini,Hindi,Doctor / Healthcare Professional,Delhi, India,31\\r\\n337,female,\"5\\'1\"\"\",,others,,Software Professional (Others),Cambridge- MA, USA,31\\r\\n338,female,\"5\\'4\"\"\",,others,Telugu,,Hyderabad,,25\\r\\n339,male,\"5\\'7\"\"\",Jain, Shwetamber,Gujarati,Software Professional (Others),Pune, India,33\\r\\n340,male,\"5\\'8\"\"\",Muslim, Memon,Hindi,Not Specified,Chhattisgarh, India,27\\r\\n341,female,\"5\\'4\"\"\",Hindu, Vanniyar,Tamil,Software Professional,Bengaluru / Bangalore, India,30\\r\\n342,female,\"5\\'4\"\"\",Hindu, Sahu,Hindi,Teacher,Bhopal, India,29\\r\\n343,,,,others,Bengali,Social Worker / Volunteer / NGO,Midnapore, India,33\\r\\n344,female,\"5\\'4\"\"\",Hindu, Thakur,Hindi,Not Specified,Ghaziabad, India,27\\r\\n345,female,\"5\\'6\"\"\",,others,Kannada,,Mumbai, India,23\\r\\n346,male,\"5\\'6\"\"\",Jain, Shwetamber,Marwari,Finance Professional,Pune, India,32\\r\\n347,male,\"5\\'8\"\"\",,others,Bengali,Marketing Professional,Bengaluru / Bangalore, India,34\\r\\n348,male,\"5\\'8\"\"\",Sikh, Gursikh,Punjabi,Admin Professional,Delhi, India,30\\r\\n349,male,\"5\\'4\"\"\",Hindu, Patel,Hindi,Not Specified,Bilaspur, India,34\\r\\n350,male,\"5\\'8\"\"\",Hindu, Scheduled Caste (SC),Gujarati,Software Professional,Anand, India,34\\r\\n351,male,\"5\\'10\"\"\",Sikh, Gursikh,Punjabi,Banking Professional,Jammu, India,32\\r\\n352,male,\"5\\'6\"\"\",Hindu, Kalita,Assamese,Defense Services,Dhemaji, India,28\\r\\n353,female,\"5\\'6\"\"\",Hindu, Ahom,Assamese,Not Specified,Guwahati, India,27\\r\\n354,male,\"5\\'6\"\"\",,others,Telugu,Software Consultant,New York- NY, USA,35\\r\\n355,male,,,others,Hindi,,, India,35\\r\\n356,female,\"5\\'1\"\"\",Hindu, Billava,Kannada,Not working,Kundapura, India,29\\r\\n357,female,\"4\\'8\"\"\",Hindu, Goud,Telugu,Event Manager,Anantapur, India,28\\r\\n358,male,\"5\\'6\"\"\",,others,,,Howra, India,29\\r\\n359,female,\"5\\'0\"\"\",Hindu, Balija,Telugu,Not working,Anantapur, India,29\\r\\n360,female,\"5\\'4\"\"\",Hindu, Sindhi-Sakkhar,Sindhi,Not Specified,Mumbai, India,27\\r\\n361,male,\"5\\'7\"\"\",Hindu, Bhandari,Konkani,Electronics / Telecom Engineer,Goa, India,30\\r\\n362,male,\"5\\'7\"\"\",Hindu, Brahmin,Hindi,Electronics / Telecom Engineer,Durg, India,33\\r\\n363,female,\"5\\'2\"\"\",Hindu, Brahmin,Gujarati,Science Professional (Others),Edmonton, Canada,30\\r\\n364,female,\"5\\'4\"\"\",Hindu, Brahmin,Telugu,Student,Sunnyvale- CA, USA,28\\r\\n365,female,\"5\\'1\"\"\",Hindu, Baishya,Bengali,Not working,Chinsurah, India,27\\r\\n366,male,,,others,,,, India,27\\r\\n367,female,\"4\\'11\"\"\",,others,,,Mumbai, India,28\\r\\n368,male,\"5\\'4\"\"\",Sikh, Ramdasia,English,Finance Professional,Hoshiarpur, India,32\\r\\n369,male,\"5\\'4\"\"\",Hindu, Brahmin,Telugu,Customer Support / BPO / KPO Professional,Hyderabad, India,32\\r\\n370,female,\"5\\'2\"\"\",Hindu, Brahmin,Marathi,Consultant / Supervisor / Team Leads,Akola, India,30\\r\\n371,male,\"5\\'6\"\"\",Sikh, Khatri,Punjabi,Electronics / Telecom Engineer,Ludhiana, India,32\\r\\n372,female,\"5\\'2\"\"\",Hindu, OBC - Barber/Naayee,Hindi,Teacher,Ujjain, India,29\\r\\n373,female,\"5\\'1\"\"\",,others,Telugu,,Hyderabad,,25\\r\\n374,,\"4\\'5\"\"\",,others,Hindi,Not Specified,Bihar Sharif, India,21\\r\\n375,female,\"5\\'1\"\"\",Hindu, Scheduled Caste (SC),Hindi,Not Specified,Delhi, India,34\\r\\n376,male,\"5\\'9\"\"\",,others,,Entrepreneurs / Business ,Mumbai, India,31\\r\\n377,female,\"5\\'2\"\"\",,others,Tamil,,Other, Sweden,32\\r\\n378,male,\"6\\'2\"\"\",,,,Entrepreneurs / Business ,Hyderabad, India,25\\r\\n379,female,\"5\\'7\"\"\",Hindu, Goud,Telugu,Not Specified,Hyderabad, India,29\\r\\n380,female,\"5\\'5\"\"\",Hindu, Valmiki,Kannada,Not Specified,Hosapete, India,27\\r\\n381,male,\"5\\'0\"\"\",Muslim, Memon,Hindi,Software Professional,Ranchi, India,26\\r\\n382,male,,,,,,Vaikom, India,27\\r\\n383,female,\"5\\'0\"\"\",Hindu, Lingayath,Kannada,Doctor / Healthcare Professional,Belagavi / Belagaum, India,29\\r\\n384,female,\"5\\'5\"\"\",Sikh, Khatri,Punjabi,Marketing Professional,Mumbai, India,31\\r\\n385,male,\"5\\'8\"\"\",Sikh, Kshatriya,Punjabi,Designer (Others),Punjab, India,32\\r\\n386,female,\"5\\'1\"\"\",,,,Teacher,, India,23\\r\\n387,male,\"5\\'10\"\"\",Hindu, Bhandari,Marathi,Banking Professional,Maharashtra, India,32\\r\\n388,female,\"5\\'4\"\"\",Hindu, Kalita,Assamese,Media Professional,Panaji, India,27\\r\\n389,female,\"5\\'6\"\"\",,,,Chartered Accountant,Delhi, India,31\\r\\n390,male,\"5\\'6\"\"\",Hindu, Rajput - Lodhi,Hindi,Software Professional,Delhi, India,30\\r\\n391,female,\"5\\'5\"\"\",Hindu, Kshatriya,Hindi,Science Professional (Others),Cary- NC, USA,32\\r\\n392,male,\"5\\'5\"\"\",Hindu, Lingayath,Kannada,Investment Professional,Kalaburagi / Gulbarga, India,32\\r\\n393,male,\"5\\'10\"\"\",Hindu, Viswabrahmin,Telugu,Entrepreneurs / Business ,Nirmal, India,31\\r\\n394,male,\"5\\'7\"\"\",Hindu, Viswabrahmin,Telugu,Civil Engineer,Hyderabad, India,29\\r\\n395,male,\"5\\'8\"\"\",Christian, Born Again,Punjabi,Nurse,Saint Catharines, Canada,31\\r\\n396,male,\"5\\'7\"\"\",Hindu, Kayastha,Bengali,Software Professional (Others),Madison- WI, USA,33\\r\\n397,female,\"5\\'3\"\"\",,others,Bengali,Teacher,Chinsurah, India,29\\r\\n398,male,\"4\\'5\"\"\",,,Hindi,Event Manager,Kolkata, India,28\\r\\n399,male,\"5\\'3\"\"\",Hindu, Billava,Kannada,Accounting Professional (Others),Udupi, India,28\\r\\n400,female,\"5\\'7\"\"\",,,,,Chennai, India,24\\r\\n401,female,\"5\\'1\"\"\",Hindu, Sahu,Odia,Finance Professional,Dhenkanal, India,26\\r\\n402,male,\"6\\'1\"\"\",Christian, Roman Catholic,Konkani,Managers and Senior Executives,Mumbai, India,31\\r\\n403,male,\"5\\'5\"\"\",Hindu, Brahmin,Marathi,Entrepreneurs / Business ,Pune, India,32\\r\\n404,female,\"5\\'9\"\"\",Hindu, Brahmin,Gujarati,Physiotherapist / Occupational Therapist,New York- NY, USA,31\\r\\n405,female,\"5\\'11\"\"\",Hindu, Vaishnav,Gujarati,Actor,Mumbai, India,31\\r\\n406,male,\"5\\'9\"\"\",Hindu, Brahmin,Marathi,Software Professional,Kolhapur, India,32\\r\\n407,female,\"5\\'2\"\"\",Hindu, Patel,Gujarati,Not working,Surat, India,27\\r\\n408,female,\"5\\'2\"\"\",Jain, Shwetamber,Gujarati,Medical / Healthcare Professional (Others),Denver- CO, USA,35\\r\\n409,male,,,others,Hindi,VP / AVP / GM / DGM,Indore, India,27\\r\\n410,male,\"5\\'10\"\"\",Christian, Marthoma,Malayalam,Software Professional,Mesquite- TX, USA,30\\r\\n411,female,,,others,,,, Malaysia,29\\r\\n412,male,\"5\\'4\"\"\",Hindu, Goud,Telugu,Fashion Designer,Nandyal, India,32\\r\\n413,female,\"4\\'9\"\"\",Hindu, Viswabrahmin,Telugu,Marketing Professional,Bengaluru / Bangalore, India,29\\r\\n414,male,\"6\\'1\"\"\",,others,Telugu,,Hyderabad, India,26\\r\\n415,female,\"5\\'4\"\"\",Hindu, Kalita,Assamese,Doctor / Healthcare Professional,Guwahati, India,27\\r\\n416,male,\"5\\'11\"\"\",Sikh, Ramdasia,Punjabi,Banking Professional,Mohali, India,29\\r\\n417,female,\"4\\'5\"\"\",Hindu, Billava,Kannada,Investment Professional,Begusarai, India,30\\r\\n418,male,\"5\\'6\"\"\",,others,,,Hyderabad, India,24\\r\\n419,female,\"5\\'6\"\"\",Hindu, Brahmin,Hindi,Student,Delhi, India,28\\r\\n420,male,\"6\\'0\"\"\",,others,,,Dubai, United Arab Emirates,34\\r\\n421,female,,,others,Kannada,Software Professional (Others),Bengaluru / Bangalore, India,34\\r\\n422,female,\"5\\'0\"\"\",Hindu, Kaibarta,Odia,Not working,Cuttack, India,28\\r\\n423,female,\"5\\'6\"\"\",Hindu, Agarwal,Punjabi,Not Specified,Alwar, India,29\\r\\n424,male,\"5\\'9\"\"\",Hindu, Goud,Telugu,Software Professional (Others),Hyderabad, India,31\\r\\n425,male,\"5\\'6\"\"\",Hindu, Brahmin,Hindi,Merchant Naval Officer,Noida, India,33\\r\\n426,female,\"5\\'4\"\"\",Sikh, Kshatriya,Punjabi,Medical / Healthcare Professional (Others),Ludhiana, India,29\\r\\n427,male,\"5\\'9\"\"\",Hindu, Viswabrahmin,Telugu,Mechanical / Production Engineer,Rajahmundry, India,28\\r\\n428,male,\"5\\'10\"\"\",Jain, Shwetamber,Gujarati,Sales Professional / Marketing,Mumbai, India,33\\r\\n429,male,\"5\\'10\"\"\",,others,,,Bengaluru / Bangalore, India,30\\r\\n430,female,\"5\\'1\"\"\",,,Hindi,Not Specified,, India,23\\r\\n431,male,\"5\\'4\"\"\",Hindu, Scheduled Caste (SC),Hindi,Doctor / Healthcare Professional,Kolkata, India,35\\r\\n432,male,\"5\\'9\"\"\",Hindu, Patel,Gujarati,Software Professional (Others),Arlington Heights- IL, USA,33\\r\\n433,male,\"5\\'6\"\"\",,,,,Dahod, India,\\r\\n434,male,\"5\\'11\"\"\",Hindu, Lingayath,Kannada,Pharmacist,Mysuru / Mysore, India,35\\r\\n435,male,\"5\\'8\"\"\",Hindu, Kayastha,Bengali,Managers and Senior Executives,Ajman, United Arab Emirates,35\\r\\n436,female,\"4\\'5\"\"\",Hindu, Agarwal,Punjabi,Banking Professional,Anantapur, India,30\\r\\n437,female,\"5\\'4\"\"\",Hindu, Valmiki,Kannada,Not working,Tumakuru, India,30\\r\\n438,female,\"5\\'1\"\"\",Hindu, Arya Vysya,Kannada,Not Specified,Raichur, India,24\\r\\n439,male,,,others,Kannada,Civil Engineer,Bengaluru / Bangalore, India,34\\r\\n440,female,\"5\\'3\"\"\",Hindu, Patel,Gujarati,Science Professional (Others),Jersey City- NJ, USA,28\\r\\n441,female,\"5\\'2\"\"\",Jain, Shwetamber,Hindi,Consultant / Supervisor / Team Leads,Jersey City- NJ, USA,32\\r\\n442,female,\"5\\'3\"\"\",Hindu, Kalita,Assamese,Teacher,Guwahati, India,30\\r\\n443,female,\"5\\'3\"\"\",,,Marathi,Not working,Bhandara, India,27\\r\\n444,female,\"5\\'5\"\"\",Hindu, Brahmin,Bengali,VP / AVP / GM / DGM,Kolkata, India,28\\r\\n445,male,\"5\\'9\"\"\",Hindu, OBC - Barber/Naayee,Hindi,Research Scholar,Delhi, India,27\\r\\n446,female,\"5\\'4\"\"\",Hindu, Kayastha,Bengali,Managers and Senior Executives,Bengaluru / Bangalore, India,32\\r\\n447,male,\"5\\'10\"\"\",Sikh, Khatri,Punjabi,Entrepreneurs / Business ,Mumbai, India,33\\r\\n448,male,,,others,Hindi,Medical / Healthcare Professional (Others),, India,28\\r\\n449,male,\"5\\'9\"\"\",Christian, Born Again,Marathi,Team Member / Staff,Mumbai, India,32\\r\\n450,male,\"5\\'11\"\"\",,others,Marathi,,, India,29\\r\\n451,male,\"5\\'11\"\"\",Hindu, Sahu,Hindi,CxO / Chairman / Director / President,Mumbai, India,29\\r\\n452,female,\"5\\'3\"\"\",,others,Marwari,,Navsari, India,33\\r\\n453,male,\"5\\'5\"\"\",Hindu, Lingayath,Kannada,CxO / Chairman / Director / President,Seattle- WA, USA,33\\r\\n454,male,\"5\\'7\"\"\",Christian, Marthoma,Malayalam,Not Specified,Al Khawr, Qatar,31\\r\\n455,male,\"5\\'0\"\"\",,others,Kannada,Logistics and Travel Professional,Challakere, India,27\\r\\n456,female,\"4\\'10\"\"\",Sikh, Khatri,Punjabi,Not Specified,Kanpur, India,31\\r\\n457,female,\"4\\'7\"\"\",Hindu, Patel,Gujarati,Not Specified,Bhavnagar, India,29\\r\\n458,male,\"5\\'7\"\"\",Hindu, Lingayath,Marathi,Mechanical / Production Engineer,Solapur, India,34\\r\\n459,male,\"5\\'8\"\"\",Hindu, Brahmin,Marathi,Software Professional,New York- NY, USA,31\\r\\n460,female,\"5\\'0\"\"\",Hindu, Kaibarta,Odia,Not Specified,Cuttack, India,27\\r\\n461,male,\"5\\'9\"\"\",Jain, Shwetamber,Gujarati,Hardware & Networking professional,Toronto, Canada,33\\r\\n462,male,\"4\\'6\"\"\",,others,Telugu,,Yadagirigutta, India,28\\r\\n463,male,\"5\\'4\"\"\",,others,Telugu,,Nizamabad, India,26\\r\\n464,male,\"5\\'7\"\"\",Hindu, Vaishnav,Gujarati,Civil Engineer,Vadodara, India,33\\r\\n465,female,\"5\\'0\"\"\",,others,Bengali,Finance Professional,Kolkata, India,29\\r\\n466,male,\"5\\'5\"\"\",Muslim, Memon,Hindi,Admin Professional,Hanumangarh, India,28\\r\\n467,male,\"5\\'10\"\"\",Muslim, Memon,Gujarati,Logistics and Travel Professional,Ahmedabad, India,26\\r\\n468,male,\"5\\'8\"\"\",Sikh, Ramdasia,Punjabi,Banking Professional,Mohali, India,30\\r\\n469,male,\"5\\'11\"\"\",Hindu, Brahmin,Hindi,Electronics / Telecom Engineer,Jaipur, India,33\\r\\n470,male,\"5\\'3\"\"\",Hindu, Panchal,Gujarati,Mechanical / Production Engineer,Ahmedabad, India,30\\r\\n471,female,\"5\\'0\"\"\",,others,Bengali,Not working,Siliguri, India,25\\r\\n472,male,\"5\\'5\"\"\",Hindu, Scheduled Caste (SC),Punjabi,IAS / IRS / IES / IFS,Jalandhar, India,35\\r\\n473,male,\"5\\'7\"\"\",Hindu, Balija,Telugu,Marketing Professional,Chittoor, India,28\\r\\n474,male,\"4\\'11\"\"\",Hindu, Vaishnav,Gujarati,Writer,Bhavnagar, India,30\\r\\n475,male,\"5\\'7\"\"\",Hindu, Kayastha,Bengali,Software Professional (Others),London, United Kingdom,35\\r\\n476,female,\"5\\'6\"\"\",Hindu, Brahmin,Bengali,Customer Support / BPO / KPO Professional,Mumbai, India,28\\r\\n477,female,\"5\\'2\"\"\",Hindu, Arya Vysya,Telugu,Medical / Healthcare Professional (Others),Bengaluru / Bangalore, India,25\\r\\n478,female,\"5\\'2\"\"\",Jain, Shwetamber,Gujarati,Designer (Others),Toronto, Canada,32\\r\\n479,female,\"5\\'6\"\"\",,others,Telugu,,Bengaluru / Bangalore, India,31\\r\\n480,male,\"5\\'10\"\"\",Hindu, Brahmin,Gujarati,Mechanical / Production Engineer,Anand, India,30\\r\\n481,female,\"5\\'1\"\"\",Muslim, Memon,Hindi,Lecturer,Uttar Pradesh, India,26\\r\\n482,female,\"5\\'5\"\"\",Muslim, Memon,Kutchi,Not working,Buldhana, India,29\\r\\n483,male,\"5\\'5\"\"\",Hindu, Patel,Gujarati,Managers and Senior Executives,Barking And Dagenham, United Kingdom,34\\r\\n484,female,\"5\\'9\"\"\",Christian, Born Again,Tamil,Not working,Bengaluru / Bangalore, India,30\\r\\n485,female,\"5\\'2\"\"\",Christian, Marthoma,Malayalam,Accounting Professional (Others),Atlanta- GA, USA,32\\r\\n486,female,\"5\\'9\"\"\",Hindu, Brahmin,Marathi,Not Specified,Florida, USA,29\\r\\n487,male,\"5\\'8\"\"\",Hindu, Baidya,Bengali,Other Airline Professional,Agra, India,29\\r\\n488,female,\"5\\'3\"\"\",Hindu, Viswabrahmin,Telugu,Social Worker / Volunteer / NGO,Kadiri, India,28\\r\\n489,female,\"5\\'5\"\"\",Hindu, Billava,Kannada,Software Professional (Others),Udupi, India,30\\r\\n490,female,\"5\\'6\"\"\",Hindu, Brahmin,Marathi,Admin Professional,Mumbai, India,30\\r\\n491,male,\"5\\'9\"\"\",Hindu, Brahmin,Hindi,Managers and Senior Executives,Bengaluru / Bangalore, India,33\\r\\n492,male,\"5\\'8\"\"\",Hindu, Viswabrahmin,Telugu,Jewellery Designer,Berhampur, India,29\\r\\n493,male,\"6\\'0\"\"\",,others,Telugu,Software Professional (Others),Hyderabad, India,30\\r\\n494,male,\"5\\'8\"\"\",,others,Marathi,,, India,31\\r\\n495,male,\"5\\'11\"\"\",Hindu, Brahmin,Marathi,Logistics and Travel Professional,Pune, India,31\\r\\n496,female,\"5\\'6\"\"\",Hindu, Brahmin,Marathi,Software Professional (Others),Pune, India,31\\r\\n497,female,\"5\\'1\"\"\",Christian, Roman Catholic,Tamil,Consultant / Supervisor / Team Leads,Mumbai, India,29\\r\\n498,female,\"5\\'0\"\"\",Hindu, Balija,Telugu,Not Specified,Chennai, India,27\\r\\n499,male,\"5\\'9\"\"\",,others,Tamil,Medical / Healthcare Professional (Others),Chennai, India,29\\r\\n500,male,\"5\\'7\"\"\",Hindu, Sahu,Odia,Banking Professional,Baleshwar, India,27\\r\\n501,male,\"5\\'6\"\"\",Hindu, Bhatia,Gujarati,Not Specified,Mumbai, India,29\\r\\n502,female,\"5\\'4\"\"\",Hindu, Thakur,Hindi,Investment Professional,Lucknow, India,29\\r\\n503,female,\"5\\'3\"\"\",Hindu, Arora,Punjabi,Software Professional,Delhi, India,32\\r\\n504,male,\"5\\'11\"\"\",Hindu, Kaibarta,Bengali,Finance Professional,Berhampore, India,29\\r\\n505,female,\"5\\'2\"\"\",Hindu, Panchal,Gujarati,Not working,Bharuch, India,30\\r\\n506,male,\"5\\'11\"\"\",,others,Telugu,,Hyderabad, India,28\\r\\n507,male,\"5\\'11\"\"\",Hindu, Brahmin,Marathi,Software Consultant,Pune, India,32\\r\\n508,male,\"4\\'5\"\"\",Hindu, Ahom,Assamese,Not Specified,Anantapur, India,28\\r\\n509,female,\"5\\'0\"\"\",Hindu, Ahom,Assamese,Marketing Professional,Silchar, India,27\\r\\n510,male,\"5\\'7\"\"\",Hindu, Arora,Hindi,Entrepreneurs / Business ,Gurgaon, India,33\\r\\n511,female,\"5\\'5\"\"\",Hindu, Saini,Hindi,Software Professional (Others),Noida, India,29\\r\\n512,female,\"5\\'6\"\"\",Hindu, Lingayath,Kannada,Lecturer,Gadag / Betigeri, India,30\\r\\n513,female,,,others,,,, India,30\\r\\n514,male,\"6\\'0\"\"\",Hindu, Brahmin,Marathi,Software Professional (Others),Pune, India,33\\r\\n515,female,\"4\\'5\"\"\",Hindu, Billava,Tulu,Admin Professional,Mumbai, India,32\\r\\n516,male,\"5\\'2\"\"\",,others,,Non IT Engineer (Others),Manjeri, India,28\\r\\n517,male,\"5\\'5\"\"\",Jain, Shwetamber,Gujarati,Entrepreneurs / Business ,Indore, India,34\\r\\n518,male,\"5\\'5\"\"\",,others,,,Kundapura, India,35\\r\\n519,male,\"5\\'8\"\"\",,,,Student,Boulder- CO, USA,26\\r\\n520,female,\"4\\'7\"\"\",Sikh, Ramdasia,Punjabi,Not Specified,Ludhiana, India,29\\r\\n521,female,\"4\\'8\"\"\",Hindu, Thakur,Hindi,Defense Services,Kanpur, India,27\\r\\n522,male,\"5\\'8\"\"\",Hindu, Vaishnav,Gujarati,Managers and Senior Executives,Bengaluru / Bangalore, India,33\\r\\n523,female,\"5\\'1\"\"\",Hindu, Kalita,Assamese,Not working,Guwahati, India,29\\r\\n524,female,\"4\\'9\"\"\",Hindu, OBC - Barber/Naayee,Marathi,Not working,Ahmednagar, India,28\\r\\n525,female,\"5\\'6\"\"\",Hindu, Brahmin,Hindi,Not working,Meerut, India,31\\r\\n526,male,\"5\\'9\"\"\",,others,Telugu,,Vijayawada,,27\\r\\n527,female,\"5\\'1\"\"\",,others,Malayalam,Lawyer,Kuala Lumpur, Malaysia,31\\r\\n528,female,\"5\\'1\"\"\",,others,Tamil,,Bengaluru / Bangalore, India,29\\r\\n529,female,\"4\\'6\"\"\",Muslim, Memon,English,Company Secretary,Bharuch, India,29\\r\\n530,female,\"5\\'6\"\"\",Hindu, Brahmin,Marathi,Not working,Maharashtra, India,31\\r\\n531,female,\"5\\'5\"\"\",Hindu, Vanniyar,Tamil,Software Professional (Others),Coimbatore, India,29\\r\\n532,male,\"5\\'4\"\"\",Hindu, Brahmin,Marathi,Not Specified,Sangli, India,32\\r\\n533,female,\"5\\'1\"\"\",Hindu, Baishya,Hindi,Customer Support / BPO / KPO Professional,Lucknow, India,29\\r\\n534,male,\"5\\'9\"\"\",Hindu, Sindhi-Sakkhar,Sindhi,Software Professional,Mumbai, India,28\\r\\n535,female,\"5\\'5\"\"\",Hindu, Patel,Gujarati,Not working,Rajkot, India,29\\r\\n536,female,\"5\\'6\"\"\",Hindu, Kayastha,Bengali,Science Professional (Others),Bengaluru / Bangalore, India,32\\r\\n537,male,\"5\\'10\"\"\",Hindu, Patel,Gujarati,Mechanical / Production Engineer,Vancouver, Canada,32\\r\\n538,female,\"5\\'0\"\"\",Hindu, Patel,Hindi,Nurse,Mandla, India,29\\r\\n539,female,\"5\\'1\"\"\",Hindu, Arya Vysya,Telugu,Non IT Engineer (Others),Chennai, India,24\\r\\n540,male,\"5\\'3\"\"\",,others,Telugu,,, India,21\\r\\n541,female,\"5\\'5\"\"\",,,,,Bengaluru / Bangalore, India,24\\r\\n542,male,\"5\\'5\"\"\",Hindu, Kalita,Assamese,Admin Professional,Golaghat, India,31\\r\\n543,male,\"5\\'5\"\"\",Hindu, Agarwal,Punjabi,Mariner,Patiala, India,30\\r\\n544,male,\"5\\'10\"\"\",Jain, Shwetamber,Gujarati,Consultant / Supervisor / Team Leads,Mumbai, India,32\\r\\n545,male,\"5\\'7\"\"\",Hindu, Baidya,Bengali,Event Manager,Delhi, India,27\\r\\n546,female,\"5\\'2\"\"\",Hindu, Brahmin,Bengali,Lawyer,Delhi, India,30\\r\\n547,male,\"5\\'5\"\"\",,others,Telugu,Not Specified,Hyderabad, India,26\\r\\n548,male,\"5\\'9\"\"\",,others,Malayalam,Consultant / Supervisor / Team Leads,Raipur, India,31\\r\\n549,female,\"5\\'6\"\"\",,others,Bengali,Not working,Bankura, India,25\\r\\n550,female,\"5\\'6\"\"\",,,Telugu,,Ranga Reddy, India,25\\r\\n551,male,\"5\\'10\"\"\",Hindu, Kalita,Assamese,Banking Professional,Dispur, India,29\\r\\n552,male,\"5\\'4\"\"\",Christian, Marthoma,Malayalam,Accounting Professional (Others),Texas City- TX, USA,31\\r\\n553,female,\"4\\'11\"\"\",Hindu, Lingayath,Marathi,Accounting Professional (Others),Pune, India,31\\r\\n554,female,\"5\\'5\"\"\",Hindu, Valmiki,Punjabi,HR Professional,Delhi, India,28\\r\\n555,male,\"5\\'7\"\"\",Hindu, Sahu,Hindi,Entrepreneurs / Business ,Jaunpur, India,29\\r\\n556,female,\"5\\'2\"\"\",Hindu, Goud,Telugu,Not Specified,Nalgonda, India,28\\r\\n557,male,\"5\\'6\"\"\",Hindu, Vanniyar,Tamil,Science Professional (Others),Cuddalore, India,31\\r\\n558,female,\"5\\'3\"\"\",Hindu, Brahmin,Telugu,Doctor / Healthcare Professional,Hyderabad, India,31\\r\\n559,male,\"5\\'8\"\"\",,others,Telugu,Managers and Senior Executives,Warangal, India,26\\r\\n560,male,\"5\\'8\"\"\",,others,Malayalam,Advertising Professional,Delhi, India,34\\r\\n561,female,\"5\\'2\"\"\",,others,Bengali,Not working,Suri, India,28\\r\\n562,female,\"5\\'3\"\"\",Sikh, Ramdasia,Punjabi,Not working,Patiala, India,30\\r\\n563,female,\"4\\'11\"\"\",Hindu, Kalita,Assamese,Not working,Guwahati, India,29\\r\\n564,female,\"5\\'2\"\"\",Hindu, Panchal,Gujarati,Not Specified,Surat, India,27\\r\\n565,male,\"5\\'6\"\"\",,others,Telugu,,Eluru, India,26\\r\\n566,female,\"5\\'3\"\"\",Hindu, Rajput - Lodhi,Hindi,Not working,West Bengal, India,29\\r\\n567,male,\"5\\'2\"\"\",Hindu, Baishya,Bengali,Not working,Barasat, India,29\\r\\n568,male,\"5\\'7\"\"\",Hindu, Sahu,Odia,Not Specified,Orissa, India,27\\r\\n569,male,\"5\\'10\"\"\",Hindu, Brahmin,Gujarati,Chef / Sommelier / Food Critic,Vapi, India,33\\r\\n570,male,\"5\\'6\"\"\",Hindu, Sindhi-Sakkhar,Sindhi,Not Specified,Indore, India,27\\r\\n571,female,\"5\\'1\"\"\",Christian, Marthoma,Malayalam,Software Professional (Others),Pune, India,32\\r\\n572,female,\"5\\'3\"\"\",Sikh, Gursikh,Punjabi,Teacher,Delhi, India,31\\r\\n573,female,,,,,,, India,35\\r\\n574,male,\"5\\'8\"\"\",Hindu, Valmiki,Telugu,Accounting Professional (Others),Hyderabad, India,30\\r\\n575,female,\"5\\'2\"\"\",Hindu, Brahmin,Marathi,Interior Designer,Pune, India,29\\r\\n576,male,\"5\\'5\"\"\",Hindu, Baishya,Bengali,Actor,Kolkata, India,28\\r\\n577,male,\"5\\'6\"\"\",Hindu, Arya Vysya,Telugu,Accounting Professional (Others),Gadwal, India,28\\r\\n578,female,\"4\\'5\"\"\",Hindu, Baishnab,Bengali,Not Specified,Begusarai, India,28\\r\\n579,male,\"5\\'10\"\"\",Hindu, OBC - Barber/Naayee,Hindi,Admin Professional,Raipur, India,27\\r\\n580,female,\"5\\'1\"\"\",Hindu, Balija,Kannada,Fashion Designer,Anekal, India,27\\r\\n581,male,\"5\\'5\"\"\",,,,Sales Professional / Marketing,Ghotki, Pakistan,\\r\\n582,male,\"5\\'5\"\"\",Hindu, Brahmin,Hindi,Mechanical / Production Engineer,Bokaro Steel City, India,33\\r\\n583,male,\"5\\'5\"\"\",Hindu, Billava,Kannada,Not Specified,Anantapur, India,28\\r\\n584,male,\"5\\'11\"\"\",Hindu, Bhatia,Gujarati,Professor,Rajkot, India,27\\r\\n585,female,\"5\\'2\"\"\",Hindu, Panchal,Hindi,Not working,Delhi, India,27\\r\\n586,male,\"5\\'10\"\"\",Hindu, OBC - Barber/Naayee,Assamese,Software Professional,Mumbai, India,28\\r\\n587,male,\"5\\'5\"\"\",,others,Telugu,,Mumbai, India,32\\r\\n588,female,\"5\\'4\"\"\",,others,Tamil,Science Professional (Others),, Denmark,28\\r\\n589,female,\"5\\'2\"\"\",Hindu, Scheduled Caste (SC),Hindi,Not Specified,Patiala, India,31\\r\\n590,male,\"5\\'8\"\"\",,others,Malayalam,Company Secretary,Abu Dhabi, United Arab Emirates,32\\r\\n591,male,\"5\\'8\"\"\",Hindu, Sahu,Hindi,Marketing Professional,Mumbai, India,28\\r\\n592,female,\"5\\'9\"\"\",Hindu, Brahmin,Marathi,Designer (Others),Pune, India,29\\r\\n593,female,\"5\\'0\"\"\",Hindu, Brahmin,Hindi,Not Specified,Lucknow, India,30\\r\\n594,male,\"6\\'0\"\"\",Hindu, Kshatriya,Marathi,Software Professional,Bengaluru / Bangalore, India,32\\r\\n595,female,\"5\\'4\"\"\",Sikh, Gursikh,Punjabi,Not working,Kaithal, India,31\\r\\n596,male,\"5\\'8\"\"\",Hindu, Sahu,Hindi,Mechanical / Production Engineer,Jabalpur, India,27\\r\\n597,female,\"5\\'2\"\"\",Hindu, Vanniyar,Tamil,Not Specified,Chengam, India,30\\r\\n598,male,\"5\\'0\"\"\",Hindu, Baniya,Hindi,Law Enforcement Employee (Others),Neemuch, India,33\\r\\n599,male,\"5\\'7\"\"\",,others,Telugu,Software Professional,Hyderabad, India,27\\r\\n600,male,\"6\\'1\"\"\",,others,Telugu,,Eluru,,28\\r\\n601,male,\"5\\'2\"\"\",Hindu, Saini,Hindi,Admin Professional,Rae Bareli, India,32\\r\\n602,male,\"5\\'10\"\"\",Hindu, Billava,Tulu,Chartered Accountant,Mumbai, India,31\\r\\n603,female,\"5\\'7\"\"\",Sikh, Khatri,Punjabi,Not Specified,Auckland, New Zealand,31\\r\\n604,male,\"5\\'10\"\"\",Hindu, Brahmin,Marwari,Banking Professional,Ajmer, India,32\\r\\n605,male,\"4\\'5\"\"\",Hindu, Baidya,Bengali,Not Specified,Cuddapah / Kadapa, India,30\\r\\n606,female,\"5\\'2\"\"\",Hindu, Agarwal,Marwari,Electronics / Telecom Engineer,Nagpur, India,29\\r\\n607,female,\"5\\'4\"\"\",Hindu, Baniya,Hindi,Software Professional (Others),Pune, India,34\\r\\n608,male,\"5\\'8\"\"\",Hindu, Saini,Hindi,Mechanical / Production Engineer,Gurgaon, India,30\\r\\n609,male,\"5\\'11\"\"\",Hindu, Agri,Marathi,Software Consultant,Maharashtra, India,28\\r\\n610,female,\"5\\'4\"\"\",Hindu, Viswabrahmin,Telugu,Not working,Warangal, India,26\\r\\n611,female,\"5\\'0\"\"\",Hindu, Sahu,Hindi,Teacher,Uttar Pradesh, India,26\\r\\n612,male,\"5\\'10\"\"\",Hindu, Kayastha,Bengali,Electronics / Telecom Engineer,Guwahati, India,34\\r\\n613,female,\"5\\'5\"\"\",,others,Malayalam,Veterinary Doctor / Healthcare Professional,Logan City, Australia,33\\r\\n614,male,\"5\\'7\"\"\",Christian, Born Again,Malayalam,Admin Professional,Sharjah, United Arab Emirates,30\\r\\n615,female,\"4\\'10\"\"\",Hindu, Kshatriya,Hindi,Admin Professional,Delhi, India,31\\r\\n616,female,\"5\\'2\"\"\",Hindu, Rajput - Lodhi,Hindi,Nurse,Delhi, India,30\\r\\n617,female,\"5\\'4\"\"\",,,Hindi,Teacher,Mumbai, India,32\\r\\n618,female,\"4\\'11\"\"\",Hindu, Kaibarta,Assamese,Hairstylist,Delhi, India,27\\r\\n619,male,\"4\\'8\"\"\",,others,,,, United Arab Emirates,24\\r\\n620,male,\"5\\'11\"\"\",,others,Sindhi,,, India,33\\r\\n621,female,\"5\\'2\"\"\",Hindu, Brahmin,Marathi,Not working,Mumbai, India,28\\r\\n622,female,\"5\\'4\"\"\",Hindu, Agarwal,Marwari,Doctor / Healthcare Professional,Mumbai, India,30\\r\\n623,male,\"5\\'6\"\"\",Hindu, Kalita,Assamese,Teacher,Golaghat, India,29\\r\\n624,male,\"5\\'8\"\"\",Muslim, Memon,Hindi,Sales Professional / Marketing,Surat, India,27\\r\\n625,female,\"4\\'5\"\"\",Hindu, Arya Vysya,Assamese,Not Specified,Anantapur, India,25\\r\\n626,male,\"5\\'5\"\"\",,others,Bengali,Not working,Midnapore, India,25\\r\\n627,male,\"5\\'9\"\"\",,others,Telugu,,Mumbai, India,27\\r\\n628,male,\"5\\'6\"\"\",Hindu, Brahmin,Bengali,Teacher,Samastipur, India,33\\r\\n629,female,\"5\\'0\"\"\",,others,Kannada,Not Specified,, India,25\\r\\n630,female,\"5\\'2\"\"\",Hindu, Agarwal,Punjabi,Banking Professional,Chandigarh, India,29\\r\\n631,female,\"5\\'3\"\"\",Hindu, Baniya,Hindi,Consultant / Supervisor / Team Leads,Hyderabad, India,34\\r\\n632,male,\"5\\'11\"\"\",Hindu, Brahmin,Marathi,Civil Engineer,Des Moines- IA, USA,31\\r\\n633,male,\"5\\'6\"\"\",,others,,,Kozhikode, India,33\\r\\n634,female,\"5\\'0\"\"\",Muslim, Memon,Hindi,Not Specified,Surat, India,29\\r\\n635,male,\"5\\'7\"\"\",Hindu, Bhandari,Marathi,Software Professional,Glen Allen- VA, USA,31\\r\\n636,male,\"6\\'0\"\"\",Hindu, Brahmin,Gujarati,Not Specified,Leicester, United Kingdom,33\\r\\n637,male,\"5\\'0\"\"\",Christian, Marthoma,Malayalam,Non IT Engineer (Others),Dubai, United Arab Emirates,33\\r\\n638,female,\"5\\'1\"\"\",Hindu, Rajput - Lodhi,Hindi,Company Secretary,Balaghat, India,29\\r\\n639,female,\"5\\'0\"\"\",Hindu, Billava,Tulu,Not Specified,Udupi, India,30\\r\\n640,female,\"5\\'1\"\"\",Hindu, Vaishnav,Gujarati,Accounting Professional (Others),Ahmedabad, India,30\\r\\n641,male,\"5\\'11\"\"\",Hindu, Valmiki,Hindi,Civil Engineer,Indore, India,28\\r\\n642,male,\"5\\'10\"\"\",Hindu, Vaishnav,Gujarati,Web / UX Designers,Mumbai, India,32\\r\\n643,male,,,,,,, India,28\\r\\n644,male,\"5\\'7\"\"\",Christian, Roman Catholic,Konkani,Medical / Healthcare Professional (Others),Hyderabad, India,33\\r\\n645,male,\"4\\'6\"\"\",,others,Tamil,Not Specified,Chennai, India,27\\r\\n646,female,\"5\\'3\"\"\",Hindu, Bhatia,Kutchi,Medical / Healthcare Professional (Others),Charlotte- NC, USA,30\\r\\n647,female,\"5\\'3\"\"\",Hindu, Lingayath,Kannada,Consultant / Supervisor / Team Leads,Bengaluru / Bangalore, India,29\\r\\n648,male,\"5\\'4\"\"\",Hindu, Ahom,Assamese,Not working,Dhemaji, India,29\\r\\n649,female,\"5\\'3\"\"\",Hindu, Panchal,Hindi,HR Professional,Delhi, India,29\\r\\n650,male,\"5\\'8\"\"\",Hindu, Brahmin,Punjabi,Mechanical / Production Engineer,Sangrur, India,32\\r\\n651,female,\"5\\'0\"\"\",Hindu, Goud,Telugu,HR Professional,Hyderabad, India,27\\r\\n652,female,\"4\\'10\"\"\",Christian, Born Again,Konkani,Customer Support / BPO / KPO Professional,Panaji, India,31\\r\\n653,male,\"5\\'4\"\"\",Hindu, Brahmin,Marathi,Banking Professional,Pune, India,32\\r\\n654,male,\"5\\'4\"\"\",,others,,,, India,28\\r\\n655,female,\"5\\'0\"\"\",Hindu, Bhatia,Hindi,Not working,Faridabad, India,29\\r\\n656,female,\"5\\'2\"\"\",Hindu, Arora,Hindi,Software Consultant,Montreal, Canada,34\\r\\n657,male,\"5\\'5\"\"\",Hindu, Agri,Marathi,Not working,Bhandara, India,31\\r\\n658,male,\"5\\'6\"\"\",Hindu, Baishya,Bengali,Marketing Professional,Barasat, India,27\\r\\n659,female,\"4\\'7\"\"\",Hindu, Agri,Bengali,Not working,Bongaigaon, India,28\\r\\n660,female,\"5\\'4\"\"\",Hindu, Kaibarta,Odia,Software Consultant,Bhubaneswar, India,26\\r\\n661,female,\"5\\'0\"\"\",Hindu, Sahu,Chattisgarhi,Software Professional,Pune, India,27\\r\\n662,male,,,,Telugu,Entrepreneurs / Business ,Hyderabad, India,34\\r\\n663,male,\"5\\'4\"\"\",Hindu, Baishya,Odia,Admin Professional,Baleshwar, India,28\\r\\n664,male,\"5\\'6\"\"\",Hindu, Agri,Marathi,Defense Services,Mumbai, India,30\\r\\n665,female,\"5\\'7\"\"\",Hindu, Bhatia,Sindhi,Teacher,Ahmedabad, India,31\\r\\n666,male,\"5\\'7\"\"\",,others,Bengali,Software Professional,Bengaluru / Bangalore, India,30\\r\\n667,female,\"5\\'0\"\"\",Hindu, Baidya,Bengali,Managers and Senior Executives,Mumbai, India,26\\r\\n668,female,\"5\\'6\"\"\",Hindu, Goud,Telugu,Software Professional (Others),Hyderabad, India,27\\r\\n669,male,,,,,,, India,29\\r\\n670,male,\"5\\'8\"\"\",Hindu, Brahmin,Marathi,Fashion Designer,Delhi, India,33\\r\\n671,male,\"6\\'0\"\"\",Christian, Marthoma,Malayalam,Social Worker / Volunteer / NGO,Kollam, India,32\\r\\n672,male,\"5\\'6\"\"\",Hindu, Brahmin,Marathi,Non IT Engineer (Others),Pune, India,32\\r\\n673,male,\"5\\'11\"\"\",Hindu, Brahmin,Bhojpuri,Entertainment Professional,Patna, India,33\\r\\n674,male,\"5\\'8\"\"\",Sikh, Ramdasia,Punjabi,Not Specified,Jalandhar, India,30\\r\\n675,female,\"5\\'4\"\"\",Sikh, Gursikh,Punjabi,Physiotherapist / Occupational Therapist,Mumbai, India,32\\r\\n676,male,\"5\\'10\"\"\",,others,,,Mumbai, India,30\\r\\n677,male,\"6\\'1\"\"\",,others,,,Bengaluru / Bangalore, India,25\\r\\n678,female,\"5\\'1\"\"\",Hindu, Thakur,Hindi,Nurse,Bageshwar, India,29\\r\\n679,male,\"5\\'11\"\"\",Hindu, Brahmin,Marathi,Mechanical / Production Engineer,Ujjain, India,30\\r\\n680,female,\"5\\'4\"\"\",Hindu, Arya Vysya,Telugu,Not working,Tenali, India,25\\r\\n681,female,\"5\\'3\"\"\",Muslim, Memon,Urdu,Not working,Taunggyi, Myanmar,26\\r\\n682,male,\"5\\'3\"\"\",Hindu, Baishnab,Hindi,Public Relations Professional,Bihar Sharif, India,28\\r\\n683,female,\"5\\'5\"\"\",Hindu, Arora,Hindi,Not working,Delhi, India,34\\r\\n684,male,\"5\\'6\"\"\",Hindu, Rajput - Lodhi,Hindi,Agent / Broker / Trader / Contractor,Mathura, India,30\\r\\n685,female,\"5\\'6\"\"\",,,,Chartered Accountant,Bengaluru / Bangalore, India,27\\r\\n686,male,\"6\\'1\"\"\",Hindu, Kalita,Assamese,Non IT Engineer (Others),Nagaon, India,31\\r\\n687,male,\"5\\'11\"\"\",Hindu, Balija,Telugu,Writer,Anantapur, India,28\\r\\n688,female,\"4\\'5\"\"\",Hindu, Balija,Telugu,Chartered Accountant,Faridabad, India,29\\r\\n689,male,\"5\\'6\"\"\",,others,Gujarati,Finance Professional,Chicago- IL, USA,35\\r\\n690,female,\"5\\'1\"\"\",Hindu, OBC - Barber/Naayee,Hindi,Not working,Delhi, India,30\\r\\n691,male,\"5\\'9\"\"\",,others,Telugu,,, India,29\\r\\n692,female,\"5\\'4\"\"\",Hindu, Billava,Tulu,Training Professional (Others),Mangaluru / Mangalore, India,31\\r\\n693,male,\"5\\'8\"\"\",Hindu, Lingayath,Kannada,Marketing Professional,Hubbali-Dharwad, India,32\\r\\n694,female,\"5\\'6\"\"\",Hindu, Kshatriya,Punjabi,HR Professional,Noida, India,29\\r\\n695,male,\"6\\'1\"\"\",,others,Telugu,Banking Professional,Bengaluru / Bangalore, India,27\\r\\n696,female,\"5\\'8\"\"\",,others,Malayalam,Not Specified,Kuala Lumpur, Malaysia,29\\r\\n697,male,\"5\\'5\"\"\",Hindu, Brahmin,Hindi,Accounting Professional (Others),Jabalpur, India,31\\r\\n698,female,\"5\\'3\"\"\",Hindu, OBC - Barber/Naayee,Assamese,Not working,Sibsagar, India,29\\r\\n699,female,\"5\\'5\"\"\",,others,Telugu,,Secunderabad, India,26\\r\\n700,female,\"5\\'3\"\"\",Hindu, Kshatriya,Hindi,Student,Nashville- TN, USA,29\\r\\n701,male,\"5\\'6\"\"\",,others,Tamil,,Pondicherry, India,29\\r\\n702,male,\"5\\'9\"\"\",,others,Kannada,,Udupi, India,31\\r\\n703,male,\"5\\'6\"\"\",Hindu, Lingayath,Kannada,Non IT Engineer (Others),Bengaluru / Bangalore, India,32\\r\\n704,male,\"5\\'6\"\"\",Hindu, Lingayath,Kannada,Software Professional (Others),Bengaluru / Bangalore, India,33\\r\\n705,male,\"5\\'2\"\"\",,others,,,, India,33\\r\\n706,female,\"5\\'2\"\"\",Sikh, Ramdasia,Punjabi,Not Specified,Ludhiana, India,32\\r\\n707,female,\"5\\'2\"\"\",Sikh, Khatri,Punjabi,Teacher,Delhi, India,28\\r\\n708,male,,,others,Tamil,,, USA,32\\r\\n709,female,\"5\\'0\"\"\",,others,Telugu,,Alwal, India,29\\r\\n710,female,\"5\\'0\"\"\",Hindu, Kaibarta,Odia,Not working,Rayagada, India,28\\r\\n711,male,\"5\\'6\"\"\",Hindu, Panchal,Gujarati,Teacher,Gandhinagar, India,29\\r\\n712,male,\"5\\'4\"\"\",Hindu, Viswabrahmin,Telugu,Interior Designer,Hyderabad, India,29\\r\\n713,male,\"5\\'6\"\"\",Sikh, Gursikh,Punjabi,Hardware & Networking professional,Ludhiana, India,31\\r\\n714,male,\"4\\'5\"\"\",Hindu, Agri,Marathi,Teacher,Nashik, India,30\\r\\n715,male,\"5\\'2\"\"\",,,Kannada,Not Specified,, India,32\\r\\n716,female,\"5\\'6\"\"\",Hindu, Arora,Hindi,Teacher,Gurgaon, India,33\\r\\n717,female,\"5\\'4\"\"\",,others,Telugu,,Vijayawada, India,31\\r\\n718,female,\"5\\'6\"\"\",,,,Sales Professional / Marketing,Hong Kong (general), Hong Kong SAR,35\\r\\n719,female,\"5\\'1\"\"\",Hindu, Thakur,Hindi,Not working,Haldwani, India,27\\r\\n720,female,\"5\\'2\"\"\",,others,Marathi,,,,22\\r\\n721,male,\"5\\'8\"\"\",Jain, Shwetamber,Gujarati,Consultant / Supervisor / Team Leads,Bengaluru / Bangalore, India,33\\r\\n722,female,\"5\\'7\"\"\",Hindu, OBC - Barber/Naayee,Punjabi,Finance Professional,Mumbai, India,28\\r\\n723,male,\"5\\'8\"\"\",,others,Malayalam,Marketing Professional,Thiruvananthapuram, India,26\\r\\n724,female,\"5\\'5\"\"\",,others,Marathi,Not working,Maharashtra, India,\\r\\n725,male,\"5\\'7\"\"\",Hindu, Bhatia,Sindhi,Not Specified,Pune, India,29\\r\\n726,female,\"5\\'7\"\"\",Jain, Shwetamber,Gujarati,Team Member / Staff,London, United Kingdom,33\\r\\n727,male,\"5\\'8\"\"\",Hindu, Kalita,Assamese,Defense Services,Assam, India,31\\r\\n728,female,\"5\\'6\"\"\",Hindu, Bhandari,Marathi,Accounting Professional (Others),Maharashtra, India,32\\r\\n729,female,\"5\\'1\"\"\",,others,Tamil,,Hyderabad, India,24\\r\\n730,male,\"5\\'9\"\"\",Hindu, Baishya,Bengali,Civil Engineer,Malda, India,30\\r\\n731,female,\"4\\'5\"\"\",Hindu, Vaishnav,Gujarati,Not Specified,Mumbai, India,29\\r\\n732,male,\"5\\'11\"\"\",Hindu, Kshatriya,Hindi,Managers and Senior Executives,Delhi, India,32\\r\\n733,,,,others,Hindi,,, India,22\\r\\n734,male,\"5\\'11\"\"\",,others,,,Chennai, India,27\\r\\n735,male,,,others,Kannada,Logistics and Travel Professional,Bengaluru / Bangalore, India,29\\r\\n736,female,\"5\\'0\"\"\",,others,Telugu,Not Specified,Hyderabad, India,31\\r\\n737,female,\"5\\'3\"\"\",Hindu, Kayastha,Bengali,Software Professional,Bengaluru / Bangalore, India,34\\r\\n738,female,,,,,,, India,33\\r\\n739,female,\"5\\'3\"\"\",Hindu, Sindhi-Sakkhar,Sindhi,Teacher,Maharashtra, India,30\\r\\n740,male,\"5\\'5\"\"\",Hindu, Vanniyar,Tamil,Team Member / Staff,Pondicherry, India,28\\r\\n741,male,\"5\\'7\"\"\",Hindu, Baidya,Bengali,Admin Professional,Kolkata, India,30\\r\\n742,male,\"5\\'9\"\"\",Hindu, Baniya,Hindi,Software Professional,Bengaluru / Bangalore, India,34\\r\\n743,male,\"6\\'0\"\"\",Hindu, Brahmin,Hindi,Finance Professional,Delhi, India,32\\r\\n744,female,\"5\\'2\"\"\",Hindu, OBC - Barber/Naayee,Assamese,Not working,Guwahati, India,27\\r\\n745,male,\"5\\'8\"\"\",Hindu, Agri,Marathi,Hotel & Hospitality Professional (Others),Mumbai, India,30\\r\\n746,female,\"5\\'3\"\"\",Hindu, Ahom,Assamese,Medical / Healthcare Professional (Others),Assam, India,29\\r\\n747,female,\"5\\'3\"\"\",Hindu, Balija,Telugu,Managers and Senior Executives,Bengaluru / Bangalore, India,26\\r\\n748,male,\"5\\'5\"\"\",,others,Bengali,Defense Services,West Bengal, India,29\\r\\n749,male,\"5\\'11\"\"\",Hindu, Vaishnav,Gujarati,Software Professional,San Jose- CA, USA,33\\r\\n750,female,\"5\\'3\"\"\",Hindu, Bhandari,Konkani,Research Assistant,Mumbai, India,31\\r\\n751,male,\"4\\'8\"\"\",Sikh, Ramdasia,English,Not Specified,Bhagalpur, India,32\\r\\n752,female,\"5\\'2\"\"\",Hindu, Brahmin,Marathi,Accounting Professional (Others),Mumbai, India,30\\r\\n753,male,\"5\\'9\"\"\",Sikh, Kshatriya,Punjabi,Managers and Senior Executives,Brisbane, Australia,30\\r\\n754,male,\"5\\'4\"\"\",,others,Telugu,,Guntur, India,28\\r\\n755,female,\"5\\'1\"\"\",Hindu, Agarwal,Punjabi,Chartered Accountant,Kolkata, India,28\\r\\n756,male,\"5\\'3\"\"\",Hindu, Arora,Hindi,Entrepreneurs / Business ,Yamunanagar, India,35\\r\\n757,male,\"5\\'5\"\"\",Hindu, Lingayath,Kannada,Hardware & Networking professional,Kalaburagi / Gulbarga, India,32\\r\\n758,male,,,,,,Korba, India,25\\r\\n759,female,\"5\\'2\"\"\",Hindu, Panchal,Gujarati,Not working,Vadodara, India,27\\r\\n760,female,\"5\\'5\"\"\",Christian, Born Again,Tamil,Medical / Healthcare Professional (Others),Springfield- OH, USA,31\\r\\n761,female,\"5\\'4\"\"\",,others,,,Kolhapur, India,29\\r\\n762,male,\"5\\'10\"\"\",Hindu, Vaishnav,Gujarati,Non IT Engineer (Others),San Diego- CA, USA,32\\r\\n763,male,\"5\\'0\"\"\",,,,Company Secretary,, India,27\\r\\n764,female,\"5\\'4\"\"\",Hindu, Lingayath,Marathi,Non IT Engineer (Others),Sangli, India,30\\r\\n765,male,\"5\\'8\"\"\",Hindu, Kshatriya,Marathi,Software Professional,Bengaluru / Bangalore, India,31\\r\\n766,male,\"5\\'9\"\"\",Hindu, Ahom,Assamese,Admin Professional,Diphu, India,29\\r\\n767,male,\"5\\'8\"\"\",,,Kannada,,, India,29\\r\\n768,female,\"5\\'3\"\"\",Hindu, Arora,Punjabi,Software Professional,San Jose- CA, USA,34\\r\\n769,male,\"4\\'5\"\"\",Hindu, Balija,Hindi,Not working,Kawardha, India,29\\r\\n770,male,\"5\\'4\"\"\",Hindu, Kaibarta,Odia,Banking Professional,Dhenkanal, India,28\\r\\n771,male,\"5\\'6\"\"\",Hindu, Brahmin,Telugu,Medical / Healthcare Professional (Others),Hyderabad, India,30\\r\\n772,male,\"5\\'7\"\"\",,,Kannada,Not Specified,Bengaluru / Bangalore, India,32\\r\\n773,female,\"5\\'3\"\"\",Sikh, Ramdasia,Punjabi,Fashion Designer,Delhi, India,29\\r\\n774,female,\"5\\'2\"\"\",,others,Bengali,Not working,Kishanganj, India,25\\r\\n775,male,\"5\\'4\"\"\",Hindu, Lingayath,Kannada,Marketing Professional,Chikkamagaluru, India,35\\r\\n776,male,\"5\\'11\"\"\",Hindu, Goud,Marathi,Not Specified,Latur, India,30\\r\\n777,male,\"5\\'4\"\"\",,others,Sindhi,,, India,26\\r\\n778,female,\"5\\'3\"\"\",Christian, Roman Catholic,Bengali,Doctor / Healthcare Professional,Kolkata, India,30\\r\\n779,male,\"5\\'2\"\"\",Hindu, Bhatia,Gujarati,Logistics and Travel Professional,Adipur, India,27\\r\\n780,male,\"5\\'10\"\"\",,,Malayalam,Non IT Engineer (Others),Dallas- TX, USA,30\\r\\n781,female,\"5\\'2\"\"\",Hindu, Baniya,Hindi,Not working,Pilibhit, India,33\\r\\n782,male,\"5\\'0\"\"\",,others,Tamil,Mechanical / Production Engineer,, India,21\\r\\n783,female,\"5\\'1\"\"\",Hindu, Valmiki,Hindi,Not working,Delhi, India,27\\r\\n784,female,\"5\\'4\"\"\",Hindu, Brahmin,Hindi,Not working,Ballia, India,31\\r\\n785,male,\"5\\'8\"\"\",,others,Malayalam,Managers and Senior Executives,Kollam, India,29\\r\\n786,female,\"5\\'4\"\"\",Hindu, Vaishnav,Gujarati,Fashion Designer,Ahmedabad, India,30\\r\\n787,female,\"5\\'4\"\"\",Hindu, Viswabrahmin,Telugu,Not Specified,Andhra Pradesh, India,27\\r\\n788,female,\"5\\'0\"\"\",Hindu, Baniya,Hindi,Not working,Satna, India,34\\r\\n789,male,\"5\\'10\"\"\",Sikh, Gursikh,Punjabi,Hardware & Networking professional,Delhi, India,33\\r\\n790,female,\"5\\'3\"\"\",Hindu, Baishnab,Bengali,Teacher,Kolkata, India,28\\r\\n791,male,\"5\\'11\"\"\",Christian, Marthoma,English,Finance Professional,Philadelphia- PA, USA,31\\r\\n792,male,\"5\\'2\"\"\",Hindu, Scheduled Caste (SC),Malayalam,Electronics / Telecom Engineer,Kozhikode, India,34\\r\\n793,female,\"5\\'5\"\"\",Hindu, Viswabrahmin,Telugu,Physiotherapist / Occupational Therapist,Mumbai, India,27\\r\\n794,female,\"4\\'9\"\"\",Hindu, Kaibarta,Odia,Sales Professional / Marketing,Bargarh, India,27\\r\\n795,female,\"5\\'2\"\"\",Hindu, Brahmin,Telugu,Software Professional (Others),Bheemavaram, India,30\\r\\n796,female,\"5\\'4\"\"\",,,,HR Professional,Udaipur, India,23\\r\\n797,female,\"4\\'11\"\"\",Hindu, Agri,Marathi,Not working,Mumbai, India,30\\r\\n798,male,\"5\\'4\"\"\",Hindu, Viswabrahmin,Telugu,Software Professional,Tirupati, India,30\\r\\n799,female,\"5\\'7\"\"\",Hindu, Billava,Tulu,Customer Support / BPO / KPO Professional,Mumbai, India,30\\r\\n800,female,\"5\\'2\"\"\",Hindu, Goud,Hindi,Nurse,Hoshangabad, India,27\\r\\n801,male,\"5\\'7\"\"\",,others,Sindhi,,, USA,28\\r\\n802,female,\"4\\'10\"\"\",Hindu, Kaibarta,Odia,Not working,Bargarh, India,28\\r\\n803,male,\"5\\'0\"\"\",Hindu, Bhandari,Marathi,Logistics and Travel Professional,Mumbai, India,30\\r\\n804,female,\"5\\'4\"\"\",Hindu, Lingayath,Kannada,Admin Professional,Bengaluru / Bangalore, India,30\\r\\n805,female,\"5\\'7\"\"\",Hindu, Brahmin,Bengali,Software Professional,Kolkata, India,31\\r\\n806,female,\"5\\'4\"\"\",Sikh, Ramdasia,Punjabi,Not Specified,Mohali, India,32\\r\\n807,male,\"5\\'8\"\"\",Hindu, Bhatia,Punjabi,Mechanical / Production Engineer,Melbourne, Australia,29\\r\\n808,female,\"5\\'3\"\"\",,others,Bengali,Architect,Barasat, India,31\\r\\n809,male,\"6\\'2\"\"\",Sikh, Khatri,Punjabi,Finance Professional,Yamunanagar, India,33\\r\\n810,female,\"5\\'4\"\"\",,others,,,Yorkshire, United Kingdom,35\\r\\n811,,,,others,Marathi,,Nagpur, India,22\\r\\n812,male,\"5\\'2\"\"\",,,Hindi,Not working,Sultanpur, India,\\r\\n813,female,\"5\\'2\"\"\",Hindu, Agarwal,Punjabi,Software Professional (Others),Mohali, India,28\\r\\n814,male,\"5\\'11\"\"\",Sikh, Kshatriya,Punjabi,Doctor / Healthcare Professional,Ludhiana, India,30\\r\\n815,female,\"5\\'0\"\"\",,others,Bengali,Banking Professional,Bardhaman, India,27\\r\\n816,male,\"6\\'0\"\"\",Hindu, Rajput - Lodhi,Hindi,Non IT Engineer (Others),Jaipur, India,28\\r\\n817,female,\"5\\'5\"\"\",Hindu, Billava,Tulu,Software Professional,Bengaluru / Bangalore, India,30\\r\\n818,female,\"5\\'4\"\"\",Hindu, Vaishnav,Gujarati,Civil Engineer,Vadodara, India,30\\r\\n819,female,\"5\\'4\"\"\",Hindu, Brahmin,Hindi,Not Specified,Maharashtra, India,29\\r\\n820,male,\"5\\'8\"\"\",Sikh, Kshatriya,Punjabi,Software Professional,Chandigarh, India,31\\r\\n821,male,\"5\\'7\"\"\",Hindu, Brahmin,Bengali,Logistics and Travel Professional,Delhi, India,31\\r\\n822,male,\"5\\'8\"\"\",,others,,Not Specified,Kozhikode, India,25\\r\\n823,male,\"5\\'9\"\"\",Hindu, Brahmin,Hindi,Software Professional,Bengaluru / Bangalore, India,33\\r\\n824,male,\"4\\'5\"\"\",,others,Kannada,Not Specified,Shivamogga, India,27\\r\\n825,male,\"5\\'3\"\"\",,,,,Hyderabad, India,25\\r\\n826,female,\"5\\'2\"\"\",Hindu, Brahmin,Marathi,Software Professional,Jersey City- NJ, USA,31\\r\\n827,female,\"5\\'4\"\"\",Hindu, Kshatriya,Gujarati,Marketing Professional,Mumbai, India,29\\r\\n828,male,,,others,,,, India,33\\r\\n829,female,\"5\\'3\"\"\",Sikh, Gursikh,English,Admin Professional,Kuala Lumpur, Malaysia,32\\r\\n830,male,\"5\\'4\"\"\",Hindu, Bhandari,Konkani,Banking Professional,Goa, India,31\\r\\n831,female,\"5\\'1\"\"\",Sikh, Gursikh,Punjabi,Event Manager,Indore, India,32\\r\\n832,female,\"5\\'2\"\"\",Hindu, Agri,Marathi,Not Specified,Nagpur, India,30\\r\\n833,male,\"5\\'8\"\"\",Christian, Roman Catholic,Marathi,Team Member / Staff,Mumbai, India,32\\r\\n834,male,\"6\\'1\"\"\",,others,Kannada,Not Specified,Shivamogga, India,29\\r\\n835,female,\"5\\'1\"\"\",,others,Hindi,Electronics / Telecom Engineer,Pune, India,32\\r\\n836,female,\"5\\'8\"\"\",Hindu, Lingayath,Kannada,HR Professional,Bengaluru / Bangalore, India,30\\r\\n837,female,\"5\\'4\"\"\",Hindu, Lingayath,Kannada,Software Professional (Others),Boston- MA, USA,29\\r\\n838,female,\"5\\'2\"\"\",Hindu, Baishnab,Bengali,Sales Professional / Marketing,Kolkata, India,27\\r\\n839,female,\"5\\'3\"\"\",Hindu, Kshatriya,Hindi,Not working,Fatehgarh, India,30\\r\\n840,male,\"5\\'7\"\"\",Hindu, Kaibarta,Odia,Mechanical / Production Engineer,Bengaluru / Bangalore, India,29\\r\\n841,female,\"5\\'4\"\"\",Hindu, Valmiki,Hindi,Not working,Kurukshetra, India,30\\r\\n842,male,\"5\\'9\"\"\",Hindu, Arora,Hindi,Banking Professional,Delhi, India,36\\r\\n843,male,\"5\\'5\"\"\",Hindu, Valmiki,Hindi,Software Professional,Pune, India,30\\r\\n844,female,\"5\\'0\"\"\",Hindu, Kalita,Assamese,Teacher,Dispur, India,30\\r\\n845,female,\"5\\'2\"\"\",,,Malayalam,,Mumbai, India,22\\r\\n846,female,\"5\\'8\"\"\",Jain, Shwetamber,Hindi,Entrepreneurs / Business ,Pune, India,34\\r\\n847,male,\"5\\'5\"\"\",,others,,Software Professional,Mumbai, India,28\\r\\n848,male,\"5\\'11\"\"\",,others,Hindi,,,,35\\r\\n849,female,\"5\\'3\"\"\",Hindu, Panchal,Gujarati,Chartered Accountant,Vadodara, India,28\\r\\n850,female,\"4\\'5\"\"\",Hindu, Kalita,Assamese,Company Secretary,Guwahati, India,27\\r\\n851,female,\"5\\'2\"\"\",Hindu, Brahmin,Hindi,Banking Professional,Howra, India,31\\r\\n852,female,\"5\\'6\"\"\",Hindu, OBC - Barber/Naayee,Assamese,Writer,Guwahati, India,29\\r\\n853,male,\"4\\'5\"\"\",,others,Hindi,,Haveri, India,21\\r\\n854,female,\"5\\'2\"\"\",Hindu, Agarwal,Punjabi,Medical / Healthcare Professional (Others),Mississauga, Canada,30\\r\\n855,female,\"5\\'2\"\"\",Christian, Born Again,Tamil,Software Professional,Brisbane, Australia,31\\r\\n856,male,\"5\\'11\"\"\",Sikh, Khatri,Punjabi,Consultant / Supervisor / Team Leads,Lucknow, India,30\\r\\n857,,,,others,Hindi,Actor,Bihar Sharif, India,21\\r\\n858,female,\"5\\'2\"\"\",Sikh, Ramdasia,Punjabi,Not working,Vancouver, Canada,31\\r\\n859,male,\"5\\'2\"\"\",Hindu, Baidya,Bengali,Company Secretary,Howra, India,30\\r\\n860,female,\"5\\'1\"\"\",Hindu, Bhatia,Sindhi,Not Specified,Mumbai, India,29\\r\\n861,female,\"5\\'0\"\"\",Hindu, Valmiki,Hindi,Not working,Mumbai, India,27\\r\\n862,female,\"5\\'3\"\"\",Hindu, Kshatriya,Hindi,Research Assistant,Mumbai, India,32\\r\\n863,male,\"5\\'6\"\"\",Hindu, Kayastha,Bengali,Entrepreneurs / Business ,Kolkata, India,33\\r\\n864,female,\"5\\'0\"\"\",Hindu, Kalita,Assamese,Non IT Engineer (Others),Mumbai, India,27\\r\\n865,male,\"5\\'3\"\"\",Hindu, Ahom,Assamese,Not working,Nalbari, India,28\\r\\n866,female,\"5\\'4\"\"\",Hindu, Brahmin,Marathi,HR Professional,Pune, India,28\\r\\n867,male,\"5\\'1\"\"\",,others,Telugu,,Tanuku, India,26\\r\\n868,male,\"5\\'2\"\"\",Hindu, Billava,Tulu,Not Specified,Mangaluru / Mangalore, India,29\\r\\n869,female,\"5\\'1\"\"\",Hindu, Lingayath,Kannada,Not Specified,Belagavi / Belagaum, India,31\\r\\n870,female,\"5\\'6\"\"\",,,Sindhi,,, India,35\\r\\n871,female,\"5\\'4\"\"\",Christian, Roman Catholic,Konkani,Accounting Professional (Others),Dubai, United Arab Emirates,32\\r\\n872,male,\"5\\'2\"\"\",Christian, Roman Catholic,Malayalam,Logistics and Travel Professional,Ernakulam, India,31\\r\\n873,male,\"5\\'8\"\"\",Hindu, Kalita,Assamese,HR Professional,Delhi, India,29\\r\\n874,male,\"5\\'5\"\"\",Hindu, Scheduled Caste (SC),Gujarati,Software Professional,Ahmedabad, India,34\\r\\n875,male,\"5\\'7\"\"\",Hindu, Brahmin,Marathi,Training Professional (Others),Vadodara, India,32\\r\\n876,female,\"5\\'1\"\"\",Sikh, Kshatriya,Hindi,Not Specified,Mumbai, India,29\\r\\n877,female,\"5\\'2\"\"\",,others,Tamil,Doctor / Healthcare Professional,Ernakulam, India,35\\r\\n878,female,\"5\\'3\"\"\",,others,Gujarati,,, USA,\\r\\n879,male,\"4\\'5\"\"\",Hindu, Vanniyar,Tamil,Electronics / Telecom Engineer,Dharmapuri, India,29\\r\\n880,male,\"5\\'5\"\"\",Hindu, Sahu,Hindi,Non IT Engineer (Others),Jhansi, India,28\\r\\n881,male,\"5\\'7\"\"\",Hindu, Valmiki,Kannada,Lawyer,Raichur, India,30\\r\\n882,male,\"5\\'5\"\"\",Hindu, Kaibarta,Hindi,Actor,Hoshangabad, India,30\\r\\n883,male,\"5\\'5\"\"\",Hindu, Brahmin,Marathi,Finance Professional,New York- NY, USA,33\\r\\n884,male,\"5\\'9\"\"\",Hindu, Scheduled Caste (SC),Telugu,Doctor / Healthcare Professional,Anantapur, India,35\\r\\n885,male,\"5\\'10\"\"\",Hindu, Kalita,Assamese,Teacher,Mangaldai, India,30\\r\\n886,male,\"5\\'9\"\"\",Christian, Roman Catholic,Tamil,Chef / Sommelier / Food Critic,Bengaluru / Bangalore, India,31\\r\\n887,female,\"5\\'3\"\"\",Hindu, Billava,Tulu,Doctor / Healthcare Professional,Mumbai, India,29\\r\\n888,male,\"5\\'9\"\"\",Hindu, Billava,Tulu,Managers and Senior Executives,Sunnyvale- CA, USA,28\\r\\n889,female,\"5\\'5\"\"\",,others,Bengali,Not Specified,Bardhaman, India,34\\r\\n890,male,\"5\\'10\"\"\",Sikh, Kshatriya,Hindi,Doctor / Healthcare Professional,Chicago Heights- IL, USA,31\\r\\n891,male,\"5\\'6\"\"\",Christian, Roman Catholic,English,Electronics / Telecom Engineer,Hyderabad, India,31\\r\\n892,,,,others,Malayalam,Banking Professional,Kollam, India,27\\r\\n893,female,\"5\\'2\"\"\",Hindu, Lingayath,Kannada,HR Professional,Abu Dhabi, United Arab Emirates,30\\r\\n894,male,\"5\\'4\"\"\",Hindu, OBC - Barber/Naayee,Nepali,Agricultural Professional (Others),Darjeeling, India,26\\r\\n895,female,\"5\\'1\"\"\",,others,Telugu,,Karimnagar, India,22\\r\\n896,male,\"5\\'9\"\"\",Hindu, Bhatia,Punjabi,Logistics and Travel Professional,Rewari, India,28\\r\\n897,female,\"5\\'2\"\"\",Hindu, Valmiki,Haryanavi,Not working,Delhi, India,29\\r\\n898,female,\"5\\'10\"\"\",Hindu, Sindhi-Sakkhar,Punjabi,Banking Professional,Mumbai, India,29\\r\\n899,female,\"5\\'3\"\"\",Hindu, Agarwal,Punjabi,Not Specified,Fatehgarh Sahib, India,30\\r\\n900,male,\"5\\'2\"\"\",Hindu, OBC - Barber/Naayee,Gujarati,Electronics / Telecom Engineer,Rajpipla, India,27\\r\\n901,female,\"5\\'6\"\"\",Hindu, Agarwal,Marwari,Chartered Accountant,Bengaluru / Bangalore, India,28\\r\\n902,male,\"4\\'11\"\"\",Christian, Born Again,Malayalam,Admin Professional,Pathanamthitta, India,32\\r\\n903,female,\"5\\'2\"\"\",Hindu, Valmiki,Kannada,Nurse,Harihar, India,27\\r\\n904,female,,,,,,Kozhikode, India,32\\r\\n905,female,\"5\\'1\"\"\",Hindu, Bhandari,Konkani,Not Specified,Goa, India,32\\r\\n906,,\"4\\'6\"\"\",,others,Hindi,Finance Professional,Purnia, India,22\\r\\n907,male,\"5\\'5\"\"\",Hindu, Goud,Odia,Consultant / Supervisor / Team Leads,Chabasa, India,31\\r\\n908,female,\"5\\'4\"\"\",Hindu, Billava,Tulu,Not Specified,Mangaluru / Mangalore, India,29\\r\\n909,female,\"4\\'5\"\"\",Hindu, Ahom,Assamese,Sales Professional / Marketing,Guwahati, India,29\\r\\n910,male,\"5\\'7\"\"\",,others,Bengali,Software Professional (Others),Bankura, India,31\\r\\n911,female,\"5\\'6\"\"\",Hindu, Kshatriya,Hindi,Not working,Bahraich, India,32\\r\\n912,female,\"5\\'2\"\"\",Muslim, Memon,Urdu,Not working,Kanpur, India,27\\r\\n913,female,\"5\\'1\"\"\",Christian, Born Again,Telugu,Software Professional (Others),Hyderabad, India,32\\r\\n914,male,\"5\\'10\"\"\",Hindu, Agarwal,Marwari,Software Professional (Others),Hyderabad, India,32\\r\\n915,female,\"5\\'0\"\"\",Hindu, Viswabrahmin,Telugu,Team Member / Staff,Texas City- TX, USA,27\\r\\n916,male,\"6\\'0\"\"\",Hindu, Balija,Telugu,Accounting Professional (Others),Tirupati, India,28\\r\\n917,male,\"5\\'9\"\"\",Hindu, Thakur,Gujarati,Social Worker / Volunteer / NGO,Kheda, India,30\\r\\n918,female,\"5\\'2\"\"\",Christian, Marthoma,Malayalam,Pharmacist,Burtonsville- MD, USA,29\\r\\n919,male,\"4\\'5\"\"\",Hindu, Bhatia,Punjabi,Not working,Amritsar, India,30\\r\\n920,male,\"6\\'0\"\"\",Sikh, Khatri,Punjabi,Managers and Senior Executives,Bengaluru / Bangalore, India,31\\r\\n921,male,\"5\\'2\"\"\",Hindu, Vanniyar,Tamil,Mechanical / Production Engineer,Chennai, India,29\\r\\n922,male,\"5\\'9\"\"\",Hindu, Billava,Kannada,Not Specified,Mangaluru / Mangalore, India,29\\r\\n923,female,\"5\\'4\"\"\",Sikh, Khatri,Punjabi,Science Professional (Others),Punjab, India,29\\r\\n924,female,\"5\\'6\"\"\",,others,,,, India,26\\r\\n925,female,\"5\\'4\"\"\",Hindu, Bhatia,Hindi,Chartered Accountant,Delhi, India,28\\r\\n926,male,\"6\\'0\"\"\",Hindu, Lingayath,Kannada,CxO / Chairman / Director / President,Bengaluru / Bangalore, India,35\\r\\n927,female,\"5\\'3\"\"\",Hindu, Agarwal,Punjabi,Not Specified,Punjab, India,30\\r\\n928,female,\"6\\'0\"\"\",,others,Other,Science Professional (Others),Montreal, Canada,35\\r\\n929,male,\"5\\'5\"\"\",Hindu, Bhatia,Marathi,Not working,Pune, India,30\\r\\n930,female,\"5\\'2\"\"\",Hindu, Lingayath,Kannada,Doctor / Healthcare Professional,Vijayapura / Bijapur, India,30\\r\\n931,male,\"6\\'0\"\"\",Hindu, Sindhi-Sakkhar,Sindhi,Admin Professional,Ahmedabad, India,29\\r\\n932,male,,,,Kannada,,Holalkere, India,23\\r\\n933,female,\"5\\'0\"\"\",,others,Hindi,,, India,\\r\\n934,male,\"5\\'5\"\"\",Hindu, Agri,Marathi,Accounting Professional (Others),Raigad, India,29\\r\\n935,male,\"5\\'11\"\"\",Hindu, Brahmin,Marathi,CxO / Chairman / Director / President,Nagpur, India,33\\r\\n936,female,\"4\\'10\"\"\",Hindu, Sahu,Odia,Not working,Berhampur, India,26\\r\\n937,female,\"5\\'2\"\"\",Hindu, Kayastha,Bengali,Managers and Senior Executives,Pune, India,32\\r\\n938,male,\"5\\'11\"\"\",Sikh, Kshatriya,Punjabi,Not Specified,Punjab, India,30\\r\\n939,male,\"5\\'6\"\"\",Hindu, Bhandari,Marathi,Team Member / Staff,Mumbai, India,33\\r\\n940,male,\"5\\'6\"\"\",Hindu, Rajput - Lodhi,Hindi,Doctor / Healthcare Professional,Hamirpur, India,29\\r\\n941,male,\"5\\'4\"\"\",Hindu, Valmiki,Gujarati,Team Member / Staff,Ahmedabad, India,30\\r\\n942,female,\"5\\'1\"\"\",,others,Hindi,Not working,Fatehgarh, India,23\\r\\n943,female,\"5\\'5\"\"\",Hindu, Patel,Gujarati,Not working,Pune, India,29\\r\\n944,female,\"4\\'11\"\"\",,others,Kannada,Not Specified,, India,31\\r\\n945,male,\"5\\'10\"\"\",Hindu, Kayastha,Bengali,Electronics / Telecom Engineer,Kolkata, India,35\\r\\n946,,\"5\\'1\"\"\",,others,Hindi,,Yavatmal, India,26\\r\\n947,male,\"5\\'5\"\"\",,,Konkani,Advertising Professional,Goa, India,35\\r\\n948,female,\"5\\'0\"\"\",Hindu, Panchal,Gujarati,Non IT Engineer (Others),Jersey City- NJ, USA,29\\r\\n949,male,\"5\\'6\"\"\",Hindu, Saini,Hindi,Agent / Broker / Trader / Contractor,Delhi, India,29\\r\\n950,female,\"5\\'3\"\"\",,others,Tamil,,Kuala Lumpur, Malaysia,33\\r\\n951,female,\"5\\'2\"\"\",Sikh, Kshatriya,Punjabi,Non IT Engineer (Others),Toronto, Canada,30\\r\\n952,female,\"5\\'4\"\"\",Hindu, Scheduled Caste (SC),Assamese,Research Scholar,Dibrugarh, India,32\\r\\n953,female,\"5\\'2\"\"\",Hindu, Billava,Tulu,Logistics and Travel Professional,Mumbai, India,30\\r\\n954,male,\"5\\'10\"\"\",Hindu, Brahmin,Bengali,Banking Professional,Kolkata, India,30\\r\\n955,male,\"5\\'5\"\"\",Hindu, Brahmin,Telugu,Software Professional (Others),Nellore, India,31\\r\\n956,female,\"5\\'3\"\"\",Hindu, Saini,Punjabi,Not working,Una, India,28\\r\\n957,male,\"5\\'4\"\"\",,,Kannada,Not Specified,, India,25\\r\\n958,female,\"5\\'4\"\"\",Hindu, Patel,Gujarati,Not working,Surat, India,28\\r\\n959,female,\"5\\'3\"\"\",Sikh, Khatri,Punjabi,Managers and Senior Executives,Delhi, India,28\\r\\n960,female,\"5\\'5\"\"\",Hindu, Kshatriya,English,Not Specified,Delhi, India,30\\r\\n961,male,\"5\\'3\"\"\",,others,Kannada,,, India,32\\r\\n962,female,\"5\\'3\"\"\",,others,Bengali,Teacher,Haryana, India,28\\r\\n963,female,\"5\\'5\"\"\",Hindu, Kshatriya,Gujarati,HR Professional,Raipur, India,32\\r\\n964,female,\"5\\'3\"\"\",Christian, Roman Catholic,Urdu,Teacher,Lahore, Pakistan,31\\r\\n965,male,\"5\\'10\"\"\",Hindu, Brahmin,Marathi,Not Specified,Pune, India,31\\r\\n966,female,\"5\\'4\"\"\",Hindu, Arya Vysya,Telugu,HR Professional,Hyderabad, India,27\\r\\n967,female,\"5\\'4\"\"\",Hindu, Goud,Hindi,Not working,Gorakhpur, India,26\\r\\n968,female,\"5\\'3\"\"\",,others,Hindi,Web / UX Designers,Delhi, India,24\\r\\n969,male,\"5\\'6\"\"\",Hindu, Baidya,Bengali,Sales Professional / Marketing,Siliguri, India,29\\r\\n970,female,\"5\\'2\"\"\",Hindu, Lingayath,Kannada,Not Specified,Bengaluru / Bangalore, India,31\\r\\n971,male,\"5\\'9\"\"\",Christian, Roman Catholic,Tamil,Architect,Atlanta- GA, USA,31\\r\\n972,male,\"5\\'8\"\"\",Hindu, Brahmin,Marathi,Farming,Ratnagiri, India,30\\r\\n973,female,\"5\\'5\"\"\",Hindu, Brahmin,Marathi,Software Consultant,Pune, India,28\\r\\n974,female,\"4\\'5\"\"\",,others,Hindi,Not working,Mumbai, India,24\\r\\n975,male,\"5\\'5\"\"\",,others,Tamil,Mechanical / Production Engineer,Coimbatore, India,30\\r\\n976,male,\"4\\'5\"\"\",Hindu, Ahom,Assamese,Farming,Diphu, India,28\\r\\n977,female,\"5\\'3\"\"\",Hindu, Saini,Punjabi,Entrepreneurs / Business ,Ambala, India,30\\r\\n978,male,\"5\\'10\"\"\",Hindu, Brahmin,Marathi,Finance Professional,Mumbai, India,30\\r\\n979,female,\"5\\'2\"\"\",Hindu, Baishya,Hindi,Team Member / Staff,Deoghar, India,26\\r\\n980,male,\"5\\'1\"\"\",Hindu, Viswabrahmin,Telugu,Marketing Professional,Hyderabad, India,30\\r\\n981,male,\"6\\'0\"\"\",Hindu, Brahmin,Gujarati,Physiotherapist / Occupational Therapist,Boston- MA, USA,31\\r\\n982,male,\"5\\'8\"\"\",,,Telugu,,, India,30\\r\\n983,female,\"5\\'2\"\"\",Hindu, OBC - Barber/Naayee,Punjabi,Teacher,Ludhiana, India,27\\r\\n984,male,\"5\\'4\"\"\",Hindu, Kaibarta,Odia,Not Specified,Cuttack, India,29\\r\\n985,male,\"5\\'8\"\"\",Hindu, Brahmin,Marathi,Software Professional,Pune, India,33\\r\\n986,male,\"5\\'11\"\"\",Hindu, Kshatriya,Hindi,Entrepreneurs / Business ,Vancouver, Canada,31\\r\\n987,female,\"5\\'0\"\"\",Hindu, Balija,Telugu,Managers and Senior Executives,Pune, India,27\\r\\n988,female,\"4\\'5\"\"\",Hindu, Arya Vysya,Assamese,Banking Professional,Ara, India,24\\r\\n989,male,\"6\\'0\"\"\",Hindu, Brahmin,Hindi,Lawyer,Delhi, India,30\\r\\n990,male,\"5\\'11\"\"\",Hindu, Baidya,Bengali,Banking Professional,Krishnanagar, India,28\\r\\n991,female,\"5\\'5\"\"\",Hindu, Kshatriya,Punjabi,Not Specified,Hyderabad, India,29\\r\\n992,male,\"5\\'10\"\"\",Hindu, Arya Vysya,Telugu,Software Professional,Hyderabad, India,31\\r\\n993,male,\"5\\'10\"\"\",Sikh, Kshatriya,Punjabi,Not Specified,Punjab, India,30\\r\\n994,male,\"5\\'11\"\"\",Hindu, Baniya,Hindi,Entrepreneurs / Business ,Fatehpur, India,34\\r\\n995,male,,,others,Hindi,,Bareilly, India,23\\r\\n996,female,\"5\\'3\"\"\",Sikh, Gursikh,Punjabi,Not working,Delhi, India,32\\r\\n997,female,\"5\\'0\"\"\",Hindu, Goud,Telugu,Banking Professional,Hyderabad, India,27\\r\\n998,male,,,,,,Bengaluru / Bangalore, India,28\\r\\n999,female,\"5\\'8\"\"\",Christian, Born Again,Marathi,Not working,Hamilton, New Zealand,31\\r\\n1000,female,\"5\\'5\"\"\",,others,Telugu,,Siddipet, India,27\\r\\n1001,male,\"5\\'10\"\"\",,,Kannada,Indian Police Services (IPS),, India,24\\r\\n1002,female,\"5\\'7\"\"\",,others,Hindi,,Patna, India,31\\r\\n1003,male,\"5\\'11\"\"\",,others,Telugu,,Eluru, India,24\\r\\n1004,female,\"5\\'4\"\"\",Hindu, Vanniyar,Tamil,Not Specified,Viluppuram, India,28\\r\\n1005,male,\"5\\'11\"\"\",Hindu, Brahmin,Marathi,Non IT Engineer (Others),Ratnagiri, India,31\\r\\n1006,male,\"5\\'7\"\"\",Christian, Roman Catholic,Malayalam,Software Consultant,Abu Dhabi, United Arab Emirates,31\\r\\n1007,male,\"5\\'2\"\"\",Muslim, Memon,Hindi,Not Specified,Ara, India,28\\r\\n1008,female,\"5\\'5\"\"\",Christian, Born Again,English,Doctor / Healthcare Professional,Henderson- NV, USA,29\\r\\n1009,female,\"5\\'3\"\"\",Christian, Marthoma,Malayalam,Not working,Thiruvananthapuram, India,32\\r\\n1010,male,\"5\\'11\"\"\",Hindu, Kayastha,Bengali,Software Professional,Hyderabad, India,35\\r\\n1011,male,\"5\\'7\"\"\",Hindu, Kalita,Assamese,Banking Professional,Guwahati, India,30\\r\\n1012,female,\"4\\'6\"\"\",Hindu, Baidya,Bengali,Chartered Accountant,Maharashtra, India,29\\r\\n1013,male,\"5\\'5\"\"\",,others,Bengali,Agricultural Professional (Others),Midnapore, India,24\\r\\n1014,male,\"5\\'11\"\"\",,others,Hindi,,, India,30\\r\\n1015,male,\"5\\'11\"\"\",Hindu, Patel,Gujarati,Chef / Sommelier / Food Critic,Auckland, New Zealand,33\\r\\n1016,male,\"5\\'8\"\"\",Hindu, Scheduled Caste (SC),Kannada,Not working,Bengaluru / Bangalore, India,35\\r\\n1017,male,\"5\\'5\"\"\",Hindu, Brahmin,Bengali,Research Scholar,Other, Canada,33\\r\\n1018,male,\"5\\'8\"\"\",Hindu, Balija,Telugu,Software Professional (Others),Chennai, India,30\\r\\n1019,male,\"5\\'11\"\"\",Hindu, Arora,Punjabi,Entrepreneurs / Business ,Delhi, India,35\\r\\n1020,male,\"5\\'7\"\"\",,others,Telugu,,Hyderabad, India,22\\r\\n1021,male,\"5\\'6\"\"\",Sikh, Khatri,Punjabi,Teacher,Ludhiana, India,33\\r\\n1022,female,\"5\\'2\"\"\",Sikh, Ramdasia,Punjabi,Not working,Brampton, Canada,30\\r\\n1023,male,\"6\\'0\"\"\",Hindu, Lingayath,Marathi,Electronics / Telecom Engineer,Chicago- IL, USA,32\\r\\n1024,female,\"5\\'4\"\"\",Hindu, Scheduled Caste (SC),Hindi,Managers and Senior Executives,Delhi, India,33\\r\\n1025,female,\"5\\'0\"\"\",Hindu, Viswabrahmin,Telugu,Not Specified,Coimbatore, India,28\\r\\n1026,male,\"5\\'7\"\"\",Sikh, Khatri,Punjabi,Architect,Delhi, India,32\\r\\n1027,male,\"5\\'8\"\"\",Sikh, Gursikh,Punjabi,Logistics and Travel Professional,Brampton, Canada,31\\r\\n1028,female,\"5\\'5\"\"\",Hindu, Bhandari,Odia,Accounting Professional (Others),Nayagarh, India,31\\r\\n1029,male,\"5\\'8\"\"\",,others,Malayalam,Electronics / Telecom Engineer,Surrey, United Kingdom,23\\r\\n1030,female,,,others,Marathi,,Akola, India,21\\r\\n1031,female,\"5\\'3\"\"\",,others,Telugu,Dentist,Anantapur, India,29\\r\\n1032,female,\"4\\'5\"\"\",Hindu, Baishnab,Bengali,Chartered Accountant,Dhaka, Bangladesh,26\\r\\n1033,male,\"5\\'11\"\"\",Hindu, Kaibarta,Odia,Sales Professional / Marketing,Surat, India,29\\r\\n1034,female,\"5\\'0\"\"\",,others,,,Visakhapatnam, India,27\\r\\n1035,male,\"5\\'5\"\"\",Hindu, Agarwal,Punjabi,Lawyer,Bathinda, India,32\\r\\n1036,female,\"5\\'2\"\"\",Hindu, Thakur,Hindi,Non IT Engineer (Others),Delhi, India,30\\r\\n1037,male,\"5\\'8\"\"\",,others,Bengali,Managers and Senior Executives,Bengaluru / Bangalore, India,31\\r\\n1038,female,\"5\\'0\"\"\",,others,Telugu,,, Italy,35\\r\\n1039,male,\"5\\'0\"\"\",Hindu, Baishnab,Bengali,Chef / Sommelier / Food Critic,Hailakandi, India,27\\r\\n1040,male,\"5\\'7\"\"\",Sikh, Khatri,Punjabi,Software Professional,Delhi, India,32\\r\\n1041,male,\"5\\'9\"\"\",,others,Bengali,Not Specified,Other, India,27\\r\\n1042,male,\"5\\'11\"\"\",Hindu, OBC - Barber/Naayee,Hindi,Landscape Architect,Bhagalpur, India,29\\r\\n1043,male,\"4\\'5\"\"\",Hindu, Kaibarta,Odia,Not working,Bhadrak, India,31\\r\\n1044,male,\"5\\'2\"\"\",Hindu, Billava,Kannada,Mechanical / Production Engineer,Mangaluru / Mangalore, India,30\\r\\n1045,female,\"5\\'4\"\"\",Christian, Marthoma,Malayalam,Doctor / Healthcare Professional,Alappuzha, India,29\\r\\n1046,male,\"5\\'8\"\"\",Hindu, Rajput - Lodhi,Marathi,Defense Services,Nagpur, India,29\\r\\n1047,female,\"5\\'2\"\"\",Hindu, OBC - Barber/Naayee,Hindi,Accounting Professional (Others),Bareilly, India,30\\r\\n1048,female,\"5\\'6\"\"\",Sikh, Ramdasia,Punjabi,Not Specified,Chandigarh, India,31\\r\\n1049,female,\"5\\'4\"\"\",Hindu, Arya Vysya,Telugu,Chartered Accountant,Eluru, India,27\\r\\n1050,female,\"5\\'0\"\"\",Hindu, Rajput - Lodhi,Hindi,Managers and Senior Executives,Delhi, India,27\\r\\n1051,male,\"5\\'10\"\"\",Hindu, Panchal,Gujarati,Architect,Surat, India,32\\r\\n1052,male,,,others,Hindi,,Mumbai, India,30\\r\\n1053,male,\"5\\'7\"\"\",Christian, Marthoma,Malayalam,Sales Professional / Marketing,Kent- WA, USA,31\\r\\n1054,male,\"5\\'0\"\"\",,others,,,Midnapore, India,25\\r\\n1055,female,\"5\\'3\"\"\",Sikh, Khatri,Punjabi,Agent / Broker / Trader / Contractor,Gurgaon, India,31\\r\\n1056,female,\"5\\'0\"\"\",,others,Marathi,Not working,Nagpur, India,25\\r\\n1057,male,\"5\\'7\"\"\",Hindu, Kaibarta,Assamese,Marketing Professional,Nalbari, India,28\\r\\n1058,male,\"4\\'10\"\"\",Muslim, Memon,Urdu,Event Manager,Sukkur, Pakistan,27\\r\\n1059,male,\"5\\'6\"\"\",Hindu, Kaibarta,Odia,Farming,Puri, India,28\\r\\n1060,female,\"5\\'3\"\"\",Hindu, Viswabrahmin,Telugu,Not working,Raipur, India,27\\r\\n1061,male,\"5\\'10\"\"\",,others,Malayalam,,Chennai, India,35\\r\\n1062,female,\"5\\'7\"\"\",Christian, Roman Catholic,Konkani,Consultant / Supervisor / Team Leads,Dubai, United Arab Emirates,29\\r\\n1063,female,\"5\\'4\"\"\",Hindu, Sindhi-Sakkhar,Sindhi,Not Specified,Indore, India,27\\r\\n1064,male,\"5\\'9\"\"\",,others,Hindi,,, India,35\\r\\n1065,male,\"5\\'8\"\"\",Hindu, OBC - Barber/Naayee,Hindi,Marketing Professional,Auraiya, India,27\\r\\n1066,female,\"5\\'2\"\"\",Hindu, Kayastha,Bengali,Lawyer,Mumbai, India,32\\r\\n1067,female,\"5\\'4\"\"\",,others,Telugu,,, India,20\\r\\n1068,female,\"5\\'5\"\"\",Jain, Shwetamber,Gujarati,Managers and Senior Executives,Philadelphia- PA, USA,33\\r\\n1069,male,\"5\\'4\"\"\",Hindu, Brahmin,Bengali,Managers and Senior Executives,Kolkata, India,33\\r\\n1070,female,,,others,Tamil,,, Malaysia,29\\r\\n1071,female,\"5\\'4\"\"\",Sikh, Khatri,Punjabi,Not working,Delhi, India,30\\r\\n1072,male,\"4\\'10\"\"\",Muslim, Memon,Hindi,Admin Professional,Ahmedabad, India,28\\r\\n1073,female,\"5\\'1\"\"\",,others,Hindi,,, India,26\\r\\n1074,male,\"5\\'11\"\"\",Hindu, Balija,Telugu,Company Secretary,Chittoor, India,29\\r\\n1075,female,\"5\\'3\"\"\",Hindu, Agarwal,Marwari,Software Consultant,Pune, India,30\\r\\n1076,male,\"5\\'8\"\"\",Hindu, Arya Vysya,Telugu,Hotel & Hospitality Professional (Others),Bheemavaram, India,31\\r\\n1077,female,\"5\\'0\"\"\",Hindu, Vanniyar,Tamil,Not working,Thanjavur, India,28\\r\\n1078,female,\"4\\'11\"\"\",Hindu, Ahom,Hindi,Not working,Tezu, India,27\\r\\n1079,male,\"5\\'0\"\"\",,others,Kannada,Not Specified,Hoovina Hadagalli, India,33\\r\\n1080,male,,,others,Kannada,Mechanical / Production Engineer,Pune, India,32\\r\\n1081,female,\"5\\'2\"\"\",Hindu, Brahmin,Hindi,Student,Uttaranchal, India,31\\r\\n1082,male,\"5\\'7\"\"\",Hindu, Agarwal,Punjabi,Entrepreneurs / Business ,Ludhiana, India,32\\r\\n1083,male,\"5\\'7\"\"\",Hindu, Balija,Kannada,Software Professional,Bengaluru / Bangalore, India,30\\r\\n1084,male,\"6\\'2\"\"\",Jain, Shwetamber,Gujarati,Mechanical / Production Engineer,Toronto, Canada,34\\r\\n1085,male,\"5\\'10\"\"\",Hindu, Brahmin,Telugu,Entrepreneurs / Business ,Secunderabad, India,30\\r\\n1086,female,\"5\\'0\"\"\",Hindu, Patel,Gujarati,Not working,Mumbai, India,30\\r\\n1087,female,\"5\\'8\"\"\",,others,Tamil,Doctor / Healthcare Professional,Jersey City- NJ, USA,28\\r\\n1088,male,\"5\\'11\"\"\",,others,Malayalam,Civil Engineer,Kasaragod, India,29\\r\\n1089,female,\"5\\'6\"\"\",Hindu, Kaibarta,Odia,Electronics / Telecom Engineer,Bengaluru / Bangalore, India,27\\r\\n1090,male,\"5\\'6\"\"\",Hindu, Kayastha,Bengali,Agricultural Professional (Others),Howra, India,34\\r\\n1091,female,\"5\\'5\"\"\",Hindu, Brahmin,Gujarati,Media Professional,Panaji, India,30\\r\\n1092,female,\"5\\'3\"\"\",Hindu, Kaibarta,Odia,Teacher,Dhenkanal, India,26\\r\\n1093,female,\"5\\'0\"\"\",,others,Telugu,Software Consultant,Columbus- OH, USA,33\\r\\n1094,male,\"5\\'11\"\"\",Hindu, Ahom,Assamese,Not Specified,Sibsagar, India,28\\r\\n1095,,,,others,Bengali,Investment Professional,Cooch Behar, India,31\\r\\n1096,male,\"5\\'2\"\"\",,others,Telugu,,, India,28\\r\\n1097,male,\"5\\'11\"\"\",Christian, Marthoma,Malayalam,Accounting Professional (Others),Kollam, India,33\\r\\n1098,male,\"5\\'8\"\"\",Hindu, Kshatriya,Hindi,Chef / Sommelier / Food Critic,Mumbai, India,31\\r\\n1099,female,\"4\\'11\"\"\",,others,Marathi,Banking Professional,Jalgaon, India,20\\r\\n1100,male,\"5\\'7\"\"\",Hindu, Panchal,Gujarati,Accounting Professional (Others),Enfield, United Kingdom,29\\r\\n1101,male,\"5\\'11\"\"\",Hindu, Sindhi-Sakkhar,Sindhi,Entrepreneurs / Business ,Indore, India,27\\r\\n1102,male,\"5\\'7\"\"\",Hindu, Panchal,Gujarati,Sales Professional / Marketing,Mumbai, India,29\\r\\n1103,female,\"5\\'2\"\"\",Sikh, Kshatriya,Punjabi,Banking Professional,Brampton, Canada,30\\r\\n1104,male,\"6\\'0\"\"\",Christian, Born Again,Telugu,Finance Professional,Kakinada, India,30\\r\\n1105,female,\"5\\'2\"\"\",Hindu, Rajput - Lodhi,Hindi,Nurse,Noida, India,29\\r\\n1106,male,\"5\\'7\"\"\",,,Telugu,,Sangareddy, India,28\\r\\n1107,male,,,others,,,Rajkot, India,25\\r\\n1108,female,\"5\\'1\"\"\",Hindu, Rajput - Lodhi,Hindi,Not working,Kanpur, India,29\\r\\n1109,female,\"5\\'8\"\"\",Hindu, Billava,Tulu,Non IT Engineer (Others),Karnataka, India,30\\r\\n1110,female,\"4\\'5\"\"\",Hindu, OBC - Barber/Naayee,Hindi,Not working,Durg, India,30\\r\\n1111,female,\"5\\'4\"\"\",Hindu, Lingayath,Kannada,Non IT Engineer (Others),Bengaluru / Bangalore, India,31\\r\\n1112,female,\"5\\'3\"\"\",Hindu, Arora,Hindi,Software Consultant,Delhi, India,34\\r\\n1113,male,\"5\\'10\"\"\",,,Marathi,Research Scholar,Mumbai, India,35\\r\\n1114,female,\"5\\'5\"\"\",Hindu, Brahmin,Marathi,Mechanical / Production Engineer,Houston- TX, USA,30\\r\\n1115,female,\"5\\'2\"\"\",Hindu, Patel,Gujarati,Marketing Professional,Mumbai, India,30\\r\\n1116,male,\"5\\'9\"\"\",,,Kannada,,Udupi, India,24\\r\\n1117,male,\"6\\'0\"\"\",Hindu, Brahmin,Telugu,Admin Professional,Secunderabad, India,30\\r\\n1118,male,\"5\\'9\"\"\",Christian, Marthoma,Malayalam,Not Specified,Baltimore- MD, USA,31\\r\\n1119,female,\"5\\'3\"\"\",Christian, Born Again,Marathi,Not working,Mumbai, India,29\\r\\n1120,female,\"5\\'1\"\"\",Hindu, Vaishnav,Gujarati,Banking Professional,Ahmedabad, India,30\\r\\n1121,female,\"4\\'5\"\"\",Muslim, Memon,Kutchi,Finance Professional,Other, Pakistan,29\\r\\n1122,female,,,others,Telugu,Software Consultant,Hyderabad, India,33\\r\\n1123,male,\"5\\'5\"\"\",Hindu, Agri,Marathi,Admin Professional,Mumbai, India,31\\r\\n1124,male,,,,,Electronics / Telecom Engineer,, India,24\\r\\n1125,male,,,others,,,Durg, India,29\\r\\n1126,male,\"5\\'10\"\"\",Hindu, Kayastha,Bengali,Finance Professional,London, United Kingdom,32\\r\\n1127,female,\"5\\'4\"\"\",Hindu, Kalita,Assamese,Not working,Guwahati, India,28\\r\\n1128,female,\"5\\'3\"\"\",,others,Bengali,Legal Professional (Others),Midnapore, India,25\\r\\n1129,male,\"5\\'5\"\"\",Hindu, Lingayath,Kannada,Marketing Professional,Hyderabad, India,32\\r\\n1130,female,\"5\\'4\"\"\",,others,Bengali,Not working,Bardhaman, India,21\\r\\n1131,male,\"5\\'5\"\"\",,,,,Los Angeles- CA, USA,26\\r\\n1132,male,\"5\\'9\"\"\",,,,Chartered Accountant,Ahmedabad, India,34\\r\\n1133,female,\"5\\'6\"\"\",Hindu, Thakur,Hindi,Not working,Katni, India,30\\r\\n1134,male,\"5\\'9\"\"\",Hindu, Rajput - Lodhi,Other,Mechanical / Production Engineer,Delhi, India,30\\r\\n1135,female,\"5\\'0\"\"\",Hindu, Goud,Odia,Team Member / Staff,Bhubaneswar, India,28\\r\\n1136,female,\"5\\'3\"\"\",,others,Marathi,,Nagpur, India,23\\r\\n1137,male,\"5\\'8\"\"\",Sikh, Khatri,Punjabi,Not working,Punjab, India,33\\r\\n1138,male,\"5\\'1\"\"\",Hindu, Bhatia,Punjabi,Entrepreneurs / Business ,Hoshiarpur, India,30\\r\\n1139,male,\"5\\'3\"\"\",Hindu, Agri,Marathi,Actor,Aurangabad, India,30\\r\\n1140,male,\"5\\'9\"\"\",,others,English,Finance Professional,Bedfordshire, United Kingdom,35\\r\\n1141,female,,,others,Hindi,,, India,34\\r\\n1142,male,\"5\\'9\"\"\",,others,,,Indore, India,32\\r\\n1143,female,\"5\\'2\"\"\",,,Gujarati,Software Professional,Ahmedabad, India,35\\r\\n1144,male,\"5\\'9\"\"\",Hindu, Baishnab,Bengali,Not Specified,Kolkata, India,29\\r\\n1145,female,\"5\\'6\"\"\",Hindu, Kalita,Assamese,Not Specified,Guwahati, India,27\\r\\n1146,female,\"5\\'3\"\"\",Hindu, Lingayath,Kannada,Software Professional,Mumbai, India,29\\r\\n1147,male,\"4\\'5\"\"\",,,Hindi,,Pali, India,21\\r\\n1148,male,\"4\\'6\"\"\",Hindu, Baishya,Bengali,Not working,Jamshedpur, India,29\\r\\n1149,female,\"5\\'4\"\"\",Hindu, Bhatia,Sindhi,Not Specified,Dubai, United Arab Emirates,31\\r\\n1150,female,\"5\\'9\"\"\",Hindu, Brahmin,Marathi,Fashion Designer,Pune, India,29\\r\\n1151,male,\"6\\'0\"\"\",Hindu, Agarwal,Marwari,Entrepreneurs / Business ,Baripada, India,32\\r\\n1152,female,\"5\\'2\"\"\",Hindu, Baishya,Bengali,HR Professional,Kolkata, India,29\\r\\n1153,female,\"5\\'2\"\"\",Hindu, Goud,Haryanavi,Customer Support / BPO / KPO Professional,Delhi, India,27\\r\\n1154,male,\"5\\'5\"\"\",Hindu, Viswabrahmin,Telugu,Not working,Warangal, India,31\\r\\n1155,female,\"5\\'2\"\"\",,others,Kannada,Not Specified,, India,28\\r\\n1156,male,\"5\\'4\"\"\",,others,Telugu,,Hyderabad, India,30\\r\\n1157,male,\"5\\'9\"\"\",Christian, Born Again,Tamil,Entrepreneurs / Business ,Chennai, India,32\\r\\n1158,male,\"5\\'8\"\"\",Sikh, Gursikh,Punjabi,Software Professional (Others),Markham, Canada,31\\r\\n1159,male,\"5\\'10\"\"\",Hindu, Arora,Hindi,Agent / Broker / Trader / Contractor,Gurgaon, India,33\\r\\n1160,male,\"5\\'4\"\"\",Christian, Marthoma,Malayalam,Hardware & Networking professional,Idukki, India,33\\r\\n1161,,,,others,Bengali,Marketing Professional,Gurgaon, India,27\\r\\n1162,male,\"5\\'7\"\"\",Hindu, Brahmin,Telugu,Finance Professional,Delhi, India,33\\r\\n1163,male,\"5\\'7\"\"\",Hindu, Balija,Telugu,Software Professional (Others),Bengaluru / Bangalore, India,30\\r\\n1164,female,\"5\\'7\"\"\",Hindu, Agarwal,Punjabi,Finance Professional,Chandigarh, India,30\\r\\n1165,female,\"5\\'6\"\"\",Hindu, Vaishnav,Gujarati,Professor,Mumbai, India,30\\r\\n1166,male,\"5\\'10\"\"\",Hindu, Brahmin,Hindi,Software Professional (Others),Pune, India,33\\r\\n1167,male,\"5\\'5\"\"\",,others,Telugu,,Mumbai, India,34\\r\\n1168,male,\"5\\'4\"\"\",Hindu, Thakur,Hindi,Marketing Professional,Mumbai, India,29\\r\\n1169,male,\"5\\'8\"\"\",Hindu, Billava,Kannada,Not working,Mangaluru / Mangalore, India,30\\r\\n1170,female,\"5\\'1\"\"\",Hindu, Agarwal,Punjabi,Chartered Accountant,Chandigarh, India,30\\r\\n1171,male,\"5\\'5\"\"\",Christian, Marthoma,Malayalam,Civil Engineer,Abu Dhabi, United Arab Emirates,32\\r\\n1172,female,\"5\\'4\"\"\",,others,Bengali,Media Professional,Alipore, India,33\\r\\n1173,male,\"5\\'6\"\"\",Hindu, Brahmin,Telugu,Electronics / Telecom Engineer,Folsom- CA, USA,33\\r\\n1174,female,\"5\\'5\"\"\",Sikh, Ramdasia,Punjabi,Marketing Professional,Delhi, India,31\\r\\n1175,male,\"5\\'7\"\"\",Hindu, Agarwal,Punjabi,Team Member / Staff,Punjab, India,32\\r\\n1176,female,\"5\\'2\"\"\",Hindu, Brahmin,Bengali,Doctor / Healthcare Professional,London, United Kingdom,29\\r\\n1177,female,\"5\\'6\"\"\",,others,Telugu,,Dubai,,30\\r\\n1178,male,\"5\\'5\"\"\",,others,Telugu,,, India,27\\r\\n1179,female,,,others,Marathi,Accounting Professional (Others),Nagpur, India,33\\r\\n1180,female,\"5\\'1\"\"\",Hindu, Baidya,Bengali,Media Professional,Bengaluru / Bangalore, India,29\\r\\n1181,male,\"5\\'8\"\"\",,others,,,Parbhani, India,35\\r\\n1182,female,\"5\\'1\"\"\",,others,,,Pulau Pinang, Malaysia,33\\r\\n1183,male,\"5\\'9\"\"\",Hindu, Scheduled Caste (SC),Hindi,Managers and Senior Executives,Ahmedabad, India,34\\r\\n1184,male,\"5\\'10\"\"\",,others,Tamil,,Kuala Lumpur, Malaysia,26\\r\\n1185,female,\"4\\'6\"\"\",Sikh, Kshatriya,Assamese,Not Specified,Dera Allah Yar, Pakistan,30\\r\\n1186,male,\"5\\'2\"\"\",Hindu, Baniya,Hindi,Entrepreneurs / Business ,Chandigarh, India,35\\r\\n1187,male,\"5\\'7\"\"\",Sikh, Kshatriya,Hindi,Not Specified,Bengaluru / Bangalore, India,33\\r\\n1188,female,\"5\\'1\"\"\",Hindu, Kshatriya,Hindi,Customer Support / BPO / KPO Professional,Gorakhpur, India,29\\r\\n1189,male,,,others,Kannada,Not Specified,Bengaluru / Bangalore, India,22\\r\\n1190,male,\"4\\'9\"\"\",,others,Bengali,,, India,21\\r\\n1191,male,\"5\\'6\"\"\",Hindu, Viswabrahmin,Telugu,Banking Professional,Bengaluru / Bangalore, India,31\\r\\n1192,female,\"5\\'2\"\"\",Hindu, Panchal,Hindi,Finance Professional,Delhi, India,28\\r\\n1193,male,\"5\\'0\"\"\",Hindu, Arya Vysya,Telugu,Finance Professional,Hyderabad, India,30\\r\\n1194,male,\"6\\'1\"\"\",Sikh, Khatri,Punjabi,Entrepreneurs / Business ,Kirkcaldy, United Kingdom,31\\r\\n1195,female,\"5\\'8\"\"\",,,Tulu,,Bengaluru / Bangalore, India,31\\r\\n1196,male,\"5\\'9\"\"\",Hindu, Panchal,Gujarati,Team Member / Staff,Ahmedabad, India,29\\r\\n1197,male,\"5\\'5\"\"\",Hindu, Arya Vysya,Telugu,Defense Services,Ponnur, India,31\\r\\n1198,female,\"5\\'5\"\"\",Hindu, Arya Vysya,Telugu,Managers and Senior Executives,Seattle- WA, USA,27\\r\\n1199,female,\"5\\'2\"\"\",Sikh, Kshatriya,Punjabi,Training Professional (Others),Amritsar, India,31\\r\\n1200,female,\"4\\'5\"\"\",Hindu, Ahom,Assamese,Lawyer,Jorhat, India,30\\r\\n1201,male,\"5\\'5\"\"\",Hindu, Rajput - Lodhi,Hindi,Mechanical / Production Engineer,Aligarh, India,31\\r\\n1202,male,\"5\\'2\"\"\",Hindu, Sindhi-Sakkhar,Hindi,Not working,Uttaranchal, India,30\\r\\n1203,male,\"5\\'6\"\"\",Hindu, Thakur,Hindi,Actor,Lucknow, India,28\\r\\n1204,male,\"5\\'9\"\"\",Hindu, Lingayath,Marathi,Software Professional (Others),Pune, India,34\\r\\n1205,female,\"4\\'5\"\"\",Hindu, Viswabrahmin,Telugu,Admin Professional,Hyderabad, India,26\\r\\n1206,male,\"5\\'2\"\"\",Hindu, Vanniyar,Tamil,Mechanical / Production Engineer,Erode, India,29\\r\\n1207,female,\"4\\'8\"\"\",,others,Telugu,,Chennai,,28\\r\\n1208,male,\"5\\'7\"\"\",Hindu, Patel,Gujarati,Non IT Engineer (Others),Cambridge- MA, USA,33\\r\\n1209,male,\"6\\'2\"\"\",Hindu, Brahmin,Bengali,Web / UX Designers,Jabalpur, India,31\\r\\n1210,male,\"6\\'0\"\"\",Hindu, Saini,Punjabi,Farming,Pathankot, India,32\\r\\n1211,female,\"4\\'5\"\"\",Hindu, Saini,Hindi,Not working,Narnaul, India,27\\r\\n1212,male,\"4\\'8\"\"\",Muslim, Memon,Kannada,Team Member / Staff,Belagavi / Belagaum, India,29\\r\\n1213,female,\"5\\'6\"\"\",Hindu, Brahmin,Marathi,Psychologist,Pune, India,28\\r\\n1214,,,,others,Malayalam,,Kozhikode, India,29\\r\\n1215,male,\"5\\'5\"\"\",Hindu, Bhandari,Odia,Software Professional,Hyderabad, India,30\\r\\n1216,male,\"5\\'11\"\"\",Jain, Shwetamber,Gujarati,Chartered Accountant,Ahmedabad, India,35\\r\\n1217,female,\"5\\'2\"\"\",Hindu, Baidya,Bengali,Not working,Barasat, India,27\\r\\n1218,female,\"5\\'0\"\"\",Hindu, Kaibarta,Assamese,Teacher,Jorhat, India,27\\r\\n1219,female,\"5\\'4\"\"\",Hindu, Bhatia,Sindhi,Marketing Professional,Mumbai, India,28\\r\\n1220,male,\"5\\'7\"\"\",Hindu, Valmiki,Hindi,Agent / Broker / Trader / Contractor,Noida, India,29\\r\\n1221,male,\"5\\'10\"\"\",Hindu, Arya Vysya,Telugu,Science Professional (Others),Medford- NY, USA,31\\r\\n1222,,,,others,Kannada,,, India,24\\r\\n1223,male,\"5\\'9\"\"\",Hindu, Agarwal,Punjabi,Student,Punjab, India,32\\r\\n1224,male,\"5\\'7\"\"\",Hindu, Vanniyar,Tamil,Mechanical / Production Engineer,Salem, India,31\\r\\n1225,female,\"5\\'2\"\"\",Jain, Shwetamber,Gujarati,Software Professional,Mumbai, India,34\\r\\n1226,male,\"5\\'9\"\"\",Sikh, Gursikh,Punjabi,Not Specified,Melbourne, Australia,31\\r\\n1227,female,\"5\\'4\"\"\",Hindu, Agarwal,Punjabi,HR Professional,Chandigarh, India,27\\r\\n1228,male,\"5\\'3\"\"\",Hindu, Billava,Marathi,Not working,Aurangabad, India,30\\r\\n1229,female,\"4\\'7\"\"\",Muslim, Memon,Gujarati,Banking Professional,Ahmedabad, India,29\\r\\n1230,male,\"5\\'7\"\"\",Hindu, Billava,Kannada,Banking Professional,Ballari / Bellary, India,31\\r\\n1231,male,\"5\\'6\"\"\",Hindu, Brahmin,Hindi,Marketing Professional,Ghaziabad, India,33\\r\\n1232,female,\"4\\'5\"\"\",Hindu, Bhatia,Bhojpuri,Not Specified,Patna, India,29\\r\\n1233,male,\"4\\'5\"\"\",Hindu, Baishnab,Assamese,HR Professional,Chittoor, India,29\\r\\n1234,female,\"5\\'6\"\"\",Sikh, Gursikh,Punjabi,Not working,Delhi, India,31\\r\\n1235,male,\"5\\'8\"\"\",Hindu, Baishya,Bengali,Software Professional,Bengaluru / Bangalore, India,30\\r\\n1236,male,\"5\\'11\"\"\",Hindu, Baidya,Bengali,Medical / Healthcare Professional (Others),Kolkata, India,29\\r\\n1237,female,\"5\\'5\"\"\",Hindu, Brahmin,Marathi,Software Professional,Philadelphia- PA, USA,28\\r\\n1238,female,\"5\\'0\"\"\",Christian, Roman Catholic,Tamil,Not Specified,Chennai, India,32\\r\\n1239,male,\"5\\'6\"\"\",Hindu, Thakur,Hindi,Team Member / Staff,Delhi, India,30\\r\\n1240,male,\"4\\'6\"\"\",Muslim, Memon,Hindi,Farming,Bhopal, India,26\\r\\n1241,female,\"5\\'0\"\"\",Hindu, Baniya,Hindi,Physiotherapist / Occupational Therapist,Delhi, India,35\\r\\n1242,female,\"5\\'2\"\"\",,others,Hindi,,, India,33\\r\\n1243,female,\"4\\'5\"\"\",Hindu, Agarwal,Punjabi,Banking Professional,Chittoor, India,30\\r\\n1244,female,\"5\\'3\"\"\",Hindu, Brahmin,Marathi,Finance Professional,Nanded, India,29\\r\\n1245,female,\"5\\'3\"\"\",Hindu, Baishya,Hindi,Teacher,Fatehgarh, India,28\\r\\n1246,male,\"5\\'8\"\"\",Hindu, Brahmin,Hindi,Teacher,Delhi, India,33\\r\\n1247,male,\"5\\'6\"\"\",Sikh, Gursikh,Punjabi,Marketing Professional,Bengaluru / Bangalore, India,33\\r\\n1248,female,\"5\\'3\"\"\",,others,Hindi,Not working,Raipur, India,21\\r\\n1249,female,\"5\\'2\"\"\",Hindu, Brahmin,Marathi,Hotel & Hospitality Professional (Others),Nashik, India,31\\r\\n1250,male,\"5\\'8\"\"\",Sikh, Gursikh,Punjabi,Sales Professional / Marketing,Ghaziabad, India,31\\r\\n1251,male,\"5\\'7\"\"\",Hindu, Brahmin,Marathi,Banking Professional,Beed, India,31\\r\\n1252,male,\"5\\'8\"\"\",Hindu, Baniya,Hindi,Managers and Senior Executives,Dubai, United Arab Emirates,34\\r\\n1253,male,\"5\\'8\"\"\",,,Kannada,,, India,30\\r\\n1254,female,\"5\\'2\"\"\",Hindu, Rajput - Lodhi,Hindi,Not working,Hamirpur, India,27\\r\\n1255,female,\"5\\'2\"\"\",,,Sindhi,,, United Arab Emirates,27\\r\\n1256,female,\"5\\'0\"\"\",,others,Marathi,Accounting Professional (Others),Mumbai, India,\\r\\n1257,male,\"5\\'9\"\"\",,others,Telugu,,Mumbai, India,26\\r\\n1258,female,\"4\\'7\"\"\",Hindu, Baishnab,Assamese,Not Specified,Yercaud, India,25\\r\\n1259,female,\"4\\'5\"\"\",,others,Telugu,Not working,Shivamogga, India,27\\r\\n1260,female,\"5\\'2\"\"\",Hindu, Rajput - Lodhi,Hindi,HR Professional,Noida, India,30\\r\\n1261,male,\"4\\'5\"\"\",,,Hindi,,Jodhpur, India,24\\r\\n1262,male,\"5\\'9\"\"\",,others,Telugu,,Hyderabad,,29\\r\\n1263,female,\"5\\'7\"\"\",Hindu, Lingayath,Kannada,Customer Support / BPO / KPO Professional,Bengaluru / Bangalore, India,29\\r\\n1264,male,\"5\\'9\"\"\",Hindu, Vaishnav,Gujarati,Banking Professional,Mumbai, India,32\\r\\n1265,male,\"5\\'11\"\"\",Hindu, Scheduled Caste (SC),Hindi,Medical / Healthcare Professional (Others),Delhi, India,32\\r\\n1266,female,\"5\\'3\"\"\",Hindu, Vaishnav,Gujarati,Not working,Jamshedpur, India,28\\r\\n1267,female,\"4\\'10\"\"\",Hindu, Baishnab,Odia,Software Professional (Others),Bengaluru / Bangalore, India,25\\r\\n1268,male,\"5\\'6\"\"\",,others,Bengali,Legal Professional (Others),Bankura, India,30\\r\\n1269,male,\"5\\'5\"\"\",Hindu, Baidya,Bengali,Not Specified,Tripura, India,30\\r\\n1270,male,\"6\\'10\"\"\",Hindu, Vaishnav,Gujarati,Logistics and Travel Professional,Jamnagar, India,30\\r\\n1271,female,\"5\\'3\"\"\",Hindu, Baishya,Bengali,HR Professional,Hyderabad, India,29\\r\\n1272,female,\"5\\'4\"\"\",Christian, Roman Catholic,Tamil,Banking Professional,Salem, India,31\\r\\n1273,male,\"5\\'5\"\"\",Hindu, Thakur,Hindi,Non IT Engineer (Others),Hazaribag, India,29\\r\\n1274,male,\"5\\'6\"\"\",Hindu, Panchal,Gujarati,HR Professional,Ahmedabad, India,30\\r\\n1275,male,\"5\\'9\"\"\",,others,Malayalam,,Kochi, India,28\\r\\n1276,female,\"5\\'9\"\"\",,,,Managers and Senior Executives,Mumbai, India,35\\r\\n1277,male,\"5\\'9\"\"\",Hindu, Agarwal,Punjabi,Hotel & Hospitality Professional (Others),Delhi, India,30\\r\\n1278,female,\"5\\'0\"\"\",Hindu, Rajput - Lodhi,Hindi,Not working,Bareilly, India,29\\r\\n1279,male,\"5\\'6\"\"\",,others,Telugu,,Dowleswaram, India,26\\r\\n1280,female,\"5\\'4\"\"\",Hindu, Panchal,Marathi,Not working,Chandrapur, India,27\\r\\n1281,female,\"6\\'8\"\"\",,others,Hindi,,, India,27\\r\\n1282,female,\"5\\'0\"\"\",Hindu, Vanniyar,Tamil,Software Professional (Others),Tiruvallur, India,28\\r\\n1283,male,\"5\\'6\"\"\",Hindu, Saini,Hindi,Non IT Engineer (Others),Alwar, India,32\\r\\n1284,male,\"5\\'3\"\"\",Hindu, Kaibarta,Odia,Agent / Broker / Trader / Contractor,Boudh, India,28\\r\\n1285,female,\"5\\'7\"\"\",Hindu, Patel,Gujarati,Legal Assistant,Greater London / Middlesex, United Kingdom,29\\r\\n1286,female,\"5\\'1\"\"\",Hindu, Kayastha,Bengali,Software Professional (Others),Kolkata, India,34\\r\\n1287,female,\"5\\'8\"\"\",Sikh, Khatri,Punjabi,Not working,Delhi, India,28\\r\\n1288,male,\"5\\'6\"\"\",Hindu, Brahmin,Marathi,Not working,Clemson- SC, USA,33\\r\\n1289,male,\"5\\'10\"\"\",Hindu, Lingayath,Kannada,Software Professional,Bengaluru / Bangalore, India,34\\r\\n1290,male,\"5\\'8\"\"\",Hindu, Brahmin,Konkani,Consultant / Supervisor / Team Leads,Kuwait, Kuwait,30\\r\\n1291,female,\"5\\'3\"\"\",Sikh, Gursikh,Punjabi,Not Specified,Delhi, India,30\\r\\n1292,female,\"5\\'6\"\"\",Hindu, Sindhi-Sakkhar,Sindhi,HR Professional,Bhopal, India,27\\r\\n1293,female,\"5\\'5\"\"\",Hindu, Brahmin,Bengali,Banking Professional,Kolkata, India,28\\r\\n1294,male,\"5\\'8\"\"\",Christian, Marthoma,Malayalam,Not Specified,Dallas- TX, USA,32\\r\\n1295,male,\"5\\'10\"\"\",Muslim, Memon,Hindi,Doctor / Healthcare Professional,Giridih, India,26\\r\\n1296,male,\"5\\'7\"\"\",Hindu, Baniya,Hindi,Sales Professional / Marketing,Patna, India,33\\r\\n1297,male,\"5\\'5\"\"\",,others,Bengali,Designer (Others),Durgapur, India,31\\r\\n1298,female,\"5\\'2\"\"\",Hindu, Baidya,Bengali,Finance Professional,Mumbai, India,26\\r\\n1299,,\"4\\'5\"\"\",,others,Hindi,,Valsad, India,23\\r\\n1300,female,\"5\\'1\"\"\",Jain, Shwetamber,Gujarati,Not working,Mumbai, India,35\\r\\n1301,female,\"5\\'7\"\"\",Hindu, Bhatia,Punjabi,Consultant / Supervisor / Team Leads,New York- NY, USA,30\\r\\n1302,male,\"5\\'7\"\"\",Hindu, Panchal,Gujarati,Non IT Engineer (Others),Anand, India,32\\r\\n1303,male,\"5\\'8\"\"\",,others,Kannada,,Bhatkal, India,27\\r\\n1304,male,\"5\\'5\"\"\",Hindu, Saini,Hindi,Non IT Engineer (Others),Jaipur, India,30\\r\\n1305,male,\"5\\'5\"\"\",Hindu, Scheduled Caste (SC),Punjabi,Team Member / Staff,Melbourne, Australia,32\\r\\n1306,male,\"5\\'7\"\"\",Hindu, Billava,Kannada,Finance Professional,Mangaluru / Mangalore, India,31\\r\\n1307,male,\"4\\'5\"\"\",Hindu, Vaishnav,Gujarati,Not Specified,Kheda, India,32\\r\\n1308,male,\"5\\'6\"\"\",Hindu, Billava,Tulu,Designer (Others),Udupi, India,28\\r\\n1309,female,,,others,,,Ernakulam, India,27\\r\\n1310,female,\"5\\'6\"\"\",Hindu, Brahmin,Hindi,Not working,Madhubani, India,29\\r\\n1311,female,\"5\\'4\"\"\",,others,Telugu,,Hyderabad, India,27\\r\\n1312,male,\"5\\'1\"\"\",Hindu, Billava,Kannada,Not Specified,Ambala, India,31\\r\\n1313,female,\"5\\'0\"\"\",Hindu, Saini,Hindi,Managers and Senior Executives,Aligarh, India,29\\r\\n1314,male,\"5\\'5\"\"\",Hindu, Vaishnav,Gujarati,Banking Professional,Ahmedabad, India,30\\r\\n1315,male,\"5\\'2\"\"\",,others,Telugu,,Warangal, India,27\\r\\n1316,male,\"5\\'7\"\"\",Hindu, Arora,Punjabi,Software Professional (Others),Delhi, India,36\\r\\n1317,female,\"5\\'1\"\"\",Hindu, Brahmin,Marathi,Not Specified,Pune, India,31\\r\\n1318,male,\"5\\'5\"\"\",Hindu, Arora,Hindi,Entrepreneurs / Business ,Sydney, Australia,35\\r\\n1319,male,\"6\\'3\"\"\",Hindu, Viswabrahmin,Telugu,Architect,Toronto, Canada,29\\r\\n1320,male,\"5\\'7\"\"\",Hindu, Valmiki,Kannada,Agricultural Professional (Others),Shirhatti, India,31\\r\\n1321,male,\"5\\'11\"\"\",,others,Telugu,,Andhra Pradesh, India,30\\r\\n1322,female,\"5\\'4\"\"\",Sikh, Khatri,Punjabi,Teacher,Gujarat, India,28\\r\\n1323,female,\"5\\'3\"\"\",Hindu, Arya Vysya,Hindi,Customer Support / BPO / KPO Professional,Delhi, India,25\\r\\n1324,male,\"5\\'0\"\"\",Hindu, Brahmin,Gujarati,Finance Professional,Ahmedabad, India,30\\r\\n1325,male,\"5\\'5\"\"\",Hindu, Lingayath,Kannada,Admin Professional,Hubbali-Dharwad, India,33\\r\\n1326,male,\"5\\'6\"\"\",Hindu, Saini,Hindi,Not Specified,Deoria, India,32\\r\\n1327,male,\"5\\'9\"\"\",Hindu, Brahmin,Gujarati,Banking Professional,Valsad, India,33\\r\\n1328,female,\"5\\'4\"\"\",,,,Teacher,Allahabad, India,35\\r\\n1329,male,\"5\\'8\"\"\",,others,,,Secunderabad, India,24\\r\\n1330,female,\"5\\'2\"\"\",Hindu, Arya Vysya,Telugu,Not working,Srikakulam, India,26\\r\\n1331,male,\"5\\'7\"\"\",,others,Kannada,Not Specified,Shivamogga, India,24\\r\\n1332,female,\"5\\'2\"\"\",Hindu, Bhandari,Konkani,Not working,Goa, India,29\\r\\n1333,male,\"5\\'7\"\"\",,,Telugu,,Mumbai, India,30\\r\\n1334,female,\"5\\'1\"\"\",Christian, Born Again,Malayalam,Dentist,Kottayam, India,31\\r\\n1335,male,\"5\\'10\"\"\",Sikh, Ramdasia,Punjabi,Banking Professional,Jalandhar, India,32\\r\\n1336,male,\"5\\'1\"\"\",,others,Telugu,Not working,Visakhapatnam, India,\\r\\n1337,male,\"6\\'0\"\"\",Hindu, Arora,Hindi,Consultant / Supervisor / Team Leads,Faridabad, India,35\\r\\n1338,male,\"5\\'8\"\"\",,others,Telugu,,Guntur, India,28\\r\\n1339,female,\"5\\'3\"\"\",Hindu, Kshatriya,Marathi,Doctor / Healthcare Professional,Mumbai, India,29\\r\\n1340,male,\"5\\'10\"\"\",,others,Malayalam,Software Professional,Coimbatore, India,24\\r\\n1341,female,\"7\\'0\"\"\",,others,Tamil,,Erode, India,29\\r\\n1342,female,\"5\\'0\"\"\",,others,Marathi,Not Specified,, India,22\\r\\n1343,male,\"5\\'8\"\"\",Hindu, Sahu,Hindi,Dentist,Chhindwara, India,28\\r\\n1344,male,\"5\\'8\"\"\",,others,Sindhi,,, India,29\\r\\n1345,male,\"5\\'9\"\"\",Hindu, Panchal,Gujarati,Jewellery Designer,Rajkot, India,32\\r\\n1346,male,\"5\\'6\"\"\",Sikh, Ramdasia,Punjabi,Lawyer,Ludhiana, India,32\\r\\n1347,male,\"5\\'8\"\"\",Hindu, Lingayath,Kannada,Banking Professional,Hyderabad, India,34\\r\\n1348,male,\"5\\'7\"\"\",Hindu, Ahom,Assamese,Investment Professional,Sibsagar, India,29\\r\\n1349,male,\"5\\'7\"\"\",Hindu, Agarwal,Punjabi,Entrepreneurs / Business ,Sangrur, India,31\\r\\n1350,female,\"5\\'2\"\"\",Hindu, Panchal,Gujarati,Not Specified,Ahmedabad, India,27\\r\\n1351,female,\"5\\'0\"\"\",Hindu, Brahmin,Marathi,Not Specified,Pune, India,31\\r\\n1352,female,\"5\\'5\"\"\",Hindu, Kshatriya,Hindi,Banking Professional,Hyderabad, India,30\\r\\n1353,female,\"5\\'2\"\"\",Hindu, Bhandari,Marathi,Accounting Professional (Others),Mumbai, India,31\\r\\n1354,male,\"6\\'5\"\"\",,others,Hindi,Not working,Jodhpur, India,21\\r\\n1355,female,,,others,Kannada,Software Professional (Others),Bengaluru / Bangalore, India,25\\r\\n1356,female,\"5\\'2\"\"\",Hindu, Sahu,Hindi,Teacher,Jabalpur, India,27\\r\\n1357,male,\"5\\'11\"\"\",Hindu, Kshatriya,Gujarati,Non IT Engineer (Others),Richmond- VA, USA,31\\r\\n1358,male,\"5\\'6\"\"\",,others,Kannada,,Al Jumaliyah, Qatar,32\\r\\n1359,male,\"5\\'8\"\"\",Hindu, Arya Vysya,Telugu,Software Professional (Others),Bengaluru / Bangalore, India,29\\r\\n1360,male,\"4\\'5\"\"\",Hindu, Ahom,Assamese,Banking Professional,Adamsville- AL, USA,30\\r\\n1361,male,\"5\\'7\"\"\",,others,Bengali,Banking Professional,Kharagpur, India,27\\r\\n1362,female,\"5\\'0\"\"\",Hindu, Baishnab,Odia,Banking Professional,Guwahati, India,26\\r\\n1363,female,\"4\\'7\"\"\",Hindu, Baishnab,Bengali,Company Secretary,Howra, India,26\\r\\n1364,male,\"5\\'11\"\"\",Sikh, Khatri,Punjabi,Entrepreneurs / Business ,Delhi, India,31\\r\\n1365,male,\"5\\'8\"\"\",Hindu, Balija,Telugu,Consultant / Supervisor / Team Leads,Bengaluru / Bangalore, India,28\\r\\n1366,female,\"5\\'2\"\"\",Hindu, Kalita,Assamese,Student,Guwahati, India,29\\r\\n1367,female,\"5\\'2\"\"\",,others,Telugu,,Manugur, India,26\\r\\n1368,female,\"5\\'1\"\"\",,others,Tulu,,, India,28\\r\\n1369,female,\"5\\'1\"\"\",Hindu, Ahom,Assamese,Other Airline Professional,Alipore, India,27\\r\\n1370,female,\"5\\'4\"\"\",Hindu, Lingayath,Kannada,Software Professional,Bengaluru / Bangalore, India,31\\r\\n1371,female,\"5\\'4\"\"\",Hindu, Brahmin,Hindi,Accounting Professional (Others),Patna, India,29\\r\\n1372,male,\"5\\'7\"\"\",Hindu, Sindhi-Sakkhar,Sindhi,Entrepreneurs / Business ,Bhavnagar, India,28\\r\\n1373,female,\"5\\'9\"\"\",Hindu, Billava,Tulu,Teacher,Karnataka, India,30\\r\\n1374,male,\"5\\'5\"\"\",Hindu, Patel,Hindi,Event Manager,Raipur, India,32\\r\\n1375,female,\"5\\'0\"\"\",Hindu, Brahmin,Marathi,HR Professional,Mumbai, India,28\\r\\n1376,male,,,,,Chartered Accountant,, India,34\\r\\n1377,male,\"5\\'7\"\"\",Hindu, Vanniyar,Tamil,Mechanical / Production Engineer,Salem, India,29\\r\\n1378,female,\"4\\'7\"\"\",Hindu, Saini,Hindi,Teacher,Saharanpur, India,30\\r\\n1379,male,\"5\\'3\"\"\",Hindu, Brahmin,Marathi,Consultant / Supervisor / Team Leads,Mumbai, India,30\\r\\n1380,female,\"5\\'1\"\"\",Jain, Shwetamber,Gujarati,Not working,Ratnagiri, India,33\\r\\n1381,male,\"5\\'8\"\"\",Hindu, Sindhi-Sakkhar,Sindhi,Not Specified,Delhi, India,28\\r\\n1382,male,\"5\\'4\"\"\",,others,Hindi,,, India,31\\r\\n1383,male,\"5\\'8\"\"\",Sikh, Ramdasia,Punjabi,Not working,Mohali, India,30\\r\\n1384,female,,,others,Telugu,Lecturer,Chennai, India,30\\r\\n1385,male,\"5\\'10\"\"\",Hindu, Viswabrahmin,Telugu,Software Professional,San Diego- CA, USA,28\\r\\n1386,male,\"4\\'5\"\"\",Hindu, Baidya,Bengali,Banking Professional,Krishnanagar, India,28\\r\\n1387,male,\"5\\'4\"\"\",Hindu, Baidya,Bengali,Not working,Kolkata, India,28\\r\\n1388,female,\"5\\'3\"\"\",,,Hindi,Software Professional,Pune, India,34\\r\\n1389,female,\"5\\'2\"\"\",Sikh, Ramdasia,Punjabi,Teacher,Punjab, India,29\\r\\n1390,female,\"5\\'5\"\"\",Hindu, Arya Vysya,Telugu,Not working,Nellore, India,24\\r\\n1391,female,\"4\\'5\"\"\",Hindu, Sahu,Hindi,Banking Professional,Lucknow, India,27\\r\\n1392,female,\"5\\'0\"\"\",Hindu, Goud,Chattisgarhi,HR Professional,Delhi, India,29\\r\\n1393,male,\"6\\'2\"\"\",,others,,,Bengaluru / Bangalore, India,25\\r\\n1394,female,\"5\\'2\"\"\",Hindu, Lingayath,Kannada,Not working,Belagavi / Belagaum, India,32\\r\\n1395,female,\"5\\'2\"\"\",Sikh, Gursikh,Punjabi,HR Professional,Mumbai, India,32\\r\\n1396,male,\"5\\'6\"\"\",Hindu, Agri,Marathi,Doctor / Healthcare Professional,Maharashtra, India,31\\r\\n1397,female,\"5\\'0\"\"\",Christian, Marthoma,Malayalam,Teacher,New York- NY, USA,30\\r\\n1398,female,,,others,Hindi,,Moradabad, India,29\\r\\n1399,male,\"4\\'6\"\"\",Hindu, Baishya,Bengali,Fashion Designer,Silchar, India,30\\r\\n1400,male,\"5\\'8\"\"\",Hindu, Thakur,Hindi,Surgeon,Agra, India,29\\r\\n1401,female,\"4\\'11\"\"\",Hindu, Brahmin,Telugu,Not working,Khammam, India,28\\r\\n1402,female,\"5\\'3\"\"\",Hindu, Kayastha,Bengali,HR Professional,Bengaluru / Bangalore, India,33\\r\\n1403,male,\"5\\'10\"\"\",Sikh, Kshatriya,Punjabi,Mechanical / Production Engineer,Surrey, Canada,30\\r\\n1404,female,\"4\\'7\"\"\",Christian, Roman Catholic,Tamil,Customer Support / BPO / KPO Professional,Pune, India,32\\r\\n1405,female,\"5\\'7\"\"\",Hindu, Ahom,Assamese,Banking Professional,Chittoor, India,29\\r\\n1406,female,\"5\\'5\"\"\",Hindu, Brahmin,Marathi,Legal Professional (Others),Mumbai, India,30\\r\\n1407,male,,,others,Hindi,,, India,32\\r\\n1408,male,\"5\\'3\"\"\",Hindu, Baidya,Bengali,Company Secretary,Barasat, India,28\\r\\n1409,male,\"5\\'0\"\"\",,others,Tamil,Agricultural Professional (Others),Dharmapuri, India,21\\r\\n1410,male,,,others,Telugu,Writer,Kurnool, India,24\\r\\n1411,male,\"4\\'7\"\"\",Christian, Born Again,Hindi,Banking Professional,Rohtak, India,32\\r\\n1412,female,\"5\\'3\"\"\",Hindu, Brahmin,Marathi,Artist (Others),Mumbai, India,30\\r\\n1413,male,\"5\\'11\"\"\",,others,Malayalam,Consultant / Supervisor / Team Leads,Palakkad, India,29\\r\\n1414,male,\"5\\'11\"\"\",Christian, Born Again,Telugu,Non IT Engineer (Others),Bengaluru / Bangalore, India,33\\r\\n1415,male,\"5\\'8\"\"\",Hindu, Sahu,Hindi,Marketing Professional,Jabalpur, India,29\\r\\n1416,male,\"5\\'8\"\"\",,,Hindi,Banking Professional,Lucknow, India,\\r\\n1417,female,\"5\\'5\"\"\",Hindu, Kshatriya,Hindi,Finance Professional,Jaipur, India,29\\r\\n1418,female,\"5\\'1\"\"\",Hindu, Arora,Hindi,Admin Professional,Delhi, India,33\\r\\n1419,female,\"5\\'4\"\"\",,others,Telugu,,Vijayawada, India,23\\r\\n1420,male,\"5\\'7\"\"\",Hindu, Panchal,Gujarati,Entrepreneurs / Business ,Ahmedabad, India,29\\r\\n1421,male,\"5\\'9\"\"\",Hindu, Rajput - Lodhi,Hindi,Agricultural Professional (Others),Seoni, India,28\\r\\n1422,male,\"5\\'6\"\"\",Hindu, Agri,Marathi,Admin Professional,Raigad, India,28\\r\\n1423,male,\"5\\'7\"\"\",Hindu, Ahom,Assamese,Marketing Professional,Guwahati, India,27\\r\\n1424,female,\"5\\'1\"\"\",,others,,,Hyderabad, India,29\\r\\n1425,,,,others,Hindi,Farming,Durg, India,24\\r\\n1426,female,\"5\\'5\"\"\",,others,Hindi,Finance Professional,Mysuru / Mysore, India,25\\r\\n1427,male,\"5\\'8\"\"\",Christian, Roman Catholic,Konkani,Sales Professional / Marketing,Dubai, United Arab Emirates,30\\r\\n1428,male,\"5\\'6\"\"\",Hindu, Brahmin,Hindi,Managers and Senior Executives,Delhi, India,31\\r\\n1429,male,\"5\\'7\"\"\",Hindu, Goud,Telugu,Mechanical / Production Engineer,Windsor, Canada,32\\r\\n1430,female,\"5\\'4\"\"\",Christian, Marthoma,English,Nurse,Carrollton- TX, USA,29\\r\\n1431,female,\"5\\'3\"\"\",Hindu, Sahu,Hindi,Not working,Bihar Sharif, India,26\\r\\n1432,female,\"5\\'2\"\"\",Hindu, Scheduled Caste (SC),Hindi,Science Professional (Others),New York- NY, USA,34\\r\\n1433,female,\"5\\'0\"\"\",Christian, Marthoma,Malayalam,Training Professional (Others),Los Angeles- CA, USA,30\\r\\n1434,female,\"4\\'11\"\"\",Hindu, Rajput - Lodhi,Chattisgarhi,Not working,Durg, India,29\\r\\n1435,female,\"5\\'1\"\"\",Hindu, Scheduled Caste (SC),Hindi,Teacher,Haldwani, India,33\\r\\n1436,male,\"5\\'11\"\"\",,others,,,Tokyo, Japan,32\\r\\n1437,male,\"5\\'0\"\"\",Hindu, Rajput - Lodhi,Hindi,Marketing Professional,Indore, India,28\\r\\n1438,female,\"5\\'3\"\"\",Hindu, Balija,Telugu,Managers and Senior Executives,Bengaluru / Bangalore, India,26\\r\\n1439,female,\"5\\'4\"\"\",Hindu, Vanniyar,Tamil,Not Specified,Chennai, India,30\\r\\n1440,male,\"5\\'7\"\"\",Hindu, Agri,Marathi,Team Member / Staff,Mumbai, India,28\\r\\n1441,male,\"5\\'9\"\"\",Hindu, Baniya,Hindi,Entrepreneurs / Business ,Pune, India,33\\r\\n1442,female,\"4\\'9\"\"\",Hindu, Baishya,Assamese,Not working,Dispur, India,27\\r\\n1443,female,\"4\\'11\"\"\",,others,Punjabi,,Delhi, India,25\\r\\n1444,male,\"5\\'10\"\"\",Hindu, Brahmin,Bengali,Electronics / Telecom Engineer,Kolkata, India,32\\r\\n1445,female,\"5\\'3\"\"\",,,,,Mumbai, India,28\\r\\n1446,male,\"5\\'4\"\"\",Hindu, Saini,Rajasthani,Agent / Broker / Trader / Contractor,Alwar, India,32\\r\\n1447,male,\"5\\'9\"\"\",,others,Kannada,Sales Professional / Marketing,Shivamogga, India,29\\r\\n1448,male,\"5\\'8\"\"\",Hindu, Goud,Telugu,Non IT Engineer (Others),Bengaluru / Bangalore, India,31\\r\\n1449,male,\"5\\'6\"\"\",Hindu, Lingayath,Kannada,Investment Professional,Bengaluru / Bangalore, India,32\\r\\n1450,male,\"5\\'7\"\"\",,others,Tamil,Not Specified,Dindigul, India,27\\r\\n1451,male,\"4\\'6\"\"\",Hindu, Brahmin,Hindi,Sales Professional / Marketing,Karnal, India,31\\r\\n1452,female,\"5\\'1\"\"\",Hindu, Brahmin,Marathi,Not working,Indore, India,29\\r\\n1453,female,\"5\\'3\"\"\",,,,,, India,34\\r\\n1454,female,\"5\\'7\"\"\",Hindu, Ahom,Assamese,Air Hostess / Flight Attendant,Bardhaman, India,28\\r\\n1455,male,\"5\\'6\"\"\",Hindu, Thakur,Marathi,Doctor / Healthcare Professional,Pune, India,31\\r\\n1456,female,\"5\\'3\"\"\",Hindu, Baidya,Bengali,Finance Professional,Mumbai, India,26\\r\\n1457,female,\"5\\'1\"\"\",Hindu, OBC - Barber/Naayee,Hindi,Banking Professional,Jamshedpur, India,29\\r\\n1458,female,\"5\\'0\"\"\",Hindu, Sahu,Hindi,Consultant / Supervisor / Team Leads,Durg, India,29\\r\\n1459,male,\"5\\'5\"\"\",Hindu, Panchal,Gujarati,Accounting Professional (Others),Ahmedabad, India,31\\r\\n1460,female,\"5\\'0\"\"\",,,Kannada,Admin Professional,, India,30\\r\\n1461,male,\"5\\'6\"\"\",Hindu, Agarwal,Punjabi,Entrepreneurs / Business ,Bathinda, India,33\\r\\n1462,female,\"5\\'1\"\"\",Hindu, Ahom,Assamese,Public Relations Professional,Golaghat, India,30\\r\\n1463,female,\"5\\'0\"\"\",Hindu, Sahu,Hindi,Not working,Rajnandgaon, India,27\\r\\n1464,female,,,others,Kannada,Teacher,, India,33\\r\\n1465,female,\"5\\'5\"\"\",,others,Telugu,,Bellampalle, India,23\\r\\n1466,male,\"5\\'6\"\"\",,,Malayalam,Mechanical / Production Engineer,Al-Kuwayt, Kuwait,29\\r\\n1467,male,\"5\\'10\"\"\",Hindu, Arya Vysya,Telugu,Lecturer,Bengaluru / Bangalore, India,31\\r\\n1468,male,\"4\\'5\"\"\",Hindu, Baishya,Assamese,Not Specified,Chittoor, India,30\\r\\n1469,female,\"5\\'7\"\"\",Hindu, Brahmin,Telugu,Software Professional,Texas, USA,29\\r\\n1470,female,\"5\\'3\"\"\",Hindu, Saini,Punjabi,Not Specified,Delhi-NCR, India,30\\r\\n1471,male,\"5\\'11\"\"\",,others,Hindi,,,,32\\r\\n1472,male,\"5\\'9\"\"\",,others,Telugu,Logistics and Travel Professional,Guntur, India,30\\r\\n1473,female,\"5\\'3\"\"\",Hindu, Brahmin,Marathi,Not working,Pune, India,28\\r\\n1474,male,\"5\\'7\"\"\",Hindu, Kalita,Assamese,Chartered Accountant,Jorhat, India,30\\r\\n1475,male,\"5\\'6\"\"\",Christian, Roman Catholic,English,Chef / Sommelier / Food Critic,Mumbai, India,31\\r\\n1476,male,\"5\\'0\"\"\",Hindu, Baishnab,Bengali,Banking Professional,Kolkata, India,28\\r\\n1477,female,\"4\\'10\"\"\",Hindu, Brahmin,Telugu,Advertising Professional,Pune, India,31\\r\\n1478,female,\"5\\'3\"\"\",,others,Hindi,Lecturer,Varanasi, India,30\\r\\n1479,male,\"5\\'7\"\"\",Hindu, Vanniyar,Tamil,Physiotherapist / Occupational Therapist,Chennai, India,31\\r\\n1480,female,\"5\\'3\"\"\",Muslim, Memon,Hindi,Not Specified,Dehradun, India,28\\r\\n1481,male,\"6\\'1\"\"\",Hindu, Arya Vysya,Telugu,Entrepreneurs / Business ,Namakkal, India,28\\r\\n1482,male,\"5\\'5\"\"\",,others,Bengali,Not Specified,West Bengal, India,28\\r\\n1483,male,\"5\\'11\"\"\",Sikh, Gursikh,Punjabi,Mechanical / Production Engineer,Toronto, Canada,32\\r\\n1484,female,\"5\\'4\"\"\",Hindu, Sahu,Hindi,Lecturer,Allahabad, India,28\\r\\n1485,male,\"4\\'7\"\"\",Hindu, Ahom,Assamese,Company Secretary,Adamsville- AL, USA,28\\r\\n1486,male,\"5\\'11\"\"\",Hindu, Vanniyar,Tamil,Investment Professional,Vellore, India,31\\r\\n1487,female,\"5\\'7\"\"\",,,Kannada,,Mumbai, India,28\\r\\n1488,male,\"6\\'0\"\"\",Hindu, Agarwal,Punjabi,Software Professional,Bengaluru / Bangalore, India,31\\r\\n1489,male,\"5\\'11\"\"\",,others,Tamil,Defense Services,Virudhunagar, India,34\\r\\n1490,female,\"5\\'3\"\"\",Hindu, Valmiki,Hindi,Research Scholar,Bareilly, India,28\\r\\n1491,female,\"5\\'6\"\"\",Sikh, Khatri,Punjabi,Not working,Ganganagar, India,28\\r\\n1492,female,\"5\\'0\"\"\",Hindu, Sahu,Hindi,HR Professional,Lohardaga, India,28\\r\\n1493,female,\"5\\'5\"\"\",Hindu, Bhandari,Tulu,Electronics / Telecom Engineer,Hillsboro- OR, USA,30\\r\\n1494,male,\"5\\'8\"\"\",Hindu, Brahmin,Marathi,Non IT Engineer (Others),Pune, India,32\\r\\n1495,female,\"4\\'7\"\"\",,others,Hindi,,, India,29\\r\\n1496,male,\"5\\'11\"\"\",Jain, Shwetamber,Gujarati,Medical / Healthcare Professional (Others),Newcastle Upon Tyne, United Kingdom,33\\r\\n1497,male,\"5\\'8\"\"\",Sikh, Kshatriya,Punjabi,Defense Services,Muktsar, India,30\\r\\n1498,female,\"5\\'0\"\"\",Sikh, Gursikh,Punjabi,Not working,Delhi, India,29\\r\\n1499,female,\"4\\'10\"\"\",Hindu, Goud,Hindi,Not working,Raipur, India,26\\r\\n1500,male,\"5\\'2\"\"\",,,,,Mumbai, India,24\\r\\n1501,male,\"5\\'5\"\"\",Hindu, Brahmin,Marathi,Accounting Professional (Others),Pune, India,31\\r\\n1502,male,\"5\\'5\"\"\",Hindu, Brahmin,Marathi,Entertainment Professional,Pune, India,33\\r\\n1503,male,\"5\\'5\"\"\",Jain, Shwetamber,Gujarati,Medical / Healthcare Professional (Others),Mumbai, India,33\\r\\n1504,female,\"5\\'7\"\"\",Hindu, Baniya,Punjabi,Software Professional,Sydney, Australia,35\\r\\n1505,male,\"5\\'8\"\"\",Hindu, Patel,Gujarati,Agent / Broker / Trader / Contractor,Orlando- FL, USA,32\\r\\n1506,female,\"5\\'6\"\"\",,others,Hindi,Finance Professional,Washington- DC, USA,35\\r\\n1507,male,\"5\\'3\"\"\",Hindu, Baishya,Hindi,Mechanical / Production Engineer,Bilaspur, India,28\\r\\n1508,male,\"5\\'7\"\"\",Hindu, Brahmin,Telugu,Software Consultant,Hyderabad, India,31\\r\\n1509,female,\"5\\'3\"\"\",Hindu, Viswabrahmin,Telugu,Not Specified,Hyderabad, India,28\\r\\n1510,male,\"5\\'10\"\"\",,others,Malayalam,Managers and Senior Executives,Ghaziabad, India,31\\r\\n1511,female,\"5\\'6\"\"\",Hindu, Bhandari,Marathi,Customer Support / BPO / KPO Professional,Mumbai, India,32\\r\\n1512,male,\"5\\'6\"\"\",Sikh, Kshatriya,Punjabi,Admin Professional,Amritsar, India,30\\r\\n1513,male,\"5\\'6\"\"\",Hindu, Panchal,Gujarati,Not Specified,Ahmedabad, India,30\\r\\n1514,female,\"5\\'5\"\"\",Sikh, Kshatriya,Punjabi,Admin Professional,Chandigarh, India,29\\r\\n1515,male,\"5\\'7\"\"\",,others,,,Mumbai, India,35\\r\\n1516,male,\"5\\'6\"\"\",Hindu, Rajput - Lodhi,Hindi,Not Specified,Shahjahanpur, India,29\\r\\n1517,male,\"5\\'6\"\"\",,others,Bengali,Hotel & Hospitality Professional (Others),Kolkata, India,24\\r\\n1518,male,\"5\\'5\"\"\",Hindu, Kayastha,Bengali,Marketing Professional,Kolkata, India,34\\r\\n1519,male,\"5\\'7\"\"\",,,Kannada,Logistics and Travel Professional,Bengaluru / Bangalore, India,26\\r\\n1520,female,\"5\\'5\"\"\",Hindu, OBC - Barber/Naayee,Telugu,Finance Professional,Vijayawada, India,28\\r\\n1521,,,,others,Bengali,Banking Professional,Suri, India,28\\r\\n1522,female,\"5\\'3\"\"\",Hindu, Goud,Hindi,Not working,Betul, India,26\\r\\n1523,male,\"5\\'11\"\"\",Hindu, Goud,Hindi,Software Professional (Others),Delhi, India,31\\r\\n1524,male,\"5\\'9\"\"\",Hindu, Brahmin,Odia,Lecturer,Cuttack, India,31\\r\\n1525,female,\"5\\'1\"\"\",Christian, Born Again,Telugu,Media Professional,Hyderabad, India,31\\r\\n1526,male,\"6\\'0\"\"\",Sikh, Ramdasia,Punjabi,Mechanical / Production Engineer,Brisbane, Australia,32\\r\\n1527,female,\"5\\'6\"\"\",Christian, Marthoma,Malayalam,Not Specified,Jidd Haffs, Bahrain,30\\r\\n1528,female,\"5\\'1\"\"\",Christian, Roman Catholic,Konkani,Banking Professional,Mumbai, India,32\\r\\n1529,female,\"5\\'2\"\"\",Hindu, Brahmin,Konkani,Doctor / Healthcare Professional,Pleasanton- CA, USA,30\\r\\n1530,female,\"5\\'1\"\"\",Hindu, Kayastha,Bengali,Banking Professional,Pune, India,32\\r\\n1531,female,\"5\\'2\"\"\",Hindu, Brahmin,Telugu,Not Specified,Houston- TX, USA,31\\r\\n1532,female,\"5\\'5\"\"\",Hindu, Thakur,Hindi,Teacher,Delhi, India,28\\r\\n1533,male,\"5\\'8\"\"\",,others,,,Pune, India,34\\r\\n1534,male,\"5\\'6\"\"\",Hindu, Sahu,Odia,Farming,Bargarh, India,30\\r\\n1535,female,\"5\\'3\"\"\",Hindu, OBC - Barber/Naayee,Telugu,Non IT Engineer (Others),Hoskote, India,28\\r\\n1536,female,\"4\\'7\"\"\",Hindu, OBC - Barber/Naayee,Assamese,Not Specified,Assam, India,30\\r\\n1537,male,\"4\\'5\"\"\",Muslim, Memon,Gujarati,Banking Professional,Ahmedabad, India,28\\r\\n1538,male,\"5\\'4\"\"\",Hindu, Brahmin,Bhojpuri,Farming,Begusarai, India,30\\r\\n1539,male,\"5\\'11\"\"\",Hindu, Thakur,Hindi,Research Assistant,Jaunpur, India,30\\r\\n1540,male,\"5\\'8\"\"\",,others,,Not Specified,Kannur, India,30\\r\\n1541,female,\"5\\'3\"\"\",,others,,,, India,30\\r\\n1542,female,\"4\\'8\"\"\",Christian, Roman Catholic,Konkani,Software Professional (Others),Mumbai, India,31\\r\\n1543,male,\"6\\'1\"\"\",Hindu, Sahu,Hindi,Entrepreneurs / Business ,Raipur, India,29\\r\\n1544,female,\"5\\'0\"\"\",Hindu, Baniya,Hindi,Managers and Senior Executives,Noida, India,36\\r\\n1545,female,\"5\\'2\"\"\",Hindu, Balija,Kannada,Non IT Engineer (Others),Chicago- IL, USA,26\\r\\n1546,female,\"5\\'0\"\"\",Muslim, Memon,Gujarati,Dentist,Gandhinagar, India,27\\r\\n1547,female,\"5\\'2\"\"\",,,Malayalam,Student,Thrissur, India,28\\r\\n1548,female,\"5\\'6\"\"\",,others,Telugu,,Mumbai, India,33\\r\\n1549,male,\"5\\'4\"\"\",Hindu, Scheduled Caste (SC),Hindi,Consultant / Supervisor / Team Leads,Bharuch, India,35\\r\\n1550,female,\"5\\'5\"\"\",Hindu, Kayastha,Bengali,Admin Professional,Delhi, India,32\\r\\n1551,female,\"5\\'2\"\"\",Hindu, Vaishnav,Gujarati,Not Specified,Mumbai, India,30\\r\\n1552,male,\"5\\'8\"\"\",Hindu, Lingayath,Kannada,Entrepreneurs / Business ,Bengaluru / Bangalore, India,33\\r\\n1553,male,\"5\\'11\"\"\",Hindu, Arora,Hindi,Consultant / Supervisor / Team Leads,Delhi, India,35\\r\\n1554,male,\"5\\'7\"\"\",Hindu, Brahmin,Telugu,Managers and Senior Executives,Hyderabad, India,31\\r\\n1555,male,\"5\\'5\"\"\",Hindu, Bhatia,Hindi,Accounting Professional (Others),Bhopal, India,29\\r\\n1556,male,\"5\\'3\"\"\",,others,Marathi,Not Specified,, India,28\\r\\n1557,male,\"6\\'0\"\"\",Hindu, Agarwal,Punjabi,Managers and Senior Executives,Punjab, India,33\\r\\n1558,male,\"4\\'6\"\"\",Hindu, Kalita,Assamese,Admin Professional,Nagaon, India,29\\r\\n1559,male,,,,,,, India,32\\r\\n1560,male,\"5\\'8\"\"\",Hindu, Billava,Kannada,Hotel & Hospitality Professional (Others),Bhatkal, India,29\\r\\n1561,female,\"5\\'1\"\"\",Hindu, Baniya,Hindi,Admin Professional,Jabalpur, India,33\\r\\n1562,female,\"5\\'3\"\"\",Hindu, Brahmin,Hindi,Managers and Senior Executives,Ghaziabad, India,29\\r\\n1563,female,\"5\\'8\"\"\",Hindu, Sahu,Hindi,Farming,Raipur, India,27\\r\\n1564,male,\"5\\'7\"\"\",Sikh, Kshatriya,Punjabi,Software Professional,Ontario, Canada,30\\r\\n1565,male,\"5\\'9\"\"\",,,Malayalam,,Thiruvananthapuram, India,32\\r\\n1566,male,\"5\\'3\"\"\",,others,Kannada,,Bengaluru / Bangalore, India,25\\r\\n1567,female,\"4\\'5\"\"\",Muslim, Memon,Hindi,Not Specified,Mumbai, India,27\\r\\n1568,male,\"5\\'9\"\"\",Hindu, Vaishnav,Gujarati,Software Professional,Mumbai, India,30\\r\\n1569,male,\"5\\'5\"\"\",Sikh, Khatri,Punjabi,Hotel & Hospitality Professional (Others),Geelong, Australia,31\\r\\n1570,male,\"5\\'7\"\"\",Hindu, Kayastha,Bengali,Consultant / Supervisor / Team Leads,Mumbai, India,34\\r\\n1571,male,\"5\\'9\"\"\",Hindu, Kaibarta,Odia,Company Secretary,Bhadrak, India,29\\r\\n1572,female,,,,,,, India,31\\r\\n1573,female,\"5\\'3\"\"\",Hindu, Valmiki,Hindi,Not working,Jaipur, India,29\\r\\n1574,female,\"5\\'6\"\"\",,others,,,Muzaffarnagar, India,20\\r\\n1575,male,\"5\\'7\"\"\",Hindu, Baidya,Bengali,Banking Professional,Delhi, India,29\\r\\n1576,male,\"4\\'5\"\"\",Hindu, Baishnab,Bengali,Banking Professional,Begusarai, India,28\\r\\n1577,male,\"5\\'2\"\"\",Hindu, Kalita,Assamese,Sales Professional / Marketing,Guwahati, India,28\\r\\n1578,female,\"5\\'5\"\"\",Hindu, Brahmin,Gujarati,Doctor / Healthcare Professional,Surat, India,31\\r\\n1579,male,\"6\\'0\"\"\",Hindu, Baniya,Gujarati,Software Professional (Others),Chicago- IL, USA,33\\r\\n1580,female,\"5\\'3\"\"\",Hindu, Bhatia,Punjabi,Customer Support / BPO / KPO Professional,Faridabad, India,28\\r\\n1581,male,\"5\\'8\"\"\",Hindu, Baishya,Bengali,Lecturer,Ranchi, India,29\\r\\n1582,male,\"5\\'0\"\"\",,others,Telugu,Agent / Broker / Trader / Contractor,Nuzvid, India,26\\r\\n1583,female,\"5\\'5\"\"\",Hindu, Sahu,Hindi,Not Specified,Chhattisgarh, India,28\\r\\n1584,male,\"6\\'1\"\"\",Hindu, Brahmin,Marathi,Mechanical / Production Engineer,Pune, India,32\\r\\n1585,female,\"5\\'7\"\"\",Hindu, Brahmin,Marathi,Consultant / Supervisor / Team Leads,Pune, India,28\\r\\n1586,female,\"5\\'6\"\"\",Hindu, Arya Vysya,Kannada,Media Professional,Bengaluru / Bangalore, India,24\\r\\n1587,male,\"5\\'5\"\"\",Hindu, Balija,Telugu,Not Specified,Al-Kuwayt, Kuwait,28\\r\\n1588,female,\"5\\'1\"\"\",Hindu, Arya Vysya,Telugu,Software Consultant,Ramachandrapuram-Bhel Township, India,24\\r\\n1589,male,\"5\\'7\"\"\",Hindu, Saini,Haryanavi,Mechanical / Production Engineer,Yamunanagar, India,29\\r\\n1590,female,\"5\\'4\"\"\",Hindu, Sindhi-Sakkhar,Sindhi,Software Consultant,Bengaluru / Bangalore, India,28\\r\\n1591,female,\"5\\'3\"\"\",Hindu, Patel,Gujarati,Not working,Ahmedabad, India,28\\r\\n1592,female,\"5\\'4\"\"\",Hindu, Patel,Gujarati,Medical / Healthcare Professional (Others),Anand, India,28\\r\\n1593,female,\"5\\'6\"\"\",Hindu, Agri,Marathi,Admin Professional,Raigad, India,30\\r\\n1594,male,\"5\\'2\"\"\",,others,Tamil,Not Specified,Coimbatore, India,27\\r\\n1595,male,\"5\\'8\"\"\",Hindu, Arora,Hindi,VP / AVP / GM / DGM,Delhi, India,33\\r\\n1596,male,\"5\\'9\"\"\",Hindu, Billava,Tulu,Managers and Senior Executives,Dubai, United Arab Emirates,30\\r\\n1597,female,\"5\\'4\"\"\",Hindu, Vaishnav,Gujarati,Not Specified,Mumbai, India,29\\r\\n1598,female,\"5\\'0\"\"\",,others,Malayalam,,Bengaluru / Bangalore, India,33\\r\\n1599,female,\"5\\'0\"\"\",Hindu, Balija,Telugu,Advertising Professional,Ahmedabad, India,29\\r\\n1600,male,\"5\\'5\"\"\",,,Telugu,,Sangareddy, India,33\\r\\n1601,male,\"5\\'8\"\"\",Hindu, Bhandari,Marathi,Hardware & Networking professional,Mumbai, India,33\\r\\n1602,male,\"5\\'10\"\"\",,others,Telugu,,Hyderabad,,35\\r\\n1603,female,\"5\\'3\"\"\",Hindu, Saini,Hindi,Marketing Professional,Delhi, India,30\\r\\n1604,male,\"5\\'8\"\"\",Hindu, Bhatia,Bengali,Not working,Agartala, India,27\\r\\n1605,male,\"5\\'9\"\"\",Hindu, Brahmin,Gujarati,Finance Professional,Vapi, India,33\\r\\n1606,female,\"5\\'2\"\"\",Hindu, Valmiki,Hindi,Not working,Solan, India,28\\r\\n1607,male,\"5\\'11\"\"\",Hindu, Saini,Hindi,Software Professional,Gurgaon, India,31\\r\\n1608,male,\"5\\'8\"\"\",Hindu, Kshatriya,Odia,Software Professional (Others),Bengaluru / Bangalore, India,30\\r\\n1609,male,\"5\\'10\"\"\",Hindu, Brahmin,Marathi,Marketing Professional,Reading, United Kingdom,30\\r\\n1610,female,\"4\\'11\"\"\",Hindu, Balija,Hindi,Writer,Bhopal, India,28\\r\\n1611,female,\"5\\'6\"\"\",Hindu, Patel,Gujarati,Doctor / Healthcare Professional,New Jersey, USA,30\\r\\n1612,male,\"5\\'1\"\"\",Hindu, Ahom,Assamese,Not working,Dhemaji, India,28\\r\\n1613,male,\"5\\'8\"\"\",,,,Entrepreneurs / Business ,Navsari, India,\\r\\n1614,female,\"5\\'3\"\"\",Hindu, Baidya,Bengali,Not working,Krishnanagar, India,28\\r\\n1615,female,\"5\\'2\"\"\",Hindu, Arya Vysya,Telugu,Finance Professional,Bengaluru / Bangalore, India,26\\r\\n1616,male,\"5\\'0\"\"\",Hindu, Brahmin,Marathi,Agent / Broker / Trader / Contractor,Mumbai, India,33\\r\\n1617,female,\"5\\'3\"\"\",Christian, Born Again,Tamil,Customer Support / BPO / KPO Professional,Chennai, India,31\\r\\n1618,female,\"4\\'5\"\"\",Hindu, Kalita,Assamese,Not working,Guwahati, India,27\\r\\n1619,male,\"5\\'9\"\"\",Hindu, Kayastha,Bengali,Mechanical / Production Engineer,Gurgaon, India,33\\r\\n1620,female,\"5\\'3\"\"\",Hindu, Sindhi-Sakkhar,Sindhi,Finance Professional,Dubai, United Arab Emirates,30\\r\\n1621,female,\"5\\'4\"\"\",,others,Telugu,,, India,28\\r\\n1622,male,\"5\\'9\"\"\",Hindu, Arora,Hindi,Software Professional,Delhi, India,35\\r\\n1623,male,\"5\\'0\"\"\",Hindu, OBC - Barber/Naayee,Odia,Company Secretary,Rayagada, India,27\\r\\n1624,female,\"5\\'5\"\"\",Sikh, Gursikh,Punjabi,Investment Professional,Mumbai, India,29\\r\\n1625,male,\"5\\'0\"\"\",,others,Kannada,Not Specified,, India,32\\r\\n1626,female,\"5\\'3\"\"\",Hindu, Brahmin,Marwari,Not working,Cuttack, India,30\\r\\n1627,female,\"4\\'5\"\"\",Hindu, Baishya,Assamese,Finance Professional,Mangaldai, India,27\\r\\n1628,female,\"5\\'3\"\"\",Hindu, Baidya,Bengali,Not Specified,Mumbai, India,29\\r\\n1629,male,\"5\\'1\"\"\",Hindu, Vanniyar,Tamil,Banking Professional,Kumbakonam, India,29\\r\\n1630,female,\"5\\'7\"\"\",,,Sindhi,,, India,27\\r\\n1631,male,\"5\\'7\"\"\",Hindu, Valmiki,Hindi,Managers and Senior Executives,Kanpur, India,28\\r\\n1632,male,\"6\\'1\"\"\",Jain, Shwetamber,Marwari,Chartered Accountant,Surat, India,35\\r\\n1633,male,\"6\\'0\"\"\",Hindu, Brahmin,Bengali,Team Member / Staff,Kolkata, India,33\\r\\n1634,female,\"5\\'4\"\"\",Hindu, Sindhi-Sakkhar,Sindhi,Law Enforcement Employee (Others),Akola, India,28\\r\\n1635,female,\"5\\'3\"\"\",Hindu, Kshatriya,Odia,Legal Professional (Others),Ahmedabad, India,32\\r\\n1636,male,\"6\\'0\"\"\",Hindu, Sindhi-Sakkhar,Hindi,Accounting Professional (Others),Indore, India,29\\r\\n1637,male,\"5\\'2\"\"\",,others,Tamil,Hotel & Hospitality Professional (Others),, USA,32\\r\\n1638,male,\"5\\'6\"\"\",Hindu, Agarwal,Marwari,Chartered Accountant,Delhi, India,32\\r\\n1639,female,\"5\\'2\"\"\",Hindu, Scheduled Caste (SC),Hindi,Legal Assistant,Pune, India,34\\r\\n1640,male,\"5\\'9\"\"\",Sikh, Ramdasia,Punjabi,Civil Engineer,Ambala, India,30\\r\\n1641,male,\"5\\'8\"\"\",Jain, Shwetamber,Gujarati,Entrepreneurs / Business ,Indore, India,33\\r\\n1642,female,\"5\\'1\"\"\",Hindu, Bhandari,Marathi,Not Specified,Mumbai, India,30\\r\\n1643,female,\"5\\'1\"\"\",Hindu, Vanniyar,Tamil,Not working,Kumbakonam, India,27\\r\\n1644,female,\"5\\'2\"\"\",Hindu, Brahmin,Marathi,Lawyer,Pune, India,30\\r\\n1645,female,\"5\\'2\"\"\",Hindu, Saini,Punjabi,Not Specified,Delhi, India,27\\r\\n1646,male,\"5\\'11\"\"\",,,Kannada,,Mumbai, India,33\\r\\n1647,male,\"5\\'8\"\"\",Hindu, Kshatriya,Hindi,Banking Professional,Ahmedabad, India,30\\r\\n1648,male,\"5\\'6\"\"\",Hindu, Arya Vysya,Telugu,Banking Professional,Mumbai, India,31\\r\\n1649,male,\"5\\'7\"\"\",,others,,,Coimbatore, India,27\\r\\n1650,female,\"5\\'1\"\"\",Hindu, Sindhi-Sakkhar,Sindhi,Not working,Jalgaon, India,29\\r\\n1651,male,\"5\\'10\"\"\",Hindu, Patel,Gujarati,Investment Professional,Other, United Kingdom,34\\r\\n1652,female,\"5\\'0\"\"\",Christian, Born Again,Hindi,Teacher,Delhi, India,32\\r\\n1653,female,\"5\\'2\"\"\",,others,,,Gandhidham, India,32\\r\\n1654,male,\"4\\'5\"\"\",,others,Telugu,,, India,24\\r\\n1655,male,\"5\\'5\"\"\",Hindu, Balija,Telugu,Indian Police Services [IPS],Kurnool, India,28\\r\\n1656,male,\"5\\'9\"\"\",,,,Admin Professional,Kozhikode, India,31\\r\\n1657,male,\"5\\'5\"\"\",Hindu, Bhatia,Hindi,Nurse,Dharamasala, India,29\\r\\n1658,female,\"5\\'3\"\"\",Hindu, Brahmin,Marathi,Non IT Engineer (Others),Warwick- RI, USA,30\\r\\n1659,female,\"4\\'9\"\"\",Muslim, Memon,English,Banking Professional,Anantapur, India,29\\r\\n1660,male,\"5\\'4\"\"\",Hindu, Brahmin,Telugu,Not Specified,Hyderabad, India,32\\r\\n1661,female,\"5\\'0\"\"\",Hindu, Bhandari,Marathi,Accounting Professional (Others),Mumbai, India,31\\r\\n1662,female,\"5\\'6\"\"\",Christian, Marthoma,Malayalam,Psychologist,Irving- TX, USA,30\\r\\n1663,male,\"5\\'1\"\"\",,others,Tamil,Accounting Professional (Others),Tiruppur, India,33\\r\\n1664,male,\"5\\'6\"\"\",Sikh, Gursikh,Punjabi,Agricultural Professional (Others),Karnal, India,32\\r\\n1665,male,\"6\\'0\"\"\",Hindu, Saini,Hindi,Marketing Professional,Hyderabad, India,29\\r\\n1666,male,\"5\\'6\"\"\",Hindu, Scheduled Caste (SC),Bengali,Agent / Broker / Trader / Contractor,Barasat, India,34\\r\\n1667,male,\"5\\'9\"\"\",Hindu, Kshatriya,Hindi,Consultant / Supervisor / Team Leads,Bengaluru / Bangalore, India,30\\r\\n1668,male,,,others,,,, India,31\\r\\n1669,female,\"5\\'4\"\"\",Hindu, Valmiki,Hindi,Banking Professional,Bareilly, India,27\\r\\n1670,male,,,others,,,, India,27\\r\\n1671,female,\"5\\'4\"\"\",,others,Marwari,,Bengaluru / Bangalore, India,28\\r\\n1672,female,\"4\\'5\"\"\",Hindu, Baishnab,Bengali,Not Specified,Kolkata, India,26\\r\\n1673,female,\"5\\'9\"\"\",Hindu, Viswabrahmin,Telugu,Not working,Hyderabad, India,27\\r\\n1674,male,\"5\\'9\"\"\",Christian, Born Again,Malayalam,Consultant / Supervisor / Team Leads,Dallas- TX, USA,30\\r\\n1675,male,\"5\\'8\"\"\",,others,Kannada,Not Specified,, India,25\\r\\n1676,male,,,others,,,, India,25\\r\\n1677,male,\"6\\'0\"\"\",,others,,,Bheemavaram, India,26\\r\\n1678,female,\"5\\'3\"\"\",Hindu, Arora,Punjabi,Finance Professional,Gurgaon, India,31\\r\\n1679,male,\"5\\'1\"\"\",Hindu, OBC - Barber/Naayee,Hindi,Marketing Professional,Bilaspur, India,26\\r\\n1680,male,\"5\\'6\"\"\",Hindu, Kayastha,Bengali,Consultant / Supervisor / Team Leads,Kolkata, India,32\\r\\n1681,male,\"5\\'7\"\"\",,others,Tamil,Advertising Professional,Coimbatore, India,26\\r\\n1682,female,\"5\\'3\"\"\",Hindu, Rajput - Lodhi,Hindi,Teacher,Kanpur, India,27\\r\\n1683,male,\"5\\'5\"\"\",Hindu, Bhandari,Marathi,Banking Professional,Mumbai, India,32\\r\\n1684,male,\"5\\'6\"\"\",Hindu, Ahom,Assamese,Finance Professional,Marigaon, India,29\\r\\n1685,female,\"5\\'3\"\"\",,others,Kannada,Banking Professional,Chitradurga, India,31\\r\\n1686,male,\"5\\'7\"\"\",Hindu, Saini,Hindi,Sales Professional / Marketing,Roorkee, India,30\\r\\n1687,male,\"5\\'5\"\"\",,,,,, India,31\\r\\n1688,male,\"6\\'0\"\"\",Sikh, Khatri,Punjabi,Entrepreneurs / Business ,Himachal Pradesh, India,33\\r\\n1689,female,\"5\\'4\"\"\",,,,Finance Professional,Hyderabad, India,34\\r\\n1690,female,\"5\\'4\"\"\",Hindu, Agri,Marathi,Team Member / Staff,Mumbai, India,30\\r\\n1691,male,\"5\\'7\"\"\",Hindu, Agri,Marathi,Media Professional,Mumbai, India,28\\r\\n1692,female,\"4\\'11\"\"\",Hindu, Arya Vysya,Telugu,Not working,Hyderabad, India,25\\r\\n1693,female,\"5\\'6\"\"\",Hindu, Brahmin,Telugu,Not working,Hyderabad, India,30\\r\\n1694,male,\"4\\'11\"\"\",,others,Tamil,,Pudukkottai, India,28\\r\\n1695,male,\"5\\'9\"\"\",,others,,,, India,34\\r\\n1696,female,,,others,,,, India,29\\r\\n1697,male,\"5\\'3\"\"\",Hindu, Baidya,Hindi,Agent / Broker / Trader / Contractor,Begusarai, India,29\\r\\n1698,female,,,others,Hindi,,Karauli, India,20\\r\\n1699,male,\"5\\'7\"\"\",Hindu, Sahu,Hindi,Doctor / Healthcare Professional,Shahjahanpur, India,29\\r\\n1700,male,\"5\\'5\"\"\",,others,Bengali,Non IT Engineer (Others),Kolkata, India,31\\r\\n1701,female,\"5\\'4\"\"\",Muslim, Memon,Urdu,Hotel & Hospitality Professional (Others),Dubai, United Arab Emirates,29\\r\\n1702,male,\"5\\'0\"\"\",,others,Telugu,,, India,31\\r\\n1703,female,\"5\\'2\"\"\",,others,Hindi,Sales Professional / Marketing,Indore, India,30\\r\\n1704,female,\"5\\'7\"\"\",,others,,,, India,34\\r\\n1705,male,\"5\\'6\"\"\",,,Kannada,,, India,25\\r\\n1706,female,\"4\\'8\"\"\",Hindu, Panchal,Gujarati,Not Specified,Gurgaon, India,30\\r\\n1707,female,\"5\\'0\"\"\",Hindu, Brahmin,Telugu,Accounting Professional (Others),Kakinada, India,29\\r\\n1708,female,\"5\\'7\"\"\",,others,Tamil,Chartered Accountant,Shah Alam, Malaysia,35\\r\\n1709,female,\"5\\'6\"\"\",Hindu, Brahmin,Telugu,Not working,Warangal, India,28\\r\\n1710,female,\"5\\'2\"\"\",Sikh, Ramdasia,Punjabi,Teacher,Hoshiarpur, India,31\\r\\n1711,female,\"5\\'4\"\"\",Hindu, Baniya,Punjabi,Software Consultant,Toronto, Canada,36\\r\\n1712,female,\"5\\'3\"\"\",,others,Bengali,Not working,Malda, India,22\\r\\n1713,female,\"4\\'5\"\"\",Hindu, Vanniyar,Tamil,Not working,Tiruvannamalai, India,28\\r\\n1714,female,\"5\\'3\"\"\",Hindu, Brahmin,Hindi,Not working,Mumbai, India,31\\r\\n1715,female,\"5\\'5\"\"\",Hindu, Saini,Hindi,Dentist,Delhi, India,28\\r\\n1716,female,\"5\\'2\"\"\",Jain, Shwetamber,Gujarati,Admin Professional,Pune, India,34\\r\\n1717,,\"4\\'5\"\"\",,others,Hindi,,Delhi, India,24\\r\\n1718,male,\"5\\'5\"\"\",Hindu, Patel,Gujarati,Entrepreneurs / Business ,Ahmedabad, India,34\\r\\n1719,female,\"5\\'3\"\"\",,others,Hindi,,Delhi, India,35\\r\\n1720,female,\"5\\'0\"\"\",Hindu, Brahmin,Gujarati,Non IT Engineer (Others),San Jose- CA, USA,28\\r\\n1721,male,,,others,Kannada,HR Professional,Bengaluru / Bangalore, India,33\\r\\n1722,female,\"5\\'3\"\"\",Sikh, Gursikh,Punjabi,Advertising Professional,Gurgaon, India,31\\r\\n1723,female,,,,,,, India,25\\r\\n1724,female,\"5\\'4\"\"\",Hindu, Scheduled Caste (SC),Hindi,Team Member / Staff,Gurgaon, India,31\\r\\n1725,male,\"5\\'7\"\"\",Hindu, Ahom,Assamese,Legal Professional (Others),Hyderabad, India,27\\r\\n1726,male,\"5\\'6\"\"\",Christian, Roman Catholic,Marathi,Hotel & Hospitality Professional (Others),Mumbai, India,33\\r\\n1727,female,\"5\\'2\"\"\",,,,,Newark- CA, USA,32\\r\\n1728,female,\"4\\'5\"\"\",Hindu, Brahmin,Marathi,Not working,Nirmal, India,30\\r\\n1729,male,\"5\\'7\"\"\",Hindu, Kshatriya,Hindi,Software Professional (Others),Pune, India,33\\r\\n1730,male,\"5\\'5\"\"\",Hindu, Baishnab,Bengali,Company Secretary,Bardhaman, India,28\\r\\n1731,female,\"5\\'1\"\"\",Hindu, Bhandari,Marathi,Psychologist,Mumbai, India,32\\r\\n1732,male,\"5\\'5\"\"\",Hindu, Bhatia,Sindhi,Accounting Professional (Others),Bhopal, India,29\\r\\n1733,female,\"5\\'4\"\"\",Hindu, Baishya,Bengali,Teacher,Kolkata, India,27\\r\\n1734,female,\"5\\'2\"\"\",Hindu, Agarwal,Marwari,Finance Professional,Mumbai, India,30\\r\\n1735,female,\"5\\'6\"\"\",Hindu, Agarwal,Punjabi,Electronics / Telecom Engineer,Panchkula, India,29\\r\\n1736,male,\"5\\'11\"\"\",,others,,,, India,30\\r\\n1737,female,\"4\\'11\"\"\",Hindu, Vaishnav,Gujarati,Software Professional (Others),San Francisco- CA, USA,30\\r\\n1738,female,\"5\\'0\"\"\",Hindu, Lingayath,Kannada,Finance Professional,Pune, India,29\\r\\n1739,female,\"5\\'5\"\"\",Hindu, Vanniyar,Tamil,Not working,Madurai, India,28\\r\\n1740,female,\"5\\'3\"\"\",Hindu, Baishya,Bengali,Not working,Kolkata, India,28\\r\\n1741,female,\"5\\'4\"\"\",Hindu, Saini,Hindi,Not working,Mathura, India,30\\r\\n1742,male,\"5\\'9\"\"\",Hindu, Vanniyar,Tamil,Marketing Professional,Krishnagiri, India,31\\r\\n1743,female,\"5\\'3\"\"\",Hindu, Bhatia,Hindi,Hotel & Hospitality Professional (Others),Mumbai, India,28\\r\\n1744,male,\"5\\'4\"\"\",Hindu, Kalita,Assamese,Hardware & Networking professional,Nagaon, India,30\\r\\n1745,female,\"4\\'10\"\"\",,others,Bengali,Not Specified,West Bengal, India,28\\r\\n1746,male,\"5\\'3\"\"\",,others,Hindi,Mechanical / Production Engineer,, India,31\\r\\n1747,male,\"5\\'10\"\"\",Hindu, Kshatriya,Hindi,Civil Engineer,Bengaluru / Bangalore, India,33\\r\\n1748,female,\"5\\'1\"\"\",Sikh, Khatri,Punjabi,Admin Professional,Delhi, India,29\\r\\n1749,female,\"5\\'2\"\"\",Sikh, Gursikh,Punjabi,Not working,Delhi, India,31\\r\\n1750,female,\"5\\'8\"\"\",Hindu, Arora,Punjabi,HR Professional,Delhi, India,34\\r\\n1751,male,\"5\\'8\"\"\",Hindu, Brahmin,Hindi,Software Consultant,Delhi, India,31\\r\\n1752,male,\"6\\'0\"\"\",Christian, Born Again,Gujarati,Marketing Professional,Ahmedabad, India,31\\r\\n1753,male,\"5\\'7\"\"\",Christian, Born Again,Telugu,Banking Professional,Vijayawada, India,31\\r\\n1754,male,\"5\\'5\"\"\",Hindu, Vanniyar,Tamil,Law Enforcement Employee (Others),Salem, India,30\\r\\n1755,female,\"5\\'2\"\"\",,,,,Mumbai, India,\\r\\n1756,male,\"5\\'6\"\"\",,,,,Bhopal, India,29\\r\\n1757,male,\"5\\'8\"\"\",Hindu, Baishnab,Bengali,Law Enforcement Employee (Others),Guwahati, India,28\\r\\n1758,male,\"5\\'4\"\"\",Hindu, Brahmin,Marathi,Banking Professional,Belagavi / Belagaum, India,32\\r\\n1759,female,\"5\\'3\"\"\",Hindu, Agarwal,Punjabi,Not Specified,Patiala, India,27\\r\\n1760,male,\"5\\'10\"\"\",,others,,,Channapatna, India,30\\r\\n1761,male,\"5\\'9\"\"\",Hindu, Agarwal,Punjabi,Not Specified,Chandigarh, India,33\\r\\n1762,male,\"5\\'5\"\"\",Hindu, Bhandari,Marathi,Consultant / Supervisor / Team Leads,Mumbai, India,31\\r\\n1763,female,,,others,,,, Malaysia,32\\r\\n1764,female,\"5\\'2\"\"\",Hindu, OBC - Barber/Naayee,Manipuri,Not Specified,Hyderabad, India,30\\r\\n1765,male,\"5\\'6\"\"\",Hindu, Kaibarta,Odia,Hotel & Hospitality Professional (Others),Berhampur, India,29\\r\\n1766,female,\"5\\'1\"\"\",Hindu, Kayastha,Bengali,HR Professional,Kolkata, India,33\\r\\n1767,male,,,,Hindi,Finance Professional,Midnapore, India,21\\r\\n1768,male,\"5\\'7\"\"\",Hindu, Viswabrahmin,Telugu,Finance Professional,Warangal, India,29\\r\\n1769,female,\"4\\'5\"\"\",Hindu, Ahom,Assamese,Banking Professional,Benson- AZ, USA,30\\r\\n1770,female,\"5\\'3\"\"\",Hindu, Bhandari,Marathi,Software Professional,Mumbai, India,31\\r\\n1771,female,\"5\\'1\"\"\",Hindu, Goud,Odia,Not Specified,Mohali, India,26\\r\\n1772,male,\"5\\'11\"\"\",Hindu, Kshatriya,Hindi,Defense Services,Gwalior, India,33\\r\\n1773,female,\"5\\'4\"\"\",Hindu, Agri,Marathi,Not Specified,Nagpur, India,30\\r\\n1774,male,\"5\\'8\"\"\",Hindu, Valmiki,Hindi,Electronics / Telecom Engineer,Indore, India,28\\r\\n1775,male,\"5\\'5\"\"\",Hindu, Panchal,Gujarati,Mechanical / Production Engineer,Ahmedabad, India,30\\r\\n1776,male,\"5\\'7\"\"\",Hindu, Ahom,Assamese,Investment Professional,Guwahati, India,27\\r\\n1777,female,\"5\\'2\"\"\",Hindu, Brahmin,Hindi,Not Specified,Kolkata, India,29\\r\\n1778,male,\"5\\'7\"\"\",Hindu, Goud,Telugu,Non IT Engineer (Others),Dubai, United Arab Emirates,32\\r\\n1779,female,\"5\\'2\"\"\",Hindu, Brahmin,Marathi,Not Specified,Pune, India,30\\r\\n1780,male,\"6\\'0\"\"\",Christian, Marthoma,Malayalam,Entrepreneurs / Business ,Pune, India,32\\r\\n1781,male,\"5\\'11\"\"\",Hindu, Agarwal,Punjabi,Not Specified,Pune, India,30\\r\\n1782,female,\"4\\'8\"\"\",Hindu, Agri,Marathi,Not Specified,Madurai, India,27\\r\\n1783,female,\"5\\'2\"\"\",Hindu, Goud,Telugu,Fashion Designer,Hyderabad, India,28\\r\\n1784,male,\"6\\'2\"\"\",,others,Bengali,Software Consultant,Midnapore, India,34\\r\\n1785,male,\"5\\'11\"\"\",,others,Sindhi,,, Nigeria,34\\r\\n1786,male,\"6\\'1\"\"\",,,,,Delhi, India,34\\r\\n1787,female,\"5\\'6\"\"\",Jain, Shwetamber,Gujarati,Fashion Designer,Ahmedabad, India,32\\r\\n1788,male,\"5\\'8\"\"\",Jain, Shwetamber,Gujarati,Software Professional,Ahmedabad, India,35\\r\\n1789,male,\"5\\'7\"\"\",Hindu, Balija,Telugu,Banking Professional,Hyderabad, India,30\\r\\n1790,female,\"5\\'2\"\"\",Hindu, Arora,Hindi,Consultant / Supervisor / Team Leads,Dublin, Ireland,34\\r\\n1791,female,\"5\\'2\"\"\",Hindu, Arora,Punjabi,Not working,Ludhiana, India,34\\r\\n1792,male,\"5\\'2\"\"\",Hindu, Bhandari,Marathi,Software Professional,Mumbai, India,33\\r\\n1793,female,\"5\\'1\"\"\",Hindu, Kaibarta,Odia,Not working,Bhubaneswar, India,28\\r\\n1794,female,\"4\\'11\"\"\",Jain, Shwetamber,Punjabi,Doctor / Healthcare Professional,Darwin, Australia,35\\r\\n1795,male,\"5\\'6\"\"\",Christian, Roman Catholic,Telugu,Mechanical / Production Engineer,Margao, India,31\\r\\n1796,female,\"5\\'5\"\"\",Hindu, Sindhi-Sakkhar,Sindhi,Law Enforcement Employee (Others),Haridwar, India,29\\r\\n1797,male,\"5\\'9\"\"\",Hindu, Kshatriya,Hindi,Software Professional,Gurgaon, India,32\\r\\n1798,female,\"5\\'3\"\"\",Hindu, Goud,Odia,Not working,Cuttack, India,28\\r\\n1799,female,\"5\\'1\"\"\",,others,Malayalam,Software Professional (Others),Singapore, Singapore,31\\r\\n1800,male,\"5\\'7\"\"\",,others,Bengali,Logistics and Travel Professional,Kolkata, India,35\\r\\n1801,male,\"4\\'5\"\"\",Hindu, Baidya,Bengali,Chartered Accountant,Guwahati, India,30\\r\\n1802,female,\"5\\'2\"\"\",Hindu, Bhatia,Punjabi,Not working,Chandigarh, India,28\\r\\n1803,male,\"5\\'3\"\"\",Hindu, Bhatia,Punjabi,Not Specified,Jalandhar, India,30\\r\\n1804,male,,,others,Hindi,Banking Professional,Leninakan, Armenia,22\\r\\n1805,male,\"6\\'0\"\"\",Hindu, Panchal,Gujarati,Software Professional (Others),Ahmedabad, India,30\\r\\n1806,male,,,others,,,, India,26\\r\\n1807,male,\"5\\'6\"\"\",Hindu, Kalita,Assamese,Banking Professional,Golaghat, India,29\\r\\n1808,male,\"5\\'6\"\"\",,others,Kannada,Company Secretary,Bengaluru / Bangalore, India,33\\r\\n1809,female,\"5\\'3\"\"\",Hindu, Lingayath,Kannada,Software Professional,Bengaluru / Bangalore, India,32\\r\\n1810,female,\"5\\'10\"\"\",Hindu, Scheduled Caste (SC),Hindi,Student,Jaipur, India,31\\r\\n1811,male,\"5\\'9\"\"\",Christian, Marthoma,Malayalam,Other Airline Professional,Al-Farawaniyah, Kuwait,30\\r\\n1812,male,\"5\\'7\"\"\",,others,Malayalam,Managers and Senior Executives,Bengaluru / Bangalore, India,33\\r\\n1813,male,\"5\\'6\"\"\",Hindu, Baniya,Hindi,VP / AVP / GM / DGM,Pune, India,33\\r\\n1814,female,,,others,Marathi,,, India,27\\r\\n1815,male,\"5\\'7\"\"\",Hindu, Kayastha,Bengali,HR Professional,Pune, India,35\\r\\n1816,male,\"5\\'3\"\"\",Hindu, Rajput - Lodhi,Hindi,Finance Professional,Budaun, India,30\\r\\n1817,male,\"5\\'8\"\"\",Hindu, Kalita,Assamese,Teacher,Mangaldai, India,28\\r\\n1818,male,\"4\\'5\"\"\",Hindu, Sahu,Odia,Fashion Designer,Sambalpur, India,30\\r\\n1819,male,\"5\\'10\"\"\",Hindu, Panchal,Gujarati,HR Professional,Liverpool, United Kingdom,32\\r\\n1820,male,\"5\\'7\"\"\",Hindu, Brahmin,Marathi,Software Professional,Pune, India,33\\r\\n1821,female,\"5\\'5\"\"\",Hindu, Ahom,Assamese,Not working,Golaghat, India,30\\r\\n1822,male,\"5\\'2\"\"\",,others,,,Hyderabad, India,27\\r\\n1823,female,\"4\\'9\"\"\",Hindu, Baidya,Bengali,Actor,Kolkata, India,26\\r\\n1824,male,\"5\\'7\"\"\",Hindu, Agarwal,Punjabi,Banking Professional,Sangrur, India,33\\r\\n1825,female,\"5\\'1\"\"\",Muslim, Memon,Hindi,Customer Support / BPO / KPO Professional,Mumbai, India,26\\r\\n1826,female,\"5\\'0\"\"\",Hindu, Thakur,Hindi,Not working,Gorakhpur, India,30\\r\\n1827,male,,,others,Kannada,Not Specified,Belagavi / Belagaum, India,30\\r\\n1828,female,\"5\\'2\"\"\",Hindu, Vaishnav,Gujarati,Consultant / Supervisor / Team Leads,Mumbai, India,29\\r\\n1829,female,\"5\\'4\"\"\",Hindu, Balija,Telugu,Not working,Nellore, India,28\\r\\n1830,male,\"4\\'10\"\"\",,others,Bengali,Farming,Midnapore, India,29\\r\\n1831,female,\"5\\'1\"\"\",Hindu, Kayastha,Bengali,Not working,Berhampore, India,31\\r\\n1832,male,\"5\\'5\"\"\",Hindu, Baishnab,Bengali,Company Secretary,Kolkata, India,29\\r\\n1833,female,\"5\\'4\"\"\",Christian, Roman Catholic,Tamil,Managers and Senior Executives,Mumbai, India,32\\r\\n1834,male,\"5\\'11\"\"\",Hindu, Brahmin,Telugu,Marketing Professional,Hyderabad, India,31\\r\\n1835,male,\"5\\'6\"\"\",Hindu, Baishya,Bengali,Software Consultant,West Midlands, United Kingdom,30\\r\\n1836,male,\"5\\'8\"\"\",Hindu, Patel,English,Civil Engineer,Harrow, United Kingdom,34\\r\\n1837,female,\"5\\'4\"\"\",Hindu, Vanniyar,Tamil,Admin Professional,Kedah, Malaysia,30\\r\\n1838,female,\"5\\'3\"\"\",Hindu, Scheduled Caste (SC),Hindi,Admin Professional,Delhi, India,31\\r\\n1839,male,\"5\\'8\"\"\",,others,Bengali,Advertising Professional,Mumbai, India,28\\r\\n1840,,,,others,Marathi,,Mumbai, India,26\\r\\n1841,male,\"5\\'2\"\"\",Hindu, Lingayath,Kannada,Software Professional (Others),Bengaluru / Bangalore, India,35\\r\\n1842,female,\"5\\'5\"\"\",Hindu, Brahmin,Hindi,Software Professional (Others),Hyderabad, India,29\\r\\n1843,male,\"5\\'6\"\"\",Hindu, Patel,Gujarati,Hardware & Networking professional,Mumbai, India,31\\r\\n1844,female,\"5\\'0\"\"\",,,Malayalam,,Pune, India,32\\r\\n1845,male,\"5\\'9\"\"\",Hindu, Baishya,Bengali,Accounting Professional (Others),Kolkata, India,27\\r\\n1846,female,\"5\\'2\"\"\",Hindu, Baishnab,Bengali,Not working,Krishnanagar, India,25\\r\\n1847,male,\"5\\'6\"\"\",Hindu, Kalita,Assamese,Accounting Professional (Others),Guwahati, India,31\\r\\n1848,male,\"5\\'10\"\"\",Hindu, Sindhi-Sakkhar,Sindhi,Not Specified,Delhi, India,29\\r\\n1849,male,\"5\\'8\"\"\",Hindu, Baniya,Hindi,Software Professional,Mumbai, India,32\\r\\n1850,male,\"5\\'7\"\"\",Hindu, Balija,Telugu,Non IT Engineer (Others),Bengaluru / Bangalore, India,28\\r\\n1851,male,\"5\\'7\"\"\",Hindu, Vanniyar,Tamil,Entrepreneurs / Business ,Vellore, India,31\\r\\n1852,male,\"5\\'7\"\"\",,others,Malayalam,Training Professional (Others),Alappuzha, India,32\\r\\n1853,female,\"5\\'1\"\"\",Hindu, Agarwal,Punjabi,Consultant / Supervisor / Team Leads,Brampton, Canada,29\\r\\n1854,male,\"5\\'9\"\"\",Hindu, OBC - Barber/Naayee,Hindi,Hotel & Hospitality Professional (Others),Purnia, India,27\\r\\n1855,male,\"5\\'8\"\"\",Hindu, Baniya,Hindi,Finance Professional,Gurgaon, India,34\\r\\n1856,male,\"5\\'5\"\"\",,others,Tulu,,Mumbai, India,32\\r\\n1857,male,,,others,Telugu,Admin Professional,Karimnagar, India,33\\r\\n1858,male,\"5\\'1\"\"\",Hindu, Lingayath,Kannada,Admin Professional,Bengaluru / Bangalore, India,33\\r\\n1859,male,\"6\\'0\"\"\",Hindu, OBC - Barber/Naayee,Hindi,Hardware & Networking professional,Bengaluru / Bangalore, India,28\\r\\n1860,male,\"5\\'6\"\"\",Muslim, Memon,Hindi,Agent / Broker / Trader / Contractor,Raipur, India,26\\r\\n1861,male,\"5\\'9\"\"\",Sikh, Kshatriya,Punjabi,Lawyer,Surrey, Canada,33\\r\\n1862,female,\"5\\'4\"\"\",Hindu, Brahmin,Telugu,Lecturer,Ranga Reddy, India,30\\r\\n1863,female,\"5\\'3\"\"\",Hindu, Baidya,Bengali,Social Worker / Volunteer / NGO,Delhi, India,29\\r\\n1864,male,\"5\\'8\"\"\",Hindu, Valmiki,Punjabi,Accounting Professional (Others),Punjab, India,28\\r\\n1865,female,\"5\\'3\"\"\",Hindu, Kaibarta,Odia,Not working,Cuttack, India,28\\r\\n1866,male,\"5\\'6\"\"\",Sikh, Kshatriya,Punjabi,Designer (Others),Amritsar, India,31\\r\\n1867,male,\"5\\'7\"\"\",Christian, Born Again,Punjabi,Hotel & Hospitality Professional (Others),Muscat, Oman,32\\r\\n1868,male,\"5\\'5\"\"\",Hindu, Vanniyar,Tamil,Hotel & Hospitality Professional (Others),Chamrajnagar, India,30\\r\\n1869,female,\"5\\'2\"\"\",,others,Hindi,Not working,Anand, India,24\\r\\n1870,female,\"5\\'4\"\"\",Hindu, Kalita,Assamese,Admin Professional,Guwahati, India,27\\r\\n1871,male,\"5\\'11\"\"\",Hindu, Brahmin,Hindi,Admin Professional,Delhi, India,30\\r\\n1872,male,\"4\\'6\"\"\",Hindu, Thakur,Hindi,Writer,Bengaluru / Bangalore, India,31\\r\\n1873,female,\"5\\'3\"\"\",Sikh, Gursikh,Punjabi,Not working,Gorakhpur, India,29\\r\\n1874,male,\"5\\'7\"\"\",Hindu, Arora,Hindi,Entrepreneurs / Business ,Lucknow, India,36\\r\\n1875,female,\"5\\'4\"\"\",Hindu, Kayastha,Bengali,Not working,Siliguri, India,33\\r\\n1876,female,\"5\\'2\"\"\",Hindu, Lingayath,Kannada,Software Professional (Others),Bengaluru / Bangalore, India,32\\r\\n1877,female,\"4\\'6\"\"\",Muslim, Memon,Bengali,Banking Professional,Malda, India,27\\r\\n1878,female,\"5\\'3\"\"\",Hindu, Vaishnav,Gujarati,Team Member / Staff,Porbandar, India,30\\r\\n1879,female,\"5\\'0\"\"\",Hindu, Viswabrahmin,Telugu,Science Professional (Others),Hyderabad, India,28\\r\\n1880,male,\"5\\'10\"\"\",Hindu, Brahmin,Hindi,Software Professional,Pune, India,31\\r\\n1881,male,\"5\\'10\"\"\",Hindu, Vanniyar,Tamil,Admin Professional,Cuddalore, India,31\\r\\n1882,female,\"5\\'1\"\"\",Sikh, Gursikh,Punjabi,Managers and Senior Executives,Bengaluru / Bangalore, India,31\\r\\n1883,female,\"4\\'5\"\"\",Hindu, Goud,Odia,Not working,Sundargarh, India,27\\r\\n1884,female,\"5\\'6\"\"\",Hindu, Billava,Tulu,Banking Professional,Mangaluru / Mangalore, India,30\\r\\n1885,male,\"5\\'8\"\"\",Hindu, Vaishnav,Gujarati,Civil Engineer,New York- NY, USA,33\\r\\n1886,female,\"5\\'6\"\"\",Hindu, Sindhi-Sakkhar,Sindhi,Not working,Indore, India,27\\r\\n1887,male,\"5\\'6\"\"\",Hindu, Agarwal,Punjabi,Banking Professional,Bathinda, India,33\\r\\n1888,male,,,,,,, India,31\\r\\n1889,female,\"5\\'7\"\"\",Sikh, Ramdasia,Punjabi,Lecturer,Nawan Shehar, India,32\\r\\n1890,female,\"5\\'0\"\"\",Christian, Roman Catholic,Tamil,Customer Support / BPO / KPO Professional,Bengaluru / Bangalore, India,31\\r\\n1891,female,\"5\\'4\"\"\",Sikh, Khatri,Punjabi,Not working,Jabalpur, India,31\\r\\n1892,female,\"5\\'3\"\"\",Hindu, Saini,Hindi,Accounting Professional (Others),Delhi, India,28\\r\\n1893,male,,,others,,,, India,26\\r\\n1894,female,\"5\\'3\"\"\",,others,Bengali,Lawyer,Kolkata, India,27\\r\\n1895,male,\"5\\'5\"\"\",,,Sindhi,,, India,25\\r\\n1896,male,\"5\\'11\"\"\",Hindu, Bhandari,Marathi,Non IT Engineer (Others),Farmington Hills- MI, USA,30\\r\\n1897,female,\"5\\'2\"\"\",Hindu, Viswabrahmin,Telugu,Not working,Vizianagaram, India,27\\r\\n1898,male,\"5\\'4\"\"\",Hindu, Bhandari,Marathi,Team Member / Staff,Mumbai, India,33\\r\\n1899,female,\"5\\'2\"\"\",Christian, Marthoma,Malayalam,Pharmacist,Fort Lauderdale- FL, USA,29\\r\\n1900,male,\"5\\'4\"\"\",Hindu, Brahmin,Marathi,Software Professional,Mumbai, India,33\\r\\n1901,male,\"5\\'4\"\"\",Hindu, Kayastha,Bengali,Marketing Professional,Noida, India,35\\r\\n1902,female,\"5\\'6\"\"\",Sikh, Khatri,Punjabi,Nurse,London, United Kingdom,28\\r\\n1903,female,\"5\\'10\"\"\",,others,Telugu,Not Specified,Rajahmundry, India,24\\r\\n1904,male,\"5\\'7\"\"\",Hindu, Baishya,Bengali,Medical / Healthcare Professional (Others),Kolkata, India,28\\r\\n1905,male,\"5\\'7\"\"\",Hindu, Brahmin,Bengali,Defense Services,Darjeeling, India,32\\r\\n1906,female,\"5\\'0\"\"\",Hindu, Bhandari,Marathi,Electronics / Telecom Engineer,Bengaluru / Bangalore, India,30\\r\\n1907,male,\"5\\'9\"\"\",Sikh, Kshatriya,Punjabi,Banking Professional,Chandigarh, India,30\\r\\n1908,female,\"5\\'7\"\"\",Hindu, Balija,Telugu,Consultant / Supervisor / Team Leads,Chennai, India,26\\r\\n1909,male,\"5\\'8\"\"\",Muslim, Memon,Hindi,Interior Designer,Vijayapura / Bijapur, India,29\\r\\n1910,male,\"5\\'7\"\"\",Hindu, Kayastha,Bengali,Managers and Senior Executives,Delhi, India,32\\r\\n1911,male,\"5\\'11\"\"\",Hindu, Kalita,Assamese,Company Secretary,Golaghat, India,30\\r\\n1912,female,\"5\\'6\"\"\",Hindu, Brahmin,Gujarati,HR Professional,Vadodara, India,29\\r\\n1913,female,\"5\\'1\"\"\",Hindu, Baniya,Hindi,Marketing Professional,Dubai, United Arab Emirates,34\\r\\n1914,female,\"5\\'4\"\"\",,,Kannada,,, India,27\\r\\n1915,female,\"5\\'6\"\"\",,others,Malayalam,Student,Dallas- TX, USA,27\\r\\n1916,female,\"5\\'2\"\"\",Hindu, Panchal,Gujarati,Physiotherapist / Occupational Therapist,Mumbai, India,28\\r\\n1917,female,\"5\\'5\"\"\",Hindu, Sindhi-Sakkhar,Hindi,Teacher,Baran, India,27\\r\\n1918,female,\"5\\'2\"\"\",Hindu, Lingayath,Kannada,Fashion Designer,Bengaluru / Bangalore, India,30\\r\\n1919,female,\"4\\'5\"\"\",,others,Kannada,,Dera Allah Yar, Pakistan,31\\r\\n1920,female,\"4\\'10\"\"\",Hindu, Valmiki,Hindi,Not Specified,Hyderabad, India,29\\r\\n1921,female,\"5\\'3\"\"\",Hindu, Brahmin,Marwari,Finance Professional,Kolkata, India,31\\r\\n1922,female,\"5\\'3\"\"\",Hindu, Arora,Hindi,Entrepreneurs / Business ,Delhi, India,34\\r\\n1923,female,\"5\\'4\"\"\",Jain, Shwetamber,Hindi,Investment Professional,New York- NY, USA,32\\r\\n1924,,,,others,Hindi,Writer,Howra, India,21\\r\\n1925,female,\"5\\'0\"\"\",Hindu, Kalita,Assamese,Medical Transcriptionist,Guwahati, India,30\\r\\n1926,male,\"5\\'4\"\"\",Hindu, Agarwal,Punjabi,Accounting Professional (Others),Haryana, India,32\\r\\n1927,female,\"5\\'3\"\"\",,,,,Kolkata, India,31\\r\\n1928,male,\"6\\'0\"\"\",Hindu, Baidya,Bengali,Not Specified,Howra, India,30\\r\\n1929,male,\"5\\'6\"\"\",,,,,Varanasi, India,34\\r\\n1930,male,\"5\\'11\"\"\",Jain, Shwetamber,Marwari,Admin Professional,Bengaluru / Bangalore, India,34\\r\\n1931,male,\"5\\'6\"\"\",Hindu, Bhandari,Marathi,Electronics / Telecom Engineer,Mumbai, India,32\\r\\n1932,female,\"5\\'3\"\"\",,,,Teacher,Ahmedabad, India,20\\r\\n1933,female,\"5\\'2\"\"\",Sikh, Gursikh,Punjabi,Not working,Ludhiana, India,31\\r\\n1934,male,\"5\\'8\"\"\",Hindu, Brahmin,Marathi,Software Professional (Others),Mumbai, India,31\\r\\n1935,male,\"5\\'6\"\"\",Hindu, Baniya,Hindi,Software Professional,Mississauga, Canada,35\\r\\n1936,male,\"5\\'5\"\"\",,others,Kannada,Not Specified,, India,31\\r\\n1937,male,\"5\\'5\"\"\",,others,Hindi,Not Specified,Uttar Pradesh, India,29\\r\\n1938,female,\"5\\'0\"\"\",Hindu, Panchal,Gujarati,Admin Professional,Nashik, India,29\\r\\n1939,female,\"5\\'4\"\"\",Hindu, Brahmin,Hindi,Not Specified,Dhanbad, India,28\\r\\n1940,female,\"5\\'4\"\"\",Hindu, Brahmin,Marathi,Marketing Professional,Mumbai, India,29\\r\\n1941,male,\"5\\'6\"\"\",Hindu, Kshatriya,Hindi,Non IT Engineer (Others),Noida, India,30\\r\\n1942,female,\"5\\'7\"\"\",Hindu, Bhatia,Kutchi,Air Hostess / Flight Attendant,Other, Qatar,30\\r\\n1943,female,\"5\\'2\"\"\",Hindu, Billava,Tulu,Doctor / Healthcare Professional,Mumbai, India,30\\r\\n1944,female,\"7\\'0\"\"\",Hindu, Vanniyar,Tamil,Admin Professional,Pondicherry, India,30\\r\\n1945,female,\"4\\'11\"\"\",,others,Kannada,,, India,26\\r\\n1946,female,\"5\\'0\"\"\",Hindu, Scheduled Caste (SC),Hindi,Professor,Delhi, India,34\\r\\n1947,male,\"5\\'8\"\"\",Hindu, Bhandari,Konkani,Software Professional,Pune, India,31\\r\\n1948,male,\"5\\'11\"\"\",Hindu, Baishya,Odia,Managers and Senior Executives,Phulbani, India,28\\r\\n1949,female,\"5\\'0\"\"\",Sikh, Ramdasia,Punjabi,Teacher,Amritsar, India,30\\r\\n1950,female,\"5\\'1\"\"\",Hindu, Kaibarta,Odia,HR Professional,Pune, India,27\\r\\n1951,female,\"5\\'0\"\"\",Hindu, Agarwal,Punjabi,Managers and Senior Executives,Panchkula, India,30\\r\\n1952,female,\"4\\'5\"\"\",,others,Kannada,Journalist,Bengaluru / Bangalore, India,28\\r\\n1953,female,\"5\\'5\"\"\",,others,Telugu,Not Specified,Kakinada, India,25\\r\\n1954,female,\"5\\'3\"\"\",Hindu, Arora,Hindi,Entrepreneurs / Business ,Delhi, India,33\\r\\n1955,female,\"5\\'5\"\"\",Hindu, Baishnab,Bengali,Media Professional,Asansol, India,26\\r\\n1956,female,\"5\\'7\"\"\",Jain, Shwetamber,Marwari,Admin Professional,New York- NY, USA,32\\r\\n1957,female,\"5\\'0\"\"\",Hindu, Valmiki,Hindi,Not working,Kaithal, India,27\\r\\n1958,male,\"5\\'3\"\"\",Hindu, Scheduled Caste (SC),Kannada,Entrepreneurs / Business ,Bengaluru / Bangalore, India,34\\r\\n1959,female,\"4\\'5\"\"\",Hindu, Ahom,Manipuri,Not working,Dibrugarh, India,30\\r\\n1960,male,\"5\\'7\"\"\",,others,Malayalam,Sales Professional / Marketing,Dubai, United Arab Emirates,31\\r\\n1961,male,,,others,,,, India,30\\r\\n1962,female,\"5\\'3\"\"\",Hindu, Brahmin,Hindi,Managers and Senior Executives,Bhopal, India,30\\r\\n1963,male,\"5\\'7\"\"\",Christian, Marthoma,Malayalam,Finance Professional,Al-Kuwayt, Kuwait,31\\r\\n1964,male,\"5\\'11\"\"\",Hindu, Arya Vysya,Telugu,Software Professional (Others),Hyderabad, India,29\\r\\n1965,male,\"5\\'5\"\"\",Hindu, Baniya,Hindi,Software Professional (Others),Delhi, India,33\\r\\n1966,female,,,others,Kannada,Not working,Ballari / Bellary, India,30\\r\\n1967,male,\"5\\'6\"\"\",Hindu, Agri,Marathi,Medical / Healthcare Professional (Others),Mumbai, India,30\\r\\n1968,male,\"5\\'8\"\"\",Hindu, Valmiki,Haryanavi,Banking Professional,Bidar, India,29\\r\\n1969,male,\"5\\'6\"\"\",Hindu, Lingayath,Kannada,Banking Professional,Karnataka, India,33\\r\\n1970,male,\"5\\'3\"\"\",Hindu, Kaibarta,Odia,Not working,Koraput, India,28\\r\\n1971,male,\"5\\'8\"\"\",Hindu, Brahmin,Telugu,Training Professional (Others),Vizianagaram, India,32\\r\\n1972,male,\"6\\'0\"\"\",Muslim, Memon,Bengali,Not working,Dhaka, Bangladesh,27\\r\\n1973,male,\"5\\'8\"\"\",Hindu, Sahu,Hindi,Banking Professional,Bhopal, India,29\\r\\n1974,,,,others,Hindi,,Dhamtari, India,24\\r\\n1975,female,\"5\\'0\"\"\",Hindu, Bhandari,Marathi,Mechanical / Production Engineer,Mumbai, India,32\\r\\n1976,male,\"6\\'0\"\"\",Hindu, Agarwal,Punjabi,Accounting Professional (Others),Punjab, India,30\\r\\n1977,male,\"5\\'6\"\"\",Hindu, Agarwal,Punjabi,Entrepreneurs / Business ,Muktsar, India,30\\r\\n1978,female,\"5\\'5\"\"\",Hindu, Saini,Hindi,Accounting Professional (Others),Chandigarh, India,27\\r\\n1979,female,\"5\\'4\"\"\",Hindu, Kshatriya,Hindi,Doctor / Healthcare Professional,Mumbai, India,29\\r\\n1980,female,\"5\\'2\"\"\",Christian, Roman Catholic,Tamil,Not working,Chennai, India,30\\r\\n1981,female,\"5\\'5\"\"\",Hindu, Valmiki,Hindi,Not working,Delhi, India,28\\r\\n1982,male,\"5\\'6\"\"\",Hindu, Valmiki,Kannada,Mechanical / Production Engineer,Shivamogga, India,28\\r\\n1983,male,\"5\\'4\"\"\",Hindu, Brahmin,Hindi,Advertising Professional,Haryana, India,33\\r\\n1984,male,\"5\\'0\"\"\",Hindu, Baishnab,Bengali,Mechanical / Production Engineer,Midnapore, India,30\\r\\n1985,male,\"5\\'8\"\"\",Hindu, Brahmin,Hindi,Doctor / Healthcare Professional,Delhi, India,30\\r\\n1986,male,\"5\\'4\"\"\",Hindu, Patel,Gujarati,Team Member / Staff,Vapi, India,31\\r\\n1987,male,\"5\\'8\"\"\",Hindu, Brahmin,Marathi,Finance Professional,Claymont- DE, USA,33\\r\\n1988,male,\"5\\'10\"\"\",Hindu, Brahmin,Bengali,Finance Professional,New York- NY, USA,32\\r\\n1989,female,\"5\\'3\"\"\",Hindu, Brahmin,Marathi,Not Specified,Pune, India,30\\r\\n1990,female,\"4\\'5\"\"\",Sikh, Khatri,Punjabi,Not working,Patiala, India,31\\r\\n1991,male,\"5\\'10\"\"\",Sikh, Ramdasia,Punjabi,Teacher,Patiala, India,31\\r\\n1992,female,\"5\\'5\"\"\",Hindu, Baishnab,Bengali,Not working,West Bengal, India,26\\r\\n1993,male,\"5\\'5\"\"\",Hindu, Rajput - Lodhi,Hindi,Defense Services,Chhindwara, India,31\\r\\n1994,male,\"5\\'9\"\"\",Sikh, Kshatriya,Punjabi,Not Specified,Chandigarh, India,33\\r\\n1995,male,\"5\\'6\"\"\",Hindu, Kayastha,Bengali,Finance Professional,Kolkata, India,34\\r\\n1996,male,\"5\\'8\"\"\",,,,Non IT Engineer (Others),Chennai, India,26\\r\\n1997,female,\"5\\'1\"\"\",Hindu, Billava,Bengali,Nurse,Midnapore, India,31\\r\\n1998,female,\"5\\'5\"\"\",Hindu, Sindhi-Sakkhar,Sindhi,Accounting Professional (Others),Mumbai, India,28\\r\\n1999,male,\"5\\'9\"\"\",Hindu, Arya Vysya,Hindi,Defense Services,Aligarh, India,28\\r\\n2000,male,\"5\\'10\"\"\",Hindu, Brahmin,Gujarati,Mechanical / Production Engineer,Surat, India,30\\r\\n2001,female,\"5\\'8\"\"\",Hindu, Bhatia,Gujarati,Entrepreneurs / Business ,Mumbai, India,30\\r\\n2002,male,\"5\\'7\"\"\",,,Kannada,,, India,23\\r\\n2003,male,\"5\\'5\"\"\",,others,Tamil,Software Professional (Others),Bengaluru / Bangalore, India,29\\r\\n2004,male,\"5\\'4\"\"\",,,,Entrepreneurs / Business ,Delhi, India,33\\r\\n2005,female,\"5\\'5\"\"\",Hindu, Viswabrahmin,Telugu,Teacher,Nanded, India,27\\r\\n2006,male,\"5\\'4\"\"\",Christian, Roman Catholic,Tamil,Consultant / Supervisor / Team Leads,Mumbai, India,32\\r\\n2007,male,\"5\\'11\"\"\",,others,Hindi,Software Consultant,Duluth- GA, USA,25\\r\\n2008,male,\"5\\'7\"\"\",Hindu, Vaishnav,Gujarati,Investment Professional,Mumbai, India,33\\r\\n2009,male,\"5\\'4\"\"\",Christian, Roman Catholic,English,Admin Professional,Sundargarh, India,30\\r\\n2010,female,\"5\\'5\"\"\",Hindu, Scheduled Caste (SC),Hindi,Admin Professional,Mumbai, India,34\\r\\n2011,male,\"5\\'6\"\"\",Hindu, Baidya,Bengali,Mechanical / Production Engineer,Kolkata, India,29\\r\\n2012,male,\"5\\'7\"\"\",Hindu, Ahom,Assamese,Software Professional (Others),Sibsagar, India,30\\r\\n2013,male,\"5\\'4\"\"\",Hindu, Viswabrahmin,Telugu,Not Specified,Eluru, India,31\\r\\n2014,female,\"5\\'10\"\"\",Hindu, Agri,Punjabi,Banking Professional,Guntur, India,30\\r\\n2015,female,\"4\\'5\"\"\",Hindu, Baishnab,Bengali,Beautician,Bhubaneswar, India,26\\r\\n2016,female,\"5\\'1\"\"\",Hindu, Vanniyar,Tamil,Not Specified,Chennai, India,29\\r\\n2017,male,\"5\\'8\"\"\",Hindu, Baishnab,Bengali,Medical / Healthcare Professional (Others),Durgapur, India,30\\r\\n2018,female,\"5\\'5\"\"\",,others,Telugu,,, India,24\\r\\n2019,male,\"5\\'6\"\"\",Hindu, Arora,Hindi,Entrepreneurs / Business ,Meerut, India,34\\r\\n2020,male,\"5\\'7\"\"\",Hindu, Thakur,Punjabi,Software Professional,Auckland, New Zealand,29\\r\\n2021,female,\"5\\'6\"\"\",Hindu, OBC - Barber/Naayee,Bengali,Not Specified,Ranchi, India,27\\r\\n2022,male,\"5\\'0\"\"\",Christian, Marthoma,Malayalam,Hardware & Networking professional,Dubai, United Arab Emirates,33\\r\\n2023,male,\"5\\'6\"\"\",Hindu, Vanniyar,Tamil,Mechanical / Production Engineer,Salem, India,30\\r\\n2024,male,\"4\\'5\"\"\",,others,Tamil,Admin Professional,Chennai, India,21\\r\\n2025,female,\"5\\'4\"\"\",Hindu, Brahmin,Hindi,Hotel & Hospitality Professional (Others),Panaji, India,29\\r\\n2026,male,\"5\\'5\"\"\",Hindu, Thakur,Hindi,Not Specified,Lucknow, India,31\\r\\n2027,female,\"5\\'9\"\"\",Hindu, Baidya,Bengali,Software Professional,West Bengal, India,28\\r\\n2028,male,\"5\\'6\"\"\",,others,Bengali,Entrepreneurs / Business ,Lakhimpur, India,32\\r\\n2029,male,\"5\\'10\"\"\",Sikh, Gursikh,Punjabi,Banking Professional,Bareilly, India,30\\r\\n2030,male,,,others,,,, India,32\\r\\n2031,male,\"5\\'11\"\"\",Hindu, Kshatriya,Hindi,Managers and Senior Executives,Bengaluru / Bangalore, India,31\\r\\n2032,male,\"5\\'11\"\"\",,others,Hindi,,, India,27\\r\\n2033,female,\"5\\'5\"\"\",Hindu, Lingayath,Kannada,Managers and Senior Executives,Bengaluru / Bangalore, India,29\\r\\n2034,male,\"5\\'8\"\"\",,others,Telugu,Mechanical / Production Engineer,Mancherial, India,30\\r\\n2035,male,,,others,Kannada,Hotel & Hospitality Professional (Others),Bengaluru / Bangalore, India,27\\r\\n2036,female,\"4\\'6\"\"\",Hindu, Ahom,Assamese,Banking Professional,Delhi, India,27\\r\\n2037,female,\"5\\'3\"\"\",,others,Hindi,Not working,Dhanbad, India,22\\r\\n2038,male,,,others,,,Abu Dhabi, United Arab Emirates,33\\r\\n2039,female,\"5\\'4\"\"\",Hindu, Brahmin,Bengali,Software Professional (Others),Kolkata, India,29\\r\\n2040,male,\"5\\'4\"\"\",Hindu, Goud,Telugu,Customer Support / BPO / KPO Professional,Hyderabad, India,29\\r\\n2041,male,\"5\\'7\"\"\",Hindu, Scheduled Caste (SC),Kannada,Mechanical / Production Engineer,Bengaluru / Bangalore, India,35\\r\\n2042,male,\"5\\'9\"\"\",,,Telugu,,, India,30\\r\\n2043,female,\"5\\'1\"\"\",Hindu, Baniya,Hindi,Teacher,Kolkata, India,36\\r\\n2044,male,\"5\\'8\"\"\",Hindu, Balija,Telugu,Defense Services,Nellore, India,31\\r\\n2045,male,\"5\\'11\"\"\",Hindu, Saini,Hindi,Entrepreneurs / Business ,Haryana, India,31\\r\\n2046,female,\"5\\'7\"\"\",Hindu, Patel,Gujarati,Pharmacist,Hoboken- NJ, USA,28\\r\\n2047,male,\"5\\'3\"\"\",Hindu, Baishnab,Bengali,Not working,Chinsurah, India,28\\r\\n2048,male,\"5\\'7\"\"\",Hindu, Valmiki,Hindi,Hotel & Hospitality Professional (Others),Bijnor, India,31\\r\\n2049,female,\"5\\'2\"\"\",Hindu, Agarwal,Marwari,Finance Professional,Asansol, India,30\\r\\n2050,female,\"5\\'2\"\"\",Hindu, Rajput - Lodhi,Hindi,Not Specified,Bulandshahr, India,30\\r\\n2051,male,\"5\\'8\"\"\",Hindu, Agri,Marathi,Advertising Professional,Maharashtra, India,28\\r\\n2052,male,\"5\\'10\"\"\",Sikh, Gursikh,English,Medical / Healthcare Professional (Others),West Midlands, United Kingdom,30\\r\\n2053,female,\"5\\'1\"\"\",Hindu, Rajput - Lodhi,Hindi,Not Specified,Gurgaon, India,28\\r\\n2054,male,\"5\\'3\"\"\",Hindu, Brahmin,Hindi,Not Specified,Deoria, India,31\\r\\n2055,male,\"5\\'9\"\"\",Hindu, Viswabrahmin,Telugu,Consultant / Supervisor / Team Leads,Bengaluru / Bangalore, India,28\\r\\n2056,male,\"5\\'10\"\"\",Hindu, Agarwal,Punjabi,Entrepreneurs / Business ,Rajasthan, India,30\\r\\n2057,female,\"5\\'4\"\"\",Hindu, Brahmin,Hindi,Finance Professional,Noida, India,29\\r\\n2058,male,\"5\\'10\"\"\",Hindu, Saini,Hindi,Training Professional (Others),Ghaziabad, India,29\\r\\n2059,female,\"5\\'5\"\"\",Hindu, Baishya,Bengali,Not working,Balurghat, India,26\\r\\n2060,male,\"5\\'8\"\"\",,others,Kannada,,Shivamogga, India,31\\r\\n2061,male,\"6\\'3\"\"\",Sikh, Gursikh,Punjabi,Managers and Senior Executives,Auckland, New Zealand,30\\r\\n2062,female,\"5\\'2\"\"\",Christian, Roman Catholic,Malayalam,Nurse,Thiruvananthapuram, India,32\\r\\n2063,female,\"4\\'5\"\"\",Hindu, Kalita,Assamese,Not working,Guwahati, India,28\\r\\n2064,male,\"6\\'1\"\"\",Christian, Born Again,English,Medical / Healthcare Professional (Others),Melbourne, Australia,30\\r\\n2065,female,\"5\\'1\"\"\",Hindu, Patel,Gujarati,Accounting Professional (Others),Iselin- NJ, USA,28\\r\\n2066,female,\"5\\'3\"\"\",Hindu, Bhatia,Hindi,Training Professional (Others),Delhi, India,29\\r\\n2067,female,\"5\\'0\"\"\",Hindu, Lingayath,Kannada,Dentist,Kalaburagi / Gulbarga, India,31\\r\\n2068,male,\"5\\'7\"\"\",Hindu, Baniya,Hindi,Software Professional (Others),Singapore, Singapore,32\\r\\n2069,male,\"5\\'0\"\"\",,others,Tamil,Electronics / Telecom Engineer,Coimbatore, India,25\\r\\n2070,female,\"5\\'3\"\"\",Hindu, Brahmin,Bengali,Air Hostess / Flight Attendant,Kolkata, India,29\\r\\n2071,female,\"5\\'3\"\"\",Muslim, Memon,Urdu,Banking Professional,Piriyapatna, India,29\\r\\n2072,male,\"5\\'7\"\"\",,others,Telugu,,, India,29\\r\\n2073,female,\"5\\'0\"\"\",,others,Bengali,Not working,Kharagpur, India,29\\r\\n2074,male,\"5\\'7\"\"\",Hindu, Vaishnav,Gujarati,Electronics / Telecom Engineer,Pune, India,32\\r\\n2075,male,\"5\\'9\"\"\",,others,Tamil,Electronics / Telecom Engineer,Madurai, India,29\\r\\n2076,male,\"5\\'7\"\"\",Hindu, Thakur,Marathi,Mechanical / Production Engineer,Nashik, India,31\\r\\n2077,female,\"4\\'10\"\"\",Hindu, Ahom,Assamese,Banking Professional,Bhagalpur, India,28\\r\\n2078,male,\"5\\'6\"\"\",Hindu, Viswabrahmin,Telugu,Medical Transcriptionist,Hyderabad, India,31\\r\\n2079,male,\"5\\'5\"\"\",Hindu, Saini,Hindi,Customer Support / BPO / KPO Professional,Bijnor, India,32\\r\\n2080,female,\"5\\'3\"\"\",Hindu, Saini,Hindi,Not Specified,Yamunanagar, India,28\\r\\n2081,female,\"4\\'11\"\"\",Hindu, Valmiki,Hindi,Not working,Ludhiana, India,29\\r\\n2082,male,\"5\\'7\"\"\",Hindu, Billava,Kannada,Electronics / Telecom Engineer,Karnataka, India,28\\r\\n2083,male,\"5\\'8\"\"\",Hindu, Vanniyar,Tamil,Teacher,Pondicherry, India,30\\r\\n2084,female,\"5\\'6\"\"\",Hindu, Baniya,Hindi,Software Consultant,Taguig, Philippines,35\\r\\n2085,female,,,,,,, India,34\\r\\n2086,female,\"5\\'7\"\"\",Hindu, Brahmin,Hindi,Software Consultant,Bengaluru / Bangalore, India,29\\r\\n2087,male,\"5\\'11\"\"\",,others,Telugu,Web / UX Designers,Andhra Pradesh, India,24\\r\\n2088,female,\"4\\'9\"\"\",Hindu, Arya Vysya,Odia,Not working,Bhubaneswar, India,25\\r\\n2089,female,\"4\\'11\"\"\",Hindu, Rajput - Lodhi,Hindi,Not Specified,Kanpur, India,27\\r\\n2090,male,\"5\\'7\"\"\",Sikh, Kshatriya,Punjabi,Software Professional,Oslo, Norway,33\\r\\n2091,male,\"5\\'5\"\"\",Sikh, Ramdasia,Punjabi,Mechanical / Production Engineer,Ludhiana, India,32\\r\\n2092,male,\"5\\'5\"\"\",,others,,,Kalaburagi / Gulbarga, India,27\\r\\n2093,male,\"5\\'8\"\"\",Hindu, Baniya,Hindi,Entrepreneurs / Business ,Delhi, India,32\\r\\n2094,female,\"4\\'8\"\"\",Hindu, Kalita,Assamese,Not Specified,Mumbai, India,27\\r\\n2095,female,\"4\\'5\"\"\",Hindu, Agri,Hindi,Not Specified,Bihar Sharif, India,29\\r\\n2096,male,\"5\\'8\"\"\",Christian, Born Again,Malayalam,Non IT Engineer (Others),Suhl, Germany,33\\r\\n2097,female,\"5\\'3\"\"\",Hindu, Thakur,Hindi,Not working,Kanpur, India,29\\r\\n2098,male,\"5\\'4\"\"\",Hindu, Brahmin,Bengali,Advertising Professional,Kolkata, India,33\\r\\n2099,male,\"5\\'5\"\"\",Hindu, Scheduled Caste (SC),Hindi,Doctor / Healthcare Professional,Lucknow, India,33\\r\\n2100,,\"6\\'1\"\"\",,others,Hindi,,Haridwar, India,26\\r\\n2101,,,,others,Malayalam,,Kochi, India,24\\r\\n2102,female,\"5\\'7\"\"\",Hindu, Kalita,Assamese,Teacher,Guwahati, India,27\\r\\n2103,female,\"7\\'0\"\"\",Hindu, Bhandari,Konkani,Not working,Honnavar, India,30\\r\\n2104,male,,,,,Software Consultant,, India,27\\r\\n2105,female,\"5\\'3\"\"\",Hindu, Agarwal,Marwari,Finance Professional,Mumbai, India,28\\r\\n2106,female,\"5\\'0\"\"\",Hindu, Scheduled Caste (SC),Hindi,Software Professional,Columbus- OH, USA,34\\r\\n2107,male,\"5\\'7\"\"\",,others,Telugu,,Mahbubnagar, India,29\\r\\n2108,male,\"5\\'7\"\"\",,others,,,Ernakulam, India,35\\r\\n2109,female,\"5\\'2\"\"\",Hindu, Bhandari,Marathi,Team Member / Staff,Mumbai, India,31\\r\\n2110,male,\"5\\'8\"\"\",Hindu, Arya Vysya,Telugu,Chartered Accountant,Bengaluru / Bangalore, India,31\\r\\n2111,female,\"5\\'0\"\"\",Hindu, Lingayath,Marathi,Pharmacist,Solapur, India,32\\r\\n2112,female,\"4\\'5\"\"\",Hindu, Bhandari,Marathi,VP / AVP / GM / DGM,Mumbai, India,30\\r\\n2113,male,\"5\\'5\"\"\",Hindu, Goud,Telugu,Consultant / Supervisor / Team Leads,Mancherial, India,31\\r\\n2114,male,\"5\\'8\"\"\",Hindu, Sahu,Hindi,Not working,Fatehpur, India,30\\r\\n2115,female,\"5\\'2\"\"\",Hindu, Brahmin,Marathi,Not Specified,Pune, India,31\\r\\n2116,male,\"5\\'9\"\"\",Hindu, Valmiki,Hindi,Admin Professional,Goa, India,31\\r\\n2117,female,\"5\\'1\"\"\",Hindu, Vanniyar,Tamil,Doctor / Healthcare Professional,Kelang, Malaysia,30\\r\\n2118,male,\"5\\'9\"\"\",,,Sindhi,,, India,35\\r\\n2119,female,\"5\\'6\"\"\",,,,Civil Engineer,, USA,26\\r\\n2120,female,\"5\\'5\"\"\",Muslim, Memon,Bengali,Banking Professional,Puruliya, India,29\\r\\n2121,female,\"5\\'2\"\"\",Hindu, Kaibarta,Odia,Not Specified,Bhubaneswar, India,29\\r\\n2122,female,\"5\\'5\"\"\",Christian, Born Again,Telugu,Banking Professional,Hyderabad, India,29\\r\\n2123,female,\"5\\'3\"\"\",Christian, Marthoma,Malayalam,Training Professional (Others),Bengaluru / Bangalore, India,30\\r\\n2124,male,\"5\\'6\"\"\",Hindu, Baishya,Hindi,Teacher,Mahoba, India,27\\r\\n2125,male,\"5\\'4\"\"\",Hindu, Lingayath,Kannada,Electronics / Telecom Engineer,Bengaluru / Bangalore, India,32\\r\\n2126,male,\"5\\'7\"\"\",Hindu, Sindhi-Sakkhar,Sindhi,Accounting Professional (Others),Mumbai, India,27\\r\\n2127,male,\"5\\'6\"\"\",Hindu, Goud,Telugu,Not working,Tadepalligudem, India,29\\r\\n2128,male,\"5\\'10\"\"\",Hindu, Sahu,Hindi,Software Professional,Bengaluru / Bangalore, India,29\\r\\n2129,female,\"5\\'4\"\"\",Hindu, Brahmin,Marathi,Not Specified,Ratnagiri, India,30\\r\\n2130,female,\"5\\'0\"\"\",Hindu, Brahmin,Telugu,Not working,Visakhapatnam, India,30\\r\\n2131,female,\"5\\'8\"\"\",,others,Hindi,Not Specified,Hosur, India,27\\r\\n2132,female,\"5\\'2\"\"\",Hindu, Balija,Telugu,Banking Professional,Bengaluru / Bangalore, India,26\\r\\n2133,male,\"5\\'6\"\"\",Hindu, Baishya,Odia,Electronics / Telecom Engineer,Hyderabad, India,28\\r\\n2134,male,\"5\\'7\"\"\",,others,,Software Professional (Others),Pune, India,28\\r\\n2135,female,\"5\\'1\"\"\",Hindu, Bhandari,Marathi,Accounting Professional (Others),Mumbai, India,30\\r\\n2136,female,\"5\\'4\"\"\",Hindu, Lingayath,Kannada,Non IT Engineer (Others),Belagavi / Belagaum, India,32\\r\\n2137,female,\"5\\'1\"\"\",,others,,,, India,33\\r\\n2138,male,\"5\\'3\"\"\",Hindu, Panchal,Gujarati,Non IT Engineer (Others),Ahmedabad, India,31\\r\\n2139,female,,,others,Malayalam,,Thiruvananthapuram, India,32\\r\\n2140,female,\"5\\'6\"\"\",,others,Hindi,Managers and Senior Executives,Gurgaon, India,34\\r\\n2141,male,\"5\\'8\"\"\",Hindu, Saini,Hindi,Admin Professional,Sonepat, India,29\\r\\n2142,female,,,others,,,, Malaysia,35\\r\\n2143,female,\"5\\'0\"\"\",,,Hindi,Medical / Healthcare Professional (Others),Shahjahanpur, India,30\\r\\n2144,male,\"5\\'7\"\"\",,others,Tamil,Hardware & Networking professional,Chennai, India,31\\r\\n2145,male,\"5\\'3\"\"\",,others,Telugu,,Medak, India,24\\r\\n2146,male,\"5\\'9\"\"\",,,,,Gondiya, India,28\\r\\n2147,male,\"5\\'7\"\"\",,others,Malayalam,Mariner,Kondotty, India,29\\r\\n2148,male,\"6\\'1\"\"\",Hindu, Balija,Telugu,Software Professional (Others),Coventry, United Kingdom,29\\r\\n2149,female,\"5\\'0\"\"\",Hindu, Sahu,Hindi,Not Specified,Indore, India,26\\r\\n2150,female,\"5\\'0\"\"\",,others,Telugu,,Anantapur, India,24\\r\\n2151,male,\"5\\'9\"\"\",Hindu, Brahmin,Bengali,Software Professional,Kolkata, India,32\\r\\n2152,female,\"5\\'2\"\"\",,others,,,Bengaluru / Bangalore, India,28\\r\\n2153,female,\"4\\'7\"\"\",Hindu, Agri,Aka,Not Specified,Begusarai, India,27\\r\\n2154,male,\"5\\'8\"\"\",Christian, Marthoma,Malayalam,Software Consultant,Jersey City- NJ, USA,32\\r\\n2155,female,\"5\\'2\"\"\",,others,Bengali,Student,Midnapore, India,28\\r\\n2156,male,\"5\\'7\"\"\",Christian, Marthoma,English,Software Consultant,London, United Kingdom,32\\r\\n2157,female,\"5\\'2\"\"\",Hindu, Thakur,Hindi,Not Specified,Lucknow, India,27\\r\\n2158,male,\"6\\'0\"\"\",Sikh, Ramdasia,Punjabi,Managers and Senior Executives,Delhi, India,30\\r\\n2159,female,\"5\\'4\"\"\",Hindu, Baidya,Bengali,Not working,Kolkata, India,29\\r\\n2160,male,\"4\\'5\"\"\",Hindu, Ahom,Assamese,Not Specified,Sibsagar, India,28\\r\\n2161,male,\"5\\'10\"\"\",,others,,,Pune, India,30\\r\\n2162,female,\"5\\'5\"\"\",Hindu, Kayastha,Bengali,Not working,Delhi, India,34\\r\\n2163,female,\"5\\'7\"\"\",Hindu, Bhatia,Punjabi,Finance Professional,Pune, India,31\\r\\n2164,female,,,,,,, USA,30\\r\\n2165,male,\"5\\'7\"\"\",Hindu, Brahmin,Bengali,Managers and Senior Executives,Panaji, India,32\\r\\n2166,male,\"6\\'1\"\"\",Hindu, Brahmin,Gujarati,Not Specified,Surat, India,32\\r\\n2167,female,\"5\\'5\"\"\",,others,Kannada,,, India,26\\r\\n2168,male,\"5\\'9\"\"\",Sikh, Gursikh,Punjabi,Doctor / Healthcare Professional,Chandigarh, India,32\\r\\n2169,female,\"4\\'9\"\"\",Hindu, Balija,Telugu,Not Specified,Bengaluru / Bangalore, India,29\\r\\n2170,male,\"5\\'7\"\"\",Hindu, Baniya,Hindi,Software Professional,Seattle- WA, USA,35\\r\\n2171,male,\"5\\'8\"\"\",Hindu, Vaishnav,Gujarati,Mechanical / Production Engineer,Fayetteville- NC, USA,31\\r\\n2172,male,\"5\\'10\"\"\",Sikh, Kshatriya,Punjabi,Sales Professional / Marketing,Jabalpur, India,33\\r\\n2173,male,\"5\\'5\"\"\",Hindu, Lingayath,Telugu,Software Professional,Ramachandrapuram(Medak), India,32\\r\\n2174,female,\"5\\'5\"\"\",Hindu, Brahmin,Bengali,Dentist,Kolkata, India,29\\r\\n2175,female,\"5\\'0\"\"\",Muslim, Memon,English,Not Specified,Durban, South Africa,28\\r\\n2176,male,\"5\\'6\"\"\",Hindu, Kalita,Assamese,Mechanical / Production Engineer,Guwahati, India,28\\r\\n2177,male,\"5\\'6\"\"\",,others,Hindi,,, India,28\\r\\n2178,male,\"5\\'0\"\"\",,others,,,Hassan, India,27\\r\\n2179,female,\"5\\'5\"\"\",Hindu, Sindhi-Sakkhar,Sindhi,Accounting Professional (Others),Mumbai, India,28\\r\\n2180,female,\"5\\'6\"\"\",,others,Malayalam,Not Specified,Al Batinah, Oman,25\\r\\n2181,female,\"5\\'0\"\"\",,others,Sindhi,,, United Arab Emirates,30\\r\\n2182,female,\"5\\'5\"\"\",Sikh, Gursikh,Punjabi,Marketing Professional,Delhi, India,31\\r\\n2183,male,\"4\\'5\"\"\",Hindu, Baidya,Bengali,Not working,Malda, India,30\\r\\n2184,male,\"5\\'9\"\"\",,others,,,, India,34\\r\\n2185,female,\"5\\'2\"\"\",Hindu, Lingayath,Marathi,Not working,Pune, India,29\\r\\n2186,female,\"5\\'3\"\"\",Hindu, Kaibarta,Odia,Not working,Dhenkanal, India,27\\r\\n2187,male,\"5\\'11\"\"\",Hindu, Patel,Gujarati,Entrepreneurs / Business ,Savannah- GA, USA,33\\r\\n2188,male,\"5\\'1\"\"\",,,Tamil,,Erode, India,30\\r\\n2189,male,\"5\\'11\"\"\",Hindu, Brahmin,Telugu,Software Professional (Others),Bellevue- WA, USA,30\\r\\n2190,female,\"5\\'2\"\"\",Hindu, Scheduled Caste (SC),Kannada,Admin Professional,Mumbai, India,31\\r\\n2191,male,\"6\\'0\"\"\",Hindu, Brahmin,Marathi,Not Specified,Mumbai, India,32\\r\\n2192,male,\"5\\'0\"\"\",,others,Tamil,Not Specified,Chennai, India,25\\r\\n2193,female,\"5\\'4\"\"\",Hindu, Balija,Telugu,Teacher,Amalapuram, India,29\\r\\n2194,male,\"5\\'7\"\"\",Hindu, Arora,Hindi,Marketing Professional,Moradabad, India,34\\r\\n2195,male,\"5\\'6\"\"\",Hindu, Sahu,Hindi,Finance Professional,Janjgir, India,30\\r\\n2196,female,\"5\\'8\"\"\",Hindu, Kalita,Assamese,Electronics / Telecom Engineer,Maharashtra, India,30\\r\\n2197,male,\"5\\'4\"\"\",,,Marathi,Not Specified,Mumbai, India,29\\r\\n2198,male,\"5\\'6\"\"\",Hindu, Valmiki,Hindi,Not Specified,Delhi, India,31\\r\\n2199,male,\"5\\'10\"\"\",,others,Bengali,Agricultural Professional (Others),West Bengal, India,34\\r\\n2200,male,\"5\\'7\"\"\",Hindu, Ahom,Assamese,Managers and Senior Executives,Jorhat, India,29\\r\\n2201,male,\"5\\'11\"\"\",Hindu, Saini,Hindi,Event Manager,Sydney, Australia,32\\r\\n2202,male,\"5\\'5\"\"\",,,Telugu,,Mahbubnagar, India,26\\r\\n2203,male,\"5\\'8\"\"\",Muslim, Memon,Assamese,Not working,Mumbai, India,26\\r\\n2204,male,\"5\\'8\"\"\",Hindu, Kayastha,Bengali,Marketing Professional,Mumbai, India,34\\r\\n2205,male,\"5\\'7\"\"\",Hindu, Brahmin,Bengali,Software Professional,Pune, India,30\\r\\n2206,male,\"5\\'7\"\"\",Hindu, Bhandari,Marathi,Sportsman,Mumbai, India,30\\r\\n2207,female,\"5\\'3\"\"\",,others,Telugu,,Eluru, India,22\\r\\n2208,male,,,,,Software Consultant,, India,30\\r\\n2209,male,\"4\\'5\"\"\",Hindu, Baishya,Bengali,Beautician,Chittoor, India,29\\r\\n2210,male,\"5\\'6\"\"\",Hindu, Agri,Marathi,Not Specified,Pune, India,29\\r\\n2211,male,\"5\\'11\"\"\",Hindu, Arya Vysya,Marathi,Mechanical / Production Engineer,Bay Shore- NY, USA,28\\r\\n2212,female,\"5\\'2\"\"\",Hindu, Kaibarta,Odia,Not working,Baleshwar, India,26\\r\\n2213,female,\"5\\'3\"\"\",Hindu, Sindhi-Sakkhar,Sindhi,Not Specified,Delhi, India,28\\r\\n2214,female,\"5\\'5\"\"\",Sikh, Ramdasia,Punjabi,Teacher,Hoshiarpur, India,32\\r\\n2215,male,\"5\\'5\"\"\",Hindu, Patel,Gujarati,Mechanical / Production Engineer,Anand, India,32\\r\\n2216,male,\"5\\'7\"\"\",Hindu, Goud,Odia,Mechanical / Production Engineer,Baleshwar, India,31\\r\\n2217,male,\"5\\'10\"\"\",Hindu, Kshatriya,Hindi,Hotel & Hospitality Professional (Others),Mumbai, India,30\\r\\n2218,male,\"5\\'4\"\"\",,,Telugu,,Hyderabad, India,29\\r\\n2219,female,\"5\\'0\"\"\",Hindu, Thakur,Hindi,Not working,Unnao, India,27\\r\\n2220,male,\"5\\'8\"\"\",Sikh, Gursikh,Punjabi,Software Professional (Others),Jammu, India,31\\r\\n2221,female,\"5\\'0\"\"\",,others,Bengali,Legal Professional (Others),West Bengal, India,26\\r\\n2222,male,\"5\\'6\"\"\",Hindu, Brahmin,Marathi,Consultant / Supervisor / Team Leads,Mumbai, India,32\\r\\n2223,,\"4\\'6\"\"\",,others,Hindi,,Sitamarhi, India,21\\r\\n2224,male,\"5\\'8\"\"\",Hindu, Baishya,Bengali,Sales Professional / Marketing,Alipore, India,29\\r\\n2225,male,\"6\\'0\"\"\",,others,Tamil,Not Specified,Coimbatore, India,32\\r\\n2226,female,\"5\\'1\"\"\",Hindu, Arora,Hindi,Training Professional (Others),Delhi, India,34\\r\\n2227,male,\"5\\'9\"\"\",,others,Tamil,Software Professional,Chennai, India,30\\r\\n2228,female,\"5\\'5\"\"\",,others,Malayalam,Not Specified,Abu Dhabi, United Arab Emirates,20\\r\\n2229,male,\"5\\'8\"\"\",,others,Bengali,Non IT Engineer (Others),Kolkata, India,33\\r\\n2230,male,,,,,Finance Professional,, India,35\\r\\n2231,male,\"5\\'6\"\"\",Jain, Shwetamber,Marwari,Finance Professional,Pune, India,35\\r\\n2232,male,\"5\\'10\"\"\",Hindu, Arya Vysya,Telugu,Not Specified,Seattle- WA, USA,31\\r\\n2233,female,\"4\\'6\"\"\",Hindu, Baishnab,Bengali,Not Specified,Gujarat, India,26\\r\\n2234,female,\"5\\'4\"\"\",Christian, Marthoma,Malayalam,Physician Assistant,New York- NY, USA,32\\r\\n2235,male,\"5\\'5\"\"\",Hindu, Balija,Telugu,Event Manager,Rajgarh, India,30\\r\\n2236,female,\"5\\'7\"\"\",Hindu, Panchal,Gujarati,Not Specified,Jaipur, India,27\\r\\n2237,female,\"5\\'5\"\"\",,,,,, India,27\\r\\n2238,female,\"5\\'1\"\"\",Hindu, Kshatriya,Hindi,Not working,Delhi, India,30\\r\\n2239,male,\"5\\'8\"\"\",Sikh, Khatri,Punjabi,Banking Professional,Amritsar, India,32\\r\\n2240,male,\"5\\'7\"\"\",Sikh, Ramdasia,Punjabi,Sportsman,Ludhiana, India,30\\r\\n2241,male,\"5\\'6\"\"\",Muslim, Memon,Urdu,Non IT Engineer (Others),Abu Dhabi, United Arab Emirates,28\\r\\n2242,female,\"5\\'3\"\"\",,others,,,, India,31\\r\\n2243,female,\"5\\'3\"\"\",Hindu, Lingayath,Marathi,Not working,Solapur, India,30\\r\\n2244,female,\"4\\'5\"\"\",Hindu, Balija,Hindi,Not Specified,Bihar Sharif, India,26\\r\\n2245,male,\"5\\'7\"\"\",Hindu, Kshatriya,Hindi,Managers and Senior Executives,Old Bridge- NJ, USA,31\\r\\n2246,male,\"5\\'8\"\"\",Hindu, Baniya,Hindi,Training Professional (Others),Haridwar, India,32\\r\\n2247,male,\"5\\'10\"\"\",Hindu, Brahmin,Marathi,Mechanical / Production Engineer,Pune, India,33\\r\\n2248,female,\"5\\'2\"\"\",Hindu, Thakur,Hindi,Teacher,Lucknow, India,30\\r\\n2249,female,\"5\\'0\"\"\",Hindu, Rajput - Lodhi,Hindi,Banking Professional,Meerut, India,30\\r\\n2250,female,\"5\\'11\"\"\",Hindu, Agri,Bengali,Not Specified,Barasat, India,29\\r\\n2251,male,\"5\\'7\"\"\",Hindu, Arora,Hindi,Investment Professional,Muktsar, India,33\\r\\n2252,male,\"5\\'5\"\"\",,others,Kannada,Accounting Professional (Others),Bengaluru / Bangalore, India,27\\r\\n2253,female,\"5\\'4\"\"\",Hindu, Brahmin,Hindi,Teacher,Durg, India,28\\r\\n2254,male,\"5\\'5\"\"\",Jain, Shwetamber,Gujarati,Marketing Professional,Surat, India,34\\r\\n2255,female,\"5\\'3\"\"\",Hindu, Ahom,Assamese,Teacher,Guwahati, India,28\\r\\n2256,female,\"4\\'6\"\"\",,,Hindi,Not working,Mandla, India,26\\r\\n2257,male,\"5\\'4\"\"\",Hindu, Brahmin,Bengali,Not Specified,Dhaka, Bangladesh,30\\r\\n2258,,,,others,Bengali,Agricultural Professional (Others),Jalpaiguri, India,29\\r\\n2259,male,\"5\\'3\"\"\",Hindu, Billava,Tulu,Consultant / Supervisor / Team Leads,Udupi, India,31\\r\\n2260,female,\"5\\'8\"\"\",Hindu, Brahmin,Bengali,Finance Professional,Kolkata, India,29\\r\\n2261,male,\"6\\'0\"\"\",Hindu, Brahmin,Bengali,Software Professional,Pune, India,30\\r\\n2262,male,\"5\\'8\"\"\",Hindu, OBC - Barber/Naayee,Hindi,Banking Professional,Vidisha, India,27\\r\\n2263,male,\"5\\'4\"\"\",Hindu, Bhandari,Marathi,Software Consultant,Mumbai, India,30\\r\\n2264,female,\"5\\'10\"\"\",Sikh, Ramdasia,Punjabi,Writer,Ludhiana, India,30\\r\\n2265,female,\"5\\'1\"\"\",,,Malayalam,Software Professional (Others),Chennai, India,33\\r\\n2266,male,\"5\\'5\"\"\",Sikh, Kshatriya,Punjabi,Marketing Professional,Ludhiana, India,31\\r\\n2267,male,\"5\\'9\"\"\",Hindu, Valmiki,Hindi,Accounting Professional (Others),Parbhani, India,28\\r\\n2268,female,\"5\\'3\"\"\",Hindu, Kayastha,Bengali,Software Professional (Others),Kolkata, India,33\\r\\n2269,male,\"5\\'9\"\"\",Christian, Roman Catholic,Tamil,Designer (Others),Chennai, India,32\\r\\n2270,female,\"5\\'3\"\"\",Hindu, Goud,Odia,Not working,Jharsuguda, India,27\\r\\n2271,male,\"5\\'6\"\"\",Hindu, Arora,Hindi,Software Professional (Others),Delhi, India,34\\r\\n2272,female,\"5\\'2\"\"\",Hindu, Vaishnav,Gujarati,Chartered Accountant,Mumbai, India,28\\r\\n2273,female,\"5\\'4\"\"\",Jain, Shwetamber,Hindi,Electronics / Telecom Engineer,Delhi, India,35\\r\\n2274,female,\"5\\'2\"\"\",Hindu, Viswabrahmin,Telugu,Not working,Hyderabad, India,29\\r\\n2275,female,\"5\\'2\"\"\",,,,,, United Arab Emirates,31\\r\\n2276,male,\"5\\'6\"\"\",Hindu, Lingayath,Kannada,Not Specified,Bengaluru / Bangalore, India,33\\r\\n2277,male,\"5\\'5\"\"\",Hindu, Lingayath,Kannada,Customer Support / BPO / KPO Professional,Kolhapur, India,33\\r\\n2278,male,\"5\\'4\"\"\",Hindu, Arya Vysya,Telugu,Entrepreneurs / Business ,Kandukur, India,30\\r\\n2279,male,\"5\\'6\"\"\",,others,,,, India,27\\r\\n2280,female,\"5\\'2\"\"\",,,,Teacher,Pali, India,30\\r\\n2281,male,\"5\\'5\"\"\",,others,Sindhi,,, United Arab Emirates,30\\r\\n2282,male,\"5\\'7\"\"\",,others,,,Nashik, India,35\\r\\n2283,female,\"5\\'7\"\"\",Hindu, Patel,Gujarati,Student,Sterling Heights- MI, USA,30\\r\\n2284,male,\"5\\'9\"\"\",Hindu, Thakur,Hindi,Entrepreneurs / Business ,Dubai, United Arab Emirates,30\\r\\n2285,male,\"5\\'9\"\"\",Hindu, OBC - Barber/Naayee,Kannada,Software Professional (Others),Davanagere, India,28\\r\\n2286,male,\"5\\'8\"\"\",Hindu, Brahmin,Marathi,Not Specified,Pune, India,32\\r\\n2287,male,\"5\\'2\"\"\",,others,Tamil,Not Specified,Thiruvananthapuram, India,28\\r\\n2288,female,\"5\\'5\"\"\",Hindu, Sahu,Hindi,Not working,Dhamtari, India,28\\r\\n2289,female,\"5\\'1\"\"\",Hindu, Baniya,Hindi,HR Professional,Delhi, India,36\\r\\n2290,female,\"5\\'4\"\"\",Hindu, Brahmin,Telugu,Doctor / Healthcare Professional,Warangal, India,31\\r\\n2291,female,\"5\\'1\"\"\",Hindu, Baishnab,Bengali,Banking Professional,Kolkata, India,26\\r\\n2292,male,\"6\\'0\"\"\",Sikh, Khatri,Punjabi,Merchant Naval Officer,Gurgaon, India,30\\r\\n2293,male,\"5\\'3\"\"\",Hindu, Vanniyar,Tamil,Not Specified,Chennai, India,31\\r\\n2294,male,\"5\\'7\"\"\",Hindu, Kayastha,Bengali,Admin Professional,Howra, India,32\\r\\n2295,female,\"5\\'5\"\"\",Hindu, Balija,Telugu,Company Secretary,Bengaluru / Bangalore, India,26\\r\\n2296,female,\"5\\'5\"\"\",Christian, Roman Catholic,Tamil,HR Professional,Bengaluru / Bangalore, India,30\\r\\n2297,male,\"5\\'10\"\"\",Hindu, Brahmin,Marathi,Managers and Senior Executives,Mumbai, India,31\\r\\n2298,female,\"4\\'5\"\"\",,others,Telugu,,Hyderabad, India,25\\r\\n2299,female,\"5\\'8\"\"\",Hindu, Brahmin,Hindi,Physician Assistant,Lakhisarai, India,30\\r\\n2300,female,\"5\\'1\"\"\",Sikh, Kshatriya,Punjabi,Teacher,Pune, India,29\\r\\n2301,male,\"5\\'7\"\"\",Hindu, Arya Vysya,Telugu,Software Professional (Others),Bengaluru / Bangalore, India,28\\r\\n2302,female,\"5\\'4\"\"\",,others,Malayalam,Commercial Artist,Thiruvananthapuram, India,30\\r\\n2303,female,\"5\\'0\"\"\",Hindu, Brahmin,Kannada,Software Professional,Berlin, Germany,28\\r\\n2304,male,,,others,Hindi,,, India,28\\r\\n2305,female,\"5\\'2\"\"\",,others,Telugu,,Guntur,,25\\r\\n2306,male,\"5\\'7\"\"\",,others,Telugu,,Hyderabad, India,29\\r\\n2307,male,\"5\\'5\"\"\",Hindu, Baishnab,Bengali,Not Specified,Bengaluru / Bangalore, India,27\\r\\n2308,male,\"5\\'9\"\"\",,,,Civil Engineer,, India,28\\r\\n2309,female,\"5\\'5\"\"\",Sikh, Kshatriya,Punjabi,Student,Delhi, India,32\\r\\n2310,female,\"5\\'0\"\"\",Hindu, OBC - Barber/Naayee,English,Doctor / Healthcare Professional,Saharanpur, India,28\\r\\n2311,female,\"5\\'9\"\"\",Hindu, Vaishnav,Gujarati,Teacher,Jamnagar, India,29\\r\\n2312,female,\"5\\'6\"\"\",Hindu, Thakur,Hindi,Not working,Lucknow, India,30\\r\\n2313,male,\"5\\'7\"\"\",Hindu, Balija,Telugu,Event Manager,Pune, India,28\\r\\n2314,male,\"5\\'6\"\"\",Christian, Marthoma,Malayalam,Managers and Senior Executives,Bengaluru / Bangalore, India,33\\r\\n2315,male,\"5\\'6\"\"\",Hindu, Sindhi-Sakkhar,Sindhi,Not Specified,Nandurbar, India,29\\r\\n2316,female,\"5\\'8\"\"\",Christian, Roman Catholic,Hindi,Software Consultant,Delhi, India,32\\r\\n2317,female,\"7\\'0\"\"\",Hindu, Brahmin,Tamil,Not Specified,Bengaluru / Bangalore, India,29\\r\\n2318,male,\"5\\'8\"\"\",Christian, Born Again,English,Non IT Engineer (Others),Bengaluru / Bangalore, India,30\\r\\n2319,female,\"5\\'2\"\"\",,,Kannada,,, India,28\\r\\n2320,male,\"5\\'6\"\"\",Hindu, Ahom,Assamese,Not Specified,Dibrugarh, India,29\\r\\n2321,female,\"5\\'1\"\"\",Hindu, Kaibarta,Odia,HR Professional,Bhubaneswar, India,29\\r\\n2322,female,\"5\\'0\"\"\",Hindu, Brahmin,Marathi,Banking Professional,Mumbai, India,28\\r\\n2323,male,\"5\\'5\"\"\",Hindu, Bhandari,Marathi,Investment Professional,Mumbai, India,33\\r\\n2324,female,\"5\\'0\"\"\",Christian, Marthoma,Malayalam,Research Scholar,Canberra, Australia,29\\r\\n2325,male,\"6\\'0\"\"\",Hindu, Bhatia,Sindhi,HR Professional,Raipur, India,27\\r\\n2326,male,\"5\\'7\"\"\",Hindu, Sindhi-Sakkhar,Sindhi,Not Specified,Uttaranchal, India,30\\r\\n2327,male,\"5\\'6\"\"\",Christian, Roman Catholic,Hindi,Fashion Designer,Mumbai, India,30\\r\\n2328,male,\"5\\'5\"\"\",,others,Hindi,,, India,23\\r\\n2329,male,\"5\\'6\"\"\",,others,Telugu,,Hyderabad, India,34\\r\\n2330,female,\"5\\'0\"\"\",Hindu, Viswabrahmin,Telugu,Accounting Professional (Others),Nalgonda, India,26\\r\\n2331,,,,others,Bengali,Teacher,Kolkata, India,28\\r\\n2332,female,\"5\\'2\"\"\",Hindu, Lingayath,Kannada,Software Professional (Others),Bengaluru / Bangalore, India,31\\r\\n2333,female,\"4\\'11\"\"\",Hindu, Brahmin,Marathi,Not Specified,Belagavi / Belagaum, India,28\\r\\n2334,male,\"5\\'7\"\"\",Hindu, Bhatia,Hindi,Not Specified,Una, India,28\\r\\n2335,female,\"5\\'3\"\"\",Hindu, Arora,Hindi,Managers and Senior Executives,Melbourne, Australia,34\\r\\n2336,male,\"5\\'7\"\"\",Sikh, Ramdasia,Punjabi,Mechanical / Production Engineer,Ludhiana, India,29\\r\\n2337,female,\"5\\'3\"\"\",Hindu, Vaishnav,Gujarati,Interior Designer,Jersey City- NJ, USA,29\\r\\n2338,female,\"4\\'10\"\"\",,others,Tamil,,Kelang, Malaysia,29\\r\\n2339,female,\"5\\'4\"\"\",Hindu, Arya Vysya,Telugu,Not working,Visakhapatnam, India,27\\r\\n2340,female,\"5\\'6\"\"\",Hindu, Baniya,Hindi,Admin Professional,Delhi, India,34\\r\\n2341,male,\"5\\'6\"\"\",Hindu, Baishnab,Bengali,Interior Designer,Asansol, India,28\\r\\n2342,female,\"5\\'7\"\"\",Hindu, Vanniyar,Tamil,Software Professional,Salem, India,29\\r\\n2343,female,,,others,Hindi,,, India,29\\r\\n2344,female,\"4\\'5\"\"\",Hindu, Baidya,Bengali,Not working,Jaipur, India,28\\r\\n2345,female,\"5\\'0\"\"\",Hindu, Brahmin,Marathi,Accounting Professional (Others),Kolhapur, India,28\\r\\n2346,male,\"5\\'11\"\"\",Hindu, Brahmin,Telugu,Teacher,Kamareddy, India,32\\r\\n2347,male,\"5\\'10\"\"\",,,Malayalam,,Kochi, India,28\\r\\n2348,female,\"5\\'2\"\"\",Hindu, Vanniyar,Tamil,Not Specified,Salem, India,28\\r\\n2349,female,\"5\\'3\"\"\",Christian, Born Again,Marathi,Student,Pune, India,31\\r\\n2350,male,\"5\\'11\"\"\",,others,Bengali,Medical / Healthcare Professional (Others),West Bengal, India,26\\r\\n2351,female,\"5\\'3\"\"\",,,Sindhi,,, India,33\\r\\n2352,male,\"5\\'8\"\"\",Hindu, Brahmin,Marathi,Software Professional (Others),Pune, India,31\\r\\n2353,female,\"5\\'2\"\"\",Hindu, Brahmin,Marathi,Finance Professional,Dallas- TX, USA,29\\r\\n2354,male,\"6\\'0\"\"\",Sikh, Khatri,Punjabi,Managers and Senior Executives,Delhi, India,30\\r\\n2355,male,\"5\\'9\"\"\",Sikh, Ramdasia,Punjabi,Not Specified,Sangrur, India,31\\r\\n2356,male,\"5\\'11\"\"\",,others,Hindi,,, India,\\r\\n2357,male,\"5\\'7\"\"\",,others,Tamil,Accounting Professional (Others),Salem, India,34\\r\\n2358,male,\"5\\'2\"\"\",Hindu, Rajput - Lodhi,Hindi,Entrepreneurs / Business ,Noida, India,30\\r\\n2359,male,\"5\\'9\"\"\",,others,Malayalam,HR Professional,Kollam, India,24\\r\\n2360,male,\"6\\'0\"\"\",Hindu, Thakur,Hindi,Team Member / Staff,Bhopal, India,28\\r\\n2361,male,\"5\\'5\"\"\",Hindu, Panchal,Gujarati,Mechanical / Production Engineer,Vadodara, India,29\\r\\n2362,female,\"5\\'0\"\"\",Hindu, Brahmin,Marathi,Finance Professional,Uttar Pradesh, India,28\\r\\n2363,male,\"5\\'8\"\"\",,others,Bengali,Teacher,Bardhaman, India,26\\r\\n2364,male,\"5\\'10\"\"\",,others,Marathi,Team Member / Staff,Mumbai, India,\\r\\n2365,female,\"5\\'6\"\"\",Hindu, Brahmin,Gujarati,Software Professional,Auckland, New Zealand,31\\r\\n2366,male,\"5\\'7\"\"\",Hindu, Agarwal,Marwari,Managers and Senior Executives,Bhagalpur, India,32\\r\\n2367,male,\"5\\'8\"\"\",Hindu, Patel,Gujarati,Not Specified,Surat, India,31\\r\\n2368,female,\"4\\'11\"\"\",Hindu, Agri,Marathi,Not Specified,Mumbai, India,28\\r\\n2369,male,\"4\\'5\"\"\",,others,Hindi,Banking Professional,Madhubani, India,22\\r\\n2370,female,\"5\\'0\"\"\",Hindu, Agarwal,Punjabi,Not Specified,Patiala, India,29\\r\\n2371,female,\"5\\'3\"\"\",Hindu, Baishnab,Bengali,HR Professional,Singapore, Singapore,25\\r\\n2372,male,\"5\\'1\"\"\",,others,Telugu,,Samalkota, India,27\\r\\n2373,female,\"5\\'3\"\"\",Sikh, Ramdasia,Punjabi,Not working,Ludhiana, India,30\\r\\n2374,female,\"5\\'2\"\"\",Hindu, Brahmin,Marathi,Admin Professional,Pune, India,31\\r\\n2375,male,\"5\\'10\"\"\",Hindu, Kaibarta,Assamese,Farming,Dispur, India,28\\r\\n2376,female,\"5\\'3\"\"\",Hindu, Agri,Marathi,Teacher,Mumbai, India,28\\r\\n2377,female,\"5\\'0\"\"\",Hindu, Billava,Tulu,Banking Professional,Mangaluru / Mangalore, India,30\\r\\n2378,female,\"5\\'4\"\"\",Hindu, Baishya,Bengali,HR Professional,Gurgaon, India,27\\r\\n2379,female,,,,,,, India,35\\r\\n2380,male,\"5\\'3\"\"\",Hindu, Baishnab,Assamese,Sales Professional / Marketing,Assam, India,27\\r\\n2381,female,\"5\\'3\"\"\",Hindu, Thakur,Hindi,Software Professional,Noida, India,28\\r\\n2382,male,\"5\\'7\"\"\",Hindu, OBC - Barber/Naayee,Gujarati,Software Professional,Sydney, Australia,27\\r\\n2383,female,\"5\\'0\"\"\",,,,,Mumbai, India,25\\r\\n2384,female,\"5\\'3\"\"\",,others,,,, India,28\\r\\n2385,female,\"5\\'4\"\"\",,others,Odia,,, India,\\r\\n2386,male,\"5\\'3\"\"\",Jain, Shwetamber,Marwari,Entrepreneurs / Business ,Mumbai, India,32\\r\\n2387,male,\"5\\'11\"\"\",Sikh, Ramdasia,Punjabi,Mechanical / Production Engineer,Punjab, India,29\\r\\n2388,male,\"5\\'9\"\"\",Hindu, Baniya,Punjabi,Software Professional (Others),Chandigarh, India,33\\r\\n2389,male,\"5\\'10\"\"\",Hindu, Billava,Kannada,Electronics / Telecom Engineer,Bengaluru / Bangalore, India,29\\r\\n2390,male,\"5\\'10\"\"\",Hindu, Brahmin,Gujarati,Accounting Professional (Others),Ahmedabad, India,31\\r\\n2391,male,\"5\\'8\"\"\",Hindu, Lingayath,Kannada,Agricultural Professional (Others),Shivamogga, India,33\\r\\n2392,male,\"5\\'6\"\"\",Hindu, Arya Vysya,Telugu,Legal Professional (Others),Hyderabad, India,30\\r\\n2393,female,\"4\\'5\"\"\",Hindu, Brahmin,Gujarati,Admin Professional,Rajkot, India,28\\r\\n2394,female,\"5\\'3\"\"\",Hindu, Brahmin,Telugu,Software Professional,Rockville- MD, USA,29\\r\\n2395,female,\"5\\'4\"\"\",Hindu, Kaibarta,Odia,Banking Professional,Cuttack, India,26\\r\\n2396,female,\"5\\'4\"\"\",Hindu, Goud,Odia,Not Specified,Kolkata, India,26\\r\\n2397,female,\"5\\'4\"\"\",Hindu, Billava,Kannada,Software Professional,Bengaluru / Bangalore, India,32\\r\\n2398,male,\"5\\'9\"\"\",Hindu, Baniya,Hindi,Non IT Engineer (Others),Portland- OR, USA,34\\r\\n2399,male,\"6\\'0\"\"\",,others,Tamil,,Coimbatore, India,21\\r\\n2400,male,\"5\\'11\"\"\",Hindu, Baniya,Hindi,Managers and Senior Executives,Dehradun, India,32\\r\\n2401,male,\"5\\'8\"\"\",Hindu, Baishnab,Bengali,Not Specified,Midnapore, India,27\\r\\n2402,male,\"5\\'4\"\"\",Hindu, OBC - Barber/Naayee,Hindi,Mariner,Ballia, India,28\\r\\n2403,female,\"4\\'6\"\"\",,others,Malayalam,,Kozhikode, India,35\\r\\n2404,female,\"5\\'3\"\"\",Hindu, Bhandari,Marathi,Admin Professional,Mumbai, India,30\\r\\n2405,female,\"4\\'11\"\"\",Hindu, Patel,Gujarati,Accounting Professional (Others),Vadodara, India,28\\r\\n2406,male,,,others,Hindi,Not Specified,, India,21\\r\\n2407,male,\"5\\'9\"\"\",,,Malayalam,VP / AVP / GM / DGM,Chennai, India,35\\r\\n2408,male,\"5\\'11\"\"\",Sikh, Gursikh,Punjabi,Mechanical / Production Engineer,Amritsar, India,33\\r\\n2409,male,\"5\\'9\"\"\",,,,,Jodhpur, India,32\\r\\n2410,male,\"5\\'3\"\"\",,others,Marathi,,Mumbai, India,35\\r\\n2411,female,,,others,Telugu,Electronics / Telecom Engineer,Hyderabad, India,24\\r\\n2412,female,\"5\\'1\"\"\",,,Kannada,,Kundapura, India,26\\r\\n2413,female,\"5\\'2\"\"\",Hindu, Brahmin,Telugu,Software Professional (Others),Bengaluru / Bangalore, India,30\\r\\n2414,female,\"5\\'0\"\"\",Hindu, Vanniyar,Tamil,Civil Engineer,Viluppuram, India,27\\r\\n2415,male,\"6\\'4\"\"\",Hindu, Saini,Hindi,Managers and Senior Executives,Delhi, India,29\\r\\n2416,male,\"5\\'10\"\"\",Christian, Roman Catholic,English,Finance Professional,Victoria, Canada,32\\r\\n2417,male,\"5\\'6\"\"\",Hindu, Balija,Telugu,Marketing Professional,Chennai, India,29\\r\\n2418,male,\"5\\'9\"\"\",,others,Gujarati,Software Professional (Others),Toronto, Canada,35\\r\\n2419,female,\"5\\'1\"\"\",Hindu, Rajput - Lodhi,Hindi,Not working,Bulandshahr, India,29\\r\\n2420,female,\"5\\'0\"\"\",Hindu, Panchal,Gujarati,HR Professional,Ahmedabad, India,29\\r\\n2421,female,\"5\\'10\"\"\",,others,Telugu,,Mumbai, India,32\\r\\n2422,male,\"5\\'8\"\"\",,others,Bengali,CxO / Chairman / Director / President,West Bengal, India,28\\r\\n2423,male,\"5\\'11\"\"\",Hindu, Scheduled Caste (SC),Hindi,Managers and Senior Executives,Bengaluru / Bangalore, India,33\\r\\n2424,male,\"5\\'2\"\"\",Hindu, Bhandari,Marathi,Lawyer,Raigad, India,30\\r\\n2425,male,\"5\\'11\"\"\",Hindu, Brahmin,Marathi,Non IT Engineer (Others),Ontario, Canada,33\\r\\n2426,female,\"5\\'0\"\"\",Hindu, Kalita,Assamese,Not working,Jorhat, India,27\\r\\n2427,female,\"5\\'3\"\"\",Christian, Born Again,Telugu,Company Secretary,Kakinada, India,32\\r\\n2428,male,\"5\\'5\"\"\",Hindu, OBC - Barber/Naayee,Bengali,Investment Professional,Malda, India,27\\r\\n2429,male,\"5\\'4\"\"\",Hindu, Baidya,Bengali,Doctor / Healthcare Professional,Kolkata, India,27\\r\\n2430,male,\"5\\'5\"\"\",Hindu, Agarwal,Punjabi,Entrepreneurs / Business ,Sangrur, India,30\\r\\n2431,female,\"5\\'2\"\"\",Hindu, Kayastha,Bengali,Not working,Siliguri, India,31\\r\\n2432,female,\"5\\'3\"\"\",,others,Hindi,Consultant / Supervisor / Team Leads,Bengaluru / Bangalore, India,\\r\\n2433,female,\"5\\'0\"\"\",,others,Bengali,Not Specified,Guwahati, India,29\\r\\n2434,female,\"4\\'7\"\"\",Hindu, Baishya,Assamese,Not Specified,Buhasa, United Arab Emirates,29\\r\\n2435,female,\"5\\'3\"\"\",Hindu, Brahmin,Marathi,Admin Professional,Satara, India,28\\r\\n2436,female,\"5\\'4\"\"\",Hindu, Agri,Marathi,Marketing Professional,Mumbai, India,30\\r\\n2437,female,\"5\\'5\"\"\",Hindu, Kshatriya,Hindi,Not working,Kolkata, India,31\\r\\n2438,female,\"5\\'6\"\"\",,others,Telugu,,Kakinada,,24\\r\\n2439,male,\"5\\'10\"\"\",Hindu, Kshatriya,Hindi,VP / AVP / GM / DGM,New York- NY, USA,32\\r\\n2440,female,\"5\\'3\"\"\",Hindu, Patel,Gujarati,Medical / Healthcare Professional (Others),Sydney, Australia,29\\r\\n2441,male,\"5\\'8\"\"\",Hindu, Viswabrahmin,Telugu,Finance Professional,Srikakulam, India,28\\r\\n2442,female,,,others,,,Malappuram, India,30\\r\\n2443,female,\"5\\'4\"\"\",Hindu, Lingayath,Kannada,Software Professional,Bengaluru / Bangalore, India,31\\r\\n2444,male,\"5\\'7\"\"\",Hindu, Saini,Hindi,Non IT Engineer (Others),Gurgaon, India,31\\r\\n2445,male,\"4\\'6\"\"\",Christian, Born Again,English,Admin Professional,Mokokchung, India,32\\r\\n2446,male,\"5\\'7\"\"\",Hindu, Brahmin,Marathi,Science Professional (Others),Bengaluru / Bangalore, India,30\\r\\n2447,female,\"5\\'0\"\"\",Hindu, Agri,Marathi,Not working,Raigad, India,30\\r\\n2448,male,\"6\\'0\"\"\",Hindu, Bhatia,Gujarati,Not working,Navsari, India,30\\r\\n2449,female,\"5\\'3\"\"\",Hindu, Saini,Hindi,Teacher,Bengaluru / Bangalore, India,28\\r\\n2450,female,\"4\\'11\"\"\",Christian, Born Again,Tamil,Customer Support / BPO / KPO Professional,Bengaluru / Bangalore, India,31\\r\\n2451,female,\"5\\'4\"\"\",,others,,,Ahmednagar, India,35\\r\\n2452,female,\"4\\'5\"\"\",,others,Tamil,,Bengaluru / Bangalore, India,27\\r\\n2453,female,\"5\\'5\"\"\",Hindu, Bhatia,Sindhi,Teacher,Faizabad, India,30\\r\\n2454,female,\"5\\'2\"\"\",Hindu, Sahu,Hindi,Not Specified,Kanpur, India,28\\r\\n2455,female,\"5\\'5\"\"\",Hindu, Saini,Hindi,Finance Professional,Delhi, India,29\\r\\n2456,male,\"5\\'8\"\"\",Christian, Born Again,Malayalam,Accounting Professional (Others),Kottayam, India,32\\r\\n2457,male,\"5\\'11\"\"\",Hindu, Lingayath,Kannada,Software Professional (Others),Bengaluru / Bangalore, India,35\\r\\n2458,male,\"6\\'0\"\"\",Sikh, Khatri,Punjabi,Software Professional (Others),King Of Prussia- PA, USA,31\\r\\n2459,female,\"5\\'0\"\"\",,others,,,, India,29\\r\\n2460,female,\"5\\'6\"\"\",Sikh, Khatri,Punjabi,Student,Vaughan, Canada,28\\r\\n2461,male,\"5\\'8\"\"\",Hindu, Goud,Telugu,Defense Services,Bhongir, India,31\\r\\n2462,female,\"5\\'1\"\"\",Christian, Born Again,Tamil,Software Professional (Others),Pittsburgh- PA, USA,31\\r\\n2463,male,\"5\\'10\"\"\",Hindu, Goud,Telugu,Software Professional (Others),Hyderabad, India,31\\r\\n2464,female,\"5\\'0\"\"\",Hindu, Goud,Telugu,Not Specified,Nalgonda, India,26\\r\\n2465,female,\"5\\'3\"\"\",Hindu, Bhandari,Marathi,Civil Engineer,Mumbai, India,31\\r\\n2466,male,\"5\\'9\"\"\",,others,Bengali,Not Specified,Bardhaman, India,24\\r\\n2467,male,\"5\\'9\"\"\",Hindu, Valmiki,Punjabi,Not Specified,Gurgaon, India,29\\r\\n2468,male,\"5\\'9\"\"\",Hindu, Brahmin,Gujarati,Investment Professional,New York- NY, USA,32\\r\\n2469,female,\"5\\'5\"\"\",,others,,,Mumbai, India,30\\r\\n2470,female,\"5\\'4\"\"\",Hindu, Vanniyar,Tamil,Not Specified,Chennai, India,28\\r\\n2471,male,,,others,Telugu,Mechanical / Production Engineer,Titupattur, India,26\\r\\n2472,male,\"5\\'7\"\"\",Hindu, Vaishnav,Gujarati,Hardware & Networking professional,Portland- OR, USA,32\\r\\n2473,female,\"5\\'0\"\"\",,,,Not Specified,Kota, India,\\r\\n2474,female,\"5\\'4\"\"\",Hindu, Brahmin,Marwari,Software Professional (Others),Bengaluru / Bangalore, India,31\\r\\n2475,male,\"6\\'0\"\"\",Hindu, OBC - Barber/Naayee,Assamese,Finance Professional,Guwahati, India,27\\r\\n2476,female,\"5\\'3\"\"\",Hindu, Baniya,Gujarati,Commercial Artist,Mumbai, India,34\\r\\n2477,male,\"5\\'9\"\"\",Hindu, Brahmin,Marathi,Software Professional (Others),Bengaluru / Bangalore, India,30\\r\\n2478,female,\"4\\'10\"\"\",Hindu, Panchal,Gujarati,Doctor / Healthcare Professional,Gandhinagar, India,30\\r\\n2479,male,\"5\\'10\"\"\",Hindu, Brahmin,Telugu,Banking Professional,Hyderabad, India,32\\r\\n2480,male,\"5\\'11\"\"\",,others,Hindi,Media Professional,Aurangabad, India,26\\r\\n2481,male,\"5\\'11\"\"\",Hindu, Ahom,Assamese,Entrepreneurs / Business ,Assam, India,28\\r\\n2482,female,\"5\\'5\"\"\",Hindu, Lingayath,Kannada,Not working,Kalaburagi / Gulbarga, India,32\\r\\n2483,female,\"5\\'1\"\"\",Hindu, Baishnab,Bengali,Not working,Kolkata, India,28\\r\\n2484,male,\"5\\'7\"\"\",,others,Kannada,Not Specified,, India,25\\r\\n2485,female,\"6\\'0\"\"\",Hindu, Brahmin,Marathi,Consultant / Supervisor / Team Leads,Bengaluru / Bangalore, India,29\\r\\n2486,female,\"5\\'2\"\"\",,others,,,, India,26\\r\\n2487,male,\"5\\'7\"\"\",,others,Hindi,,Bengaluru / Bangalore, India,29\\r\\n2488,female,\"5\\'5\"\"\",Hindu, Baniya,Hindi,Customer Support / BPO / KPO Professional,Delhi, India,36\\r\\n2489,male,\"5\\'6\"\"\",,others,Bengali,Customer Support / BPO / KPO Professional,Kolkata, India,31\\r\\n2490,,\"5\\'6\"\"\",,others,Hindi,Company Secretary,Puri, India,34\\r\\n2491,male,,,others,Telugu,Entrepreneurs / Business ,Bengaluru / Bangalore, India,29\\r\\n2492,female,\"5\\'3\"\"\",Hindu, Saini,Punjabi,Not Specified,Chandigarh, India,28\\r\\n2493,male,\"5\\'6\"\"\",,others,Bengali,Not Specified,Cooch Behar, India,35\\r\\n2494,female,\"5\\'2\"\"\",Hindu, Sahu,Chattisgarhi,Not working,Bilaspur, India,28\\r\\n2495,female,\"5\\'3\"\"\",Hindu, Agarwal,Punjabi,Software Professional (Others),Sunnyvale- CA, USA,29\\r\\n2496,male,\"5\\'4\"\"\",Hindu, Panchal,Gujarati,Not Specified,Ahmedabad, India,32\\r\\n2497,male,\"5\\'7\"\"\",Christian, Born Again,Telugu,Non IT Engineer (Others),Hyderabad, India,31\\r\\n2498,male,\"5\\'5\"\"\",,,Marathi,Sales Professional / Marketing,Mumbai, India,\\r\\n2499,female,\"5\\'4\"\"\",Hindu, Kayastha,Bengali,Hotel & Hospitality Professional (Others),Kolkata, India,31\\r\\n2500,female,\"5\\'1\"\"\",Hindu, Agri,Marathi,Accounting Professional (Others),Mumbai, India,30\\r\\n2501,male,,,,,,Kollam, India,28\\r\\n2502,female,\"5\\'0\"\"\",Hindu, Saini,Hindi,Not working,Meerut, India,27\\r\\n2503,,,,others,Bengali,Entrepreneurs / Business ,Cooch Behar, India,29\\r\\n2504,male,\"5\\'2\"\"\",Hindu, Viswabrahmin,Telugu,Banking Professional,Chittoor, India,28\\r\\n2505,male,\"5\\'2\"\"\",,others,Bengali,Teacher,West Bengal, India,33\\r\\n2506,female,\"5\\'6\"\"\",Hindu, Brahmin,Bhojpuri,Not working,Siwan, India,31\\r\\n2507,male,,,,,,, India,26\\r\\n2508,female,\"5\\'3\"\"\",Hindu, Vaishnav,Gujarati,Dentist,Raipur, India,31\\r\\n2509,female,\"5\\'0\"\"\",Hindu, Kayastha,Bengali,Hotel & Hospitality Professional (Others),Kolkata, India,33\\r\\n2510,male,\"4\\'5\"\"\",Hindu, Goud,Hindi,Teacher,Jabalpur, India,29\\r\\n2511,male,\"5\\'9\"\"\",Hindu, Rajput - Lodhi,Hindi,Veterinary Doctor / Healthcare Professional,Chhindwara, India,30\\r\\n2512,female,\"5\\'5\"\"\",Hindu, Brahmin,Hindi,HR Professional,Gurgaon, India,30\\r\\n2513,female,\"5\\'5\"\"\",Hindu, Baidya,Bengali,Software Professional,Bengaluru / Bangalore, India,26\\r\\n2514,female,\"5\\'0\"\"\",Hindu, Baishya,Bengali,Not working,Kolkata, India,27\\r\\n2515,male,\"5\\'6\"\"\",Hindu, Vaishnav,Gujarati,Sales Professional / Marketing,Ahmedabad, India,30\\r\\n2516,male,\"5\\'4\"\"\",Hindu, Viswabrahmin,Telugu,Teacher,Hyderabad, India,29\\r\\n2517,female,\"5\\'4\"\"\",Hindu, Thakur,Hindi,Training Professional (Others),Delhi, India,30\\r\\n2518,male,\"5\\'6\"\"\",Hindu, Sahu,Hindi,Teacher,Dhamtari, India,30\\r\\n2519,male,\"5\\'0\"\"\",Hindu, Brahmin,Telugu,Not Specified,Hyderabad, India,32\\r\\n2520,female,\"5\\'1\"\"\",Jain, Shwetamber,Hindi,Entrepreneurs / Business ,Indore, India,32\\r\\n2521,female,\"5\\'3\"\"\",Hindu, Arora,Hindi,Non IT Engineer (Others),Dubai, United Arab Emirates,33\\r\\n2522,female,\"5\\'3\"\"\",Hindu, Baniya,Hindi,Software Consultant,Gurgaon, India,36\\r\\n2523,female,\"5\\'6\"\"\",Hindu, Vaishnav,Gujarati,Interior Designer,Chicago- IL, USA,31\\r\\n2524,male,\"5\\'7\"\"\",Hindu, Brahmin,Marathi,Software Professional,Pune, India,30\\r\\n2525,male,\"5\\'7\"\"\",,others,,Mechanical / Production Engineer,Kozhikode, India,29\\r\\n2526,male,\"5\\'3\"\"\",Hindu, Kayastha,Bengali,Public Relations Professional,Delhi, India,33\\r\\n2527,male,,,others,,,, India,28\\r\\n2528,,,,others,Malayalam,,Kollam, India,28\\r\\n2529,male,\"5\\'4\"\"\",Hindu, Brahmin,Marathi,Accounting Professional (Others),Ratnagiri, India,33\\r\\n2530,female,\"5\\'4\"\"\",Christian, Marthoma,Malayalam,Non IT Engineer (Others),San Francisco- CA, USA,30\\r\\n2531,male,\"5\\'8\"\"\",Hindu, Arora,Hindi,Software Professional (Others),Faridabad, India,36\\r\\n2532,male,\"5\\'6\"\"\",Muslim, Memon,Hindi,Finance Professional,Lucknow, India,29\\r\\n2533,female,\"5\\'0\"\"\",Hindu, Scheduled Caste (SC),Hindi,Consultant / Supervisor / Team Leads,Bengaluru / Bangalore, India,31\\r\\n2534,female,\"5\\'3\"\"\",Hindu, Kshatriya,Hindi,Science Professional (Others),Mumbai, India,32\\r\\n2535,female,\"4\\'11\"\"\",Hindu, Baidya,Hindi,Not Specified,Kannauj, India,27\\r\\n2536,female,\"5\\'3\"\"\",Sikh, Khatri,Punjabi,Software Professional,Hyderabad, India,30\\r\\n2537,male,\"5\\'9\"\"\",Hindu, Brahmin,Hindi,Entrepreneurs / Business ,Agra, India,31\\r\\n2538,female,\"5\\'2\"\"\",Hindu, Valmiki,Hindi,Not working,Betul, India,27\\r\\n2539,male,\"6\\'0\"\"\",Sikh, Gursikh,Punjabi,Entrepreneurs / Business ,Mumbai, India,30\\r\\n2540,male,\"5\\'8\"\"\",,,Kannada,,Shivamogga, India,28\\r\\n2541,female,\"5\\'6\"\"\",,others,Tulu,,Mumbai, India,25\\r\\n2542,female,\"5\\'8\"\"\",,others,Telugu,,Bengaluru / Bangalore,,35\\r\\n2543,male,\"6\\'4\"\"\",,others,Telugu,,Middlesboro- KY,,34\\r\\n2544,female,\"5\\'6\"\"\",Hindu, Balija,Telugu,Other Airline Professional,Cuddapah / Kadapa, India,26\\r\\n2545,female,\"5\\'3\"\"\",Hindu, Brahmin,Telugu,Not working,S-Gravenhage, Netherlands,31\\r\\n2546,female,,,others,,,, Malaysia,25\\r\\n2547,male,\"5\\'2\"\"\",Hindu, Kshatriya,Marathi,Mechanical / Production Engineer,Karnataka, India,31\\r\\n2548,male,\"5\\'4\"\"\",Hindu, Brahmin,Bengali,Entrepreneurs / Business ,Agartala, India,32\\r\\n2549,female,\"5\\'5\"\"\",,others,Marathi,,, India,29\\r\\n2550,female,\"4\\'8\"\"\",Hindu, Baishnab,Bengali,Banking Professional,Barisal, Bangladesh,26\\r\\n2551,male,\"4\\'5\"\"\",Muslim, Memon,Kashmiri,Not working,Kupwara, India,26\\r\\n2552,male,\"5\\'11\"\"\",Hindu, Arya Vysya,Telugu,Software Professional,Bengaluru / Bangalore, India,28\\r\\n2553,female,\"5\\'5\"\"\",Hindu, Arora,Hindi,Software Professional,San Francisco- CA, USA,34\\r\\n2554,female,\"5\\'7\"\"\",Christian, Roman Catholic,Konkani,Customer Support / BPO / KPO Professional,Mumbai, India,32\\r\\n2555,male,\"5\\'9\"\"\",Hindu, Agri,Marathi,Finance Professional,Raigad, India,30\\r\\n2556,female,\"5\\'5\"\"\",Hindu, Brahmin,Bengali,Legal Professional (Others),New York- NY, USA,31\\r\\n2557,male,\"5\\'8\"\"\",Hindu, Valmiki,Hindi,Banking Professional,Mohali, India,29\\r\\n2558,male,\"5\\'5\"\"\",,others,Hindi,Farming,Nagpur, India,26\\r\\n2559,male,\"5\\'8\"\"\",Sikh, Khatri,Punjabi,Pilot / Co-Pilot,Toronto, Canada,30\\r\\n2560,female,\"5\\'3\"\"\",Sikh, Ramdasia,Punjabi,Not working,Punjab, India,31\\r\\n2561,female,,,others,Kannada,Teacher,Bengaluru / Bangalore, India,24\\r\\n2562,male,\"5\\'11\"\"\",Hindu, Kshatriya,Odia,VP / AVP / GM / DGM,Mumbai, India,30\\r\\n2563,female,\"5\\'3\"\"\",Hindu, Thakur,Hindi,Banking Professional,Agra, India,27\\r\\n2564,male,\"5\\'11\"\"\",Hindu, Thakur,Hindi,Software Professional,Ottawa, Canada,31\\r\\n2565,female,\"5\\'3\"\"\",Hindu, Baishya,Bengali,Software Consultant,Bengaluru / Bangalore, India,28\\r\\n2566,female,\"4\\'11\"\"\",,others,Telugu,Not working,Hyderabad, India,26\\r\\n2567,female,\"5\\'2\"\"\",Christian, Marthoma,Malayalam,Software Professional,Pune, India,32'}"
            ]
          },
          "metadata": {
            "tags": []
          },
          "execution_count": 2
        }
      ]
    },
    {
      "cell_type": "code",
      "metadata": {
        "colab": {
          "base_uri": "https://localhost:8080/",
          "height": 206
        },
        "id": "FK5FJHD6ddOA",
        "outputId": "0ed3a395-8f5a-49e8-d5e6-d358b20c87af"
      },
      "source": [
        "myFile=  pd.read_csv('age_of_marriage_data.csv')\n",
        "myFile.head()"
      ],
      "execution_count": null,
      "outputs": [
        {
          "output_type": "execute_result",
          "data": {
            "text/html": [
              "<div>\n",
              "<style scoped>\n",
              "    .dataframe tbody tr th:only-of-type {\n",
              "        vertical-align: middle;\n",
              "    }\n",
              "\n",
              "    .dataframe tbody tr th {\n",
              "        vertical-align: top;\n",
              "    }\n",
              "\n",
              "    .dataframe thead th {\n",
              "        text-align: right;\n",
              "    }\n",
              "</style>\n",
              "<table border=\"1\" class=\"dataframe\">\n",
              "  <thead>\n",
              "    <tr style=\"text-align: right;\">\n",
              "      <th></th>\n",
              "      <th>id</th>\n",
              "      <th>gender</th>\n",
              "      <th>height</th>\n",
              "      <th>religion</th>\n",
              "      <th>caste</th>\n",
              "      <th>mother_tongue</th>\n",
              "      <th>profession</th>\n",
              "      <th>location</th>\n",
              "      <th>country</th>\n",
              "      <th>age_of_marriage</th>\n",
              "    </tr>\n",
              "  </thead>\n",
              "  <tbody>\n",
              "    <tr>\n",
              "      <th>0</th>\n",
              "      <td>1</td>\n",
              "      <td>female</td>\n",
              "      <td>5'4\"</td>\n",
              "      <td>NaN</td>\n",
              "      <td>others</td>\n",
              "      <td>Telugu</td>\n",
              "      <td>NaN</td>\n",
              "      <td>London</td>\n",
              "      <td>United Kingdom</td>\n",
              "      <td>21.0</td>\n",
              "    </tr>\n",
              "    <tr>\n",
              "      <th>1</th>\n",
              "      <td>2</td>\n",
              "      <td>male</td>\n",
              "      <td>5'7\"</td>\n",
              "      <td>Jain</td>\n",
              "      <td>Shwetamber</td>\n",
              "      <td>Gujarati</td>\n",
              "      <td>Doctor / Healthcare Professional</td>\n",
              "      <td>Fairfax- VA</td>\n",
              "      <td>USA</td>\n",
              "      <td>32.0</td>\n",
              "    </tr>\n",
              "    <tr>\n",
              "      <th>2</th>\n",
              "      <td>3</td>\n",
              "      <td>male</td>\n",
              "      <td>5'7\"</td>\n",
              "      <td>Hindu</td>\n",
              "      <td>Brahmin</td>\n",
              "      <td>Hindi</td>\n",
              "      <td>Entrepreneurs / Business</td>\n",
              "      <td>Begusarai</td>\n",
              "      <td>India</td>\n",
              "      <td>32.0</td>\n",
              "    </tr>\n",
              "    <tr>\n",
              "      <th>3</th>\n",
              "      <td>4</td>\n",
              "      <td>female</td>\n",
              "      <td>5'0\"</td>\n",
              "      <td>Hindu</td>\n",
              "      <td>Thakur</td>\n",
              "      <td>Hindi</td>\n",
              "      <td>Architect</td>\n",
              "      <td>Mumbai</td>\n",
              "      <td>India</td>\n",
              "      <td>30.0</td>\n",
              "    </tr>\n",
              "    <tr>\n",
              "      <th>4</th>\n",
              "      <td>5</td>\n",
              "      <td>male</td>\n",
              "      <td>5'5\"</td>\n",
              "      <td>Christian</td>\n",
              "      <td>Born Again</td>\n",
              "      <td>Malayalam</td>\n",
              "      <td>Sales Professional / Marketing</td>\n",
              "      <td>Sulthan Bathery</td>\n",
              "      <td>India</td>\n",
              "      <td>30.0</td>\n",
              "    </tr>\n",
              "  </tbody>\n",
              "</table>\n",
              "</div>"
            ],
            "text/plain": [
              "   id  gender height  ...         location          country age_of_marriage\n",
              "0   1  female   5'4\"  ...           London   United Kingdom            21.0\n",
              "1   2    male   5'7\"  ...      Fairfax- VA              USA            32.0\n",
              "2   3    male   5'7\"  ...        Begusarai            India            32.0\n",
              "3   4  female   5'0\"  ...           Mumbai            India            30.0\n",
              "4   5    male   5'5\"  ...  Sulthan Bathery            India            30.0\n",
              "\n",
              "[5 rows x 10 columns]"
            ]
          },
          "metadata": {
            "tags": []
          },
          "execution_count": 6
        }
      ]
    },
    {
      "cell_type": "markdown",
      "metadata": {
        "id": "KelKZC89e61S"
      },
      "source": [
        "Find here the total amount of data....."
      ]
    },
    {
      "cell_type": "code",
      "metadata": {
        "colab": {
          "base_uri": "https://localhost:8080/"
        },
        "id": "aw9Ji4mieyg6",
        "outputId": "6a76c2e8-f3b1-4dd9-8b1b-abf5021842af"
      },
      "source": [
        "print(myFile.shape)"
      ],
      "execution_count": null,
      "outputs": [
        {
          "output_type": "stream",
          "text": [
            "(2567, 10)\n"
          ],
          "name": "stdout"
        }
      ]
    },
    {
      "cell_type": "markdown",
      "metadata": {
        "id": "0-hTw9N7fCom"
      },
      "source": [
        "Now check the null value....."
      ]
    },
    {
      "cell_type": "code",
      "metadata": {
        "colab": {
          "base_uri": "https://localhost:8080/"
        },
        "id": "aSTP2Q8CfGox",
        "outputId": "11af374c-e38e-41af-b602-d1c9c2785f62"
      },
      "source": [
        "myFile.isnull().sum()"
      ],
      "execution_count": null,
      "outputs": [
        {
          "output_type": "execute_result",
          "data": {
            "text/plain": [
              "id                   0\n",
              "gender              29\n",
              "height             118\n",
              "religion           635\n",
              "caste              142\n",
              "mother_tongue      164\n",
              "profession         330\n",
              "location           155\n",
              "country             16\n",
              "age_of_marriage     19\n",
              "dtype: int64"
            ]
          },
          "metadata": {
            "tags": []
          },
          "execution_count": 9
        }
      ]
    },
    {
      "cell_type": "markdown",
      "metadata": {
        "id": "aEn5CexIgwSh"
      },
      "source": [
        "Now drop all the null records......"
      ]
    },
    {
      "cell_type": "code",
      "metadata": {
        "id": "-aPMFgmZgz65"
      },
      "source": [
        "myFile.dropna(inplace=True)"
      ],
      "execution_count": null,
      "outputs": []
    },
    {
      "cell_type": "code",
      "metadata": {
        "colab": {
          "base_uri": "https://localhost:8080/"
        },
        "id": "GPdaFuXthFs4",
        "outputId": "cf468a52-e176-422a-82b1-d57ffc8d3473"
      },
      "source": [
        "print(myFile.shape)"
      ],
      "execution_count": null,
      "outputs": [
        {
          "output_type": "stream",
          "text": [
            "(1932, 10)\n"
          ],
          "name": "stdout"
        }
      ]
    },
    {
      "cell_type": "code",
      "metadata": {
        "colab": {
          "base_uri": "https://localhost:8080/",
          "height": 206
        },
        "id": "3ENNRhj0hgsZ",
        "outputId": "72e680aa-8935-4405-dc42-9078bc5ecf66"
      },
      "source": [
        "myFile.head()"
      ],
      "execution_count": null,
      "outputs": [
        {
          "output_type": "execute_result",
          "data": {
            "text/html": [
              "<div>\n",
              "<style scoped>\n",
              "    .dataframe tbody tr th:only-of-type {\n",
              "        vertical-align: middle;\n",
              "    }\n",
              "\n",
              "    .dataframe tbody tr th {\n",
              "        vertical-align: top;\n",
              "    }\n",
              "\n",
              "    .dataframe thead th {\n",
              "        text-align: right;\n",
              "    }\n",
              "</style>\n",
              "<table border=\"1\" class=\"dataframe\">\n",
              "  <thead>\n",
              "    <tr style=\"text-align: right;\">\n",
              "      <th></th>\n",
              "      <th>id</th>\n",
              "      <th>gender</th>\n",
              "      <th>height</th>\n",
              "      <th>religion</th>\n",
              "      <th>caste</th>\n",
              "      <th>mother_tongue</th>\n",
              "      <th>profession</th>\n",
              "      <th>location</th>\n",
              "      <th>country</th>\n",
              "      <th>age_of_marriage</th>\n",
              "    </tr>\n",
              "  </thead>\n",
              "  <tbody>\n",
              "    <tr>\n",
              "      <th>1</th>\n",
              "      <td>2</td>\n",
              "      <td>male</td>\n",
              "      <td>5'7\"</td>\n",
              "      <td>Jain</td>\n",
              "      <td>Shwetamber</td>\n",
              "      <td>Gujarati</td>\n",
              "      <td>Doctor / Healthcare Professional</td>\n",
              "      <td>Fairfax- VA</td>\n",
              "      <td>USA</td>\n",
              "      <td>32.0</td>\n",
              "    </tr>\n",
              "    <tr>\n",
              "      <th>2</th>\n",
              "      <td>3</td>\n",
              "      <td>male</td>\n",
              "      <td>5'7\"</td>\n",
              "      <td>Hindu</td>\n",
              "      <td>Brahmin</td>\n",
              "      <td>Hindi</td>\n",
              "      <td>Entrepreneurs / Business</td>\n",
              "      <td>Begusarai</td>\n",
              "      <td>India</td>\n",
              "      <td>32.0</td>\n",
              "    </tr>\n",
              "    <tr>\n",
              "      <th>3</th>\n",
              "      <td>4</td>\n",
              "      <td>female</td>\n",
              "      <td>5'0\"</td>\n",
              "      <td>Hindu</td>\n",
              "      <td>Thakur</td>\n",
              "      <td>Hindi</td>\n",
              "      <td>Architect</td>\n",
              "      <td>Mumbai</td>\n",
              "      <td>India</td>\n",
              "      <td>30.0</td>\n",
              "    </tr>\n",
              "    <tr>\n",
              "      <th>4</th>\n",
              "      <td>5</td>\n",
              "      <td>male</td>\n",
              "      <td>5'5\"</td>\n",
              "      <td>Christian</td>\n",
              "      <td>Born Again</td>\n",
              "      <td>Malayalam</td>\n",
              "      <td>Sales Professional / Marketing</td>\n",
              "      <td>Sulthan Bathery</td>\n",
              "      <td>India</td>\n",
              "      <td>30.0</td>\n",
              "    </tr>\n",
              "    <tr>\n",
              "      <th>5</th>\n",
              "      <td>6</td>\n",
              "      <td>male</td>\n",
              "      <td>5'5\"</td>\n",
              "      <td>Hindu</td>\n",
              "      <td>Valmiki</td>\n",
              "      <td>Hindi</td>\n",
              "      <td>Sportsman</td>\n",
              "      <td>Delhi</td>\n",
              "      <td>India</td>\n",
              "      <td>29.0</td>\n",
              "    </tr>\n",
              "  </tbody>\n",
              "</table>\n",
              "</div>"
            ],
            "text/plain": [
              "   id  gender height  ...         location country age_of_marriage\n",
              "1   2    male   5'7\"  ...      Fairfax- VA     USA            32.0\n",
              "2   3    male   5'7\"  ...        Begusarai   India            32.0\n",
              "3   4  female   5'0\"  ...           Mumbai   India            30.0\n",
              "4   5    male   5'5\"  ...  Sulthan Bathery   India            30.0\n",
              "5   6    male   5'5\"  ...            Delhi   India            29.0\n",
              "\n",
              "[5 rows x 10 columns]"
            ]
          },
          "metadata": {
            "tags": []
          },
          "execution_count": 12
        }
      ]
    },
    {
      "cell_type": "markdown",
      "metadata": {
        "id": "mqoeNRLhl-8D"
      },
      "source": [
        "Here see the unique value of any column"
      ]
    },
    {
      "cell_type": "code",
      "metadata": {
        "colab": {
          "base_uri": "https://localhost:8080/"
        },
        "id": "VQVxsCsnmLmP",
        "outputId": "a29b87a2-b304-4c54-bfad-0d0f13d1823c"
      },
      "source": [
        "myFile.religion.unique()"
      ],
      "execution_count": null,
      "outputs": [
        {
          "output_type": "execute_result",
          "data": {
            "text/plain": [
              "array(['Jain', 'Hindu', 'Christian', 'Muslim', 'Sikh'], dtype=object)"
            ]
          },
          "metadata": {
            "tags": []
          },
          "execution_count": 13
        }
      ]
    },
    {
      "cell_type": "code",
      "metadata": {
        "id": "HPLwKAgNmWsf"
      },
      "source": [
        "myFile.profession.unique()"
      ],
      "execution_count": null,
      "outputs": []
    },
    {
      "cell_type": "markdown",
      "metadata": {
        "id": "gX6zN0wgmla3"
      },
      "source": [
        "Now seperate the data in input output...."
      ]
    },
    {
      "cell_type": "code",
      "metadata": {
        "id": "auU0r5gXmrGf"
      },
      "source": [
        "X= myFile.loc[:,['gender','height','religion','caste','mother_tongue','country']]\n",
        "Y= myFile.age_of_marriage"
      ],
      "execution_count": null,
      "outputs": []
    },
    {
      "cell_type": "code",
      "metadata": {
        "colab": {
          "base_uri": "https://localhost:8080/",
          "height": 206
        },
        "id": "Klw4Z5Wxng1s",
        "outputId": "cef48328-ba31-4f48-a89c-a22321334926"
      },
      "source": [
        "X.head()"
      ],
      "execution_count": null,
      "outputs": [
        {
          "output_type": "execute_result",
          "data": {
            "text/html": [
              "<div>\n",
              "<style scoped>\n",
              "    .dataframe tbody tr th:only-of-type {\n",
              "        vertical-align: middle;\n",
              "    }\n",
              "\n",
              "    .dataframe tbody tr th {\n",
              "        vertical-align: top;\n",
              "    }\n",
              "\n",
              "    .dataframe thead th {\n",
              "        text-align: right;\n",
              "    }\n",
              "</style>\n",
              "<table border=\"1\" class=\"dataframe\">\n",
              "  <thead>\n",
              "    <tr style=\"text-align: right;\">\n",
              "      <th></th>\n",
              "      <th>gender</th>\n",
              "      <th>height</th>\n",
              "      <th>religion</th>\n",
              "      <th>caste</th>\n",
              "      <th>mother_tongue</th>\n",
              "      <th>country</th>\n",
              "    </tr>\n",
              "  </thead>\n",
              "  <tbody>\n",
              "    <tr>\n",
              "      <th>1</th>\n",
              "      <td>male</td>\n",
              "      <td>5'7\"</td>\n",
              "      <td>Jain</td>\n",
              "      <td>Shwetamber</td>\n",
              "      <td>Gujarati</td>\n",
              "      <td>USA</td>\n",
              "    </tr>\n",
              "    <tr>\n",
              "      <th>2</th>\n",
              "      <td>male</td>\n",
              "      <td>5'7\"</td>\n",
              "      <td>Hindu</td>\n",
              "      <td>Brahmin</td>\n",
              "      <td>Hindi</td>\n",
              "      <td>India</td>\n",
              "    </tr>\n",
              "    <tr>\n",
              "      <th>3</th>\n",
              "      <td>female</td>\n",
              "      <td>5'0\"</td>\n",
              "      <td>Hindu</td>\n",
              "      <td>Thakur</td>\n",
              "      <td>Hindi</td>\n",
              "      <td>India</td>\n",
              "    </tr>\n",
              "    <tr>\n",
              "      <th>4</th>\n",
              "      <td>male</td>\n",
              "      <td>5'5\"</td>\n",
              "      <td>Christian</td>\n",
              "      <td>Born Again</td>\n",
              "      <td>Malayalam</td>\n",
              "      <td>India</td>\n",
              "    </tr>\n",
              "    <tr>\n",
              "      <th>5</th>\n",
              "      <td>male</td>\n",
              "      <td>5'5\"</td>\n",
              "      <td>Hindu</td>\n",
              "      <td>Valmiki</td>\n",
              "      <td>Hindi</td>\n",
              "      <td>India</td>\n",
              "    </tr>\n",
              "  </tbody>\n",
              "</table>\n",
              "</div>"
            ],
            "text/plain": [
              "   gender height   religion        caste mother_tongue country\n",
              "1    male   5'7\"       Jain   Shwetamber      Gujarati     USA\n",
              "2    male   5'7\"      Hindu      Brahmin         Hindi   India\n",
              "3  female   5'0\"      Hindu       Thakur         Hindi   India\n",
              "4    male   5'5\"  Christian   Born Again     Malayalam   India\n",
              "5    male   5'5\"      Hindu      Valmiki         Hindi   India"
            ]
          },
          "metadata": {
            "tags": []
          },
          "execution_count": 17
        }
      ]
    },
    {
      "cell_type": "markdown",
      "metadata": {
        "id": "bK3o0N0BobqW"
      },
      "source": [
        "Now lebel the string / convert string to numeric value"
      ]
    },
    {
      "cell_type": "code",
      "metadata": {
        "id": "9Tir-owCqCX3"
      },
      "source": [
        "# import library\n",
        "from sklearn.preprocessing import LabelEncoder\n",
        "enc= LabelEncoder()"
      ],
      "execution_count": null,
      "outputs": []
    },
    {
      "cell_type": "code",
      "metadata": {
        "id": "GRYkK3V7rCFm"
      },
      "source": [
        "X.loc[:,['gender','religion','caste','mother_tongue','country']] = \\\n",
        "X.loc[:,['gender','religion','caste','mother_tongue','country']].apply(enc.fit_transform)\n",
        " "
      ],
      "execution_count": null,
      "outputs": []
    },
    {
      "cell_type": "code",
      "metadata": {
        "colab": {
          "base_uri": "https://localhost:8080/",
          "height": 206
        },
        "id": "cHUljCKwsDce",
        "outputId": "1e356077-8469-4f4d-9116-af7783c36e4c"
      },
      "source": [
        "X.head()"
      ],
      "execution_count": null,
      "outputs": [
        {
          "output_type": "execute_result",
          "data": {
            "text/html": [
              "<div>\n",
              "<style scoped>\n",
              "    .dataframe tbody tr th:only-of-type {\n",
              "        vertical-align: middle;\n",
              "    }\n",
              "\n",
              "    .dataframe tbody tr th {\n",
              "        vertical-align: top;\n",
              "    }\n",
              "\n",
              "    .dataframe thead th {\n",
              "        text-align: right;\n",
              "    }\n",
              "</style>\n",
              "<table border=\"1\" class=\"dataframe\">\n",
              "  <thead>\n",
              "    <tr style=\"text-align: right;\">\n",
              "      <th></th>\n",
              "      <th>gender</th>\n",
              "      <th>height</th>\n",
              "      <th>religion</th>\n",
              "      <th>caste</th>\n",
              "      <th>mother_tongue</th>\n",
              "      <th>country</th>\n",
              "    </tr>\n",
              "  </thead>\n",
              "  <tbody>\n",
              "    <tr>\n",
              "      <th>1</th>\n",
              "      <td>1</td>\n",
              "      <td>5'7\"</td>\n",
              "      <td>2</td>\n",
              "      <td>34</td>\n",
              "      <td>6</td>\n",
              "      <td>19</td>\n",
              "    </tr>\n",
              "    <tr>\n",
              "      <th>2</th>\n",
              "      <td>1</td>\n",
              "      <td>5'7\"</td>\n",
              "      <td>1</td>\n",
              "      <td>14</td>\n",
              "      <td>8</td>\n",
              "      <td>5</td>\n",
              "    </tr>\n",
              "    <tr>\n",
              "      <th>3</th>\n",
              "      <td>0</td>\n",
              "      <td>5'0\"</td>\n",
              "      <td>1</td>\n",
              "      <td>36</td>\n",
              "      <td>8</td>\n",
              "      <td>5</td>\n",
              "    </tr>\n",
              "    <tr>\n",
              "      <th>4</th>\n",
              "      <td>1</td>\n",
              "      <td>5'5\"</td>\n",
              "      <td>0</td>\n",
              "      <td>13</td>\n",
              "      <td>13</td>\n",
              "      <td>5</td>\n",
              "    </tr>\n",
              "    <tr>\n",
              "      <th>5</th>\n",
              "      <td>1</td>\n",
              "      <td>5'5\"</td>\n",
              "      <td>1</td>\n",
              "      <td>38</td>\n",
              "      <td>8</td>\n",
              "      <td>5</td>\n",
              "    </tr>\n",
              "  </tbody>\n",
              "</table>\n",
              "</div>"
            ],
            "text/plain": [
              "  gender height religion caste mother_tongue country\n",
              "1      1   5'7\"        2    34             6      19\n",
              "2      1   5'7\"        1    14             8       5\n",
              "3      0   5'0\"        1    36             8       5\n",
              "4      1   5'5\"        0    13            13       5\n",
              "5      1   5'5\"        1    38             8       5"
            ]
          },
          "metadata": {
            "tags": []
          },
          "execution_count": 25
        }
      ]
    },
    {
      "cell_type": "markdown",
      "metadata": {
        "id": "BbR5ZXectvF1"
      },
      "source": [
        "Now convert hight into centemeters.....\n"
      ]
    },
    {
      "cell_type": "code",
      "metadata": {
        "colab": {
          "base_uri": "https://localhost:8080/",
          "height": 36
        },
        "id": "7Xi_Wv5Jt46U",
        "outputId": "6f75c113-db38-44ea-c10b-81fac9634eca"
      },
      "source": [
        "X.loc[1,'height']"
      ],
      "execution_count": null,
      "outputs": [
        {
          "output_type": "execute_result",
          "data": {
            "application/vnd.google.colaboratory.intrinsic+json": {
              "type": "string"
            },
            "text/plain": [
              "'5\\'7\"'"
            ]
          },
          "metadata": {
            "tags": []
          },
          "execution_count": 26
        }
      ]
    },
    {
      "cell_type": "code",
      "metadata": {
        "colab": {
          "base_uri": "https://localhost:8080/",
          "height": 36
        },
        "id": "hLRpL_kVuO8U",
        "outputId": "6c0c96d7-952e-4ef8-c108-7e2362fc8733"
      },
      "source": [
        "X.loc[138,'height'].split('\\'')[0]"
      ],
      "execution_count": null,
      "outputs": [
        {
          "output_type": "execute_result",
          "data": {
            "application/vnd.google.colaboratory.intrinsic+json": {
              "type": "string"
            },
            "text/plain": [
              "'4'"
            ]
          },
          "metadata": {
            "tags": []
          },
          "execution_count": 31
        }
      ]
    },
    {
      "cell_type": "markdown",
      "metadata": {
        "id": "Em1YrlqvvIIr"
      },
      "source": [
        "1 feet = 30.48 cm , \n",
        "1 inches = 2.54 cm"
      ]
    },
    {
      "cell_type": "code",
      "metadata": {
        "colab": {
          "base_uri": "https://localhost:8080/"
        },
        "id": "iXZm7ya1vCCf",
        "outputId": "4b8971b6-9cc3-447c-c236-a17f67bde586"
      },
      "source": [
        "int(X.loc[1,'height'].split('\\'')[0]) * 30.48"
      ],
      "execution_count": null,
      "outputs": [
        {
          "output_type": "execute_result",
          "data": {
            "text/plain": [
              "121.92"
            ]
          },
          "metadata": {
            "tags": []
          },
          "execution_count": 33
        }
      ]
    },
    {
      "cell_type": "markdown",
      "metadata": {
        "id": "nwcH-4WpwJyl"
      },
      "source": [
        "for fraction value...\n"
      ]
    },
    {
      "cell_type": "code",
      "metadata": {
        "colab": {
          "base_uri": "https://localhost:8080/"
        },
        "id": "7UMNlpNZwNVA",
        "outputId": "eba0ad67-6470-40be-9472-1095274826cc"
      },
      "source": [
        "int(X.loc[1,'height'].split('\\'')[1].replace('\"','')) * 2.54"
      ],
      "execution_count": null,
      "outputs": [
        {
          "output_type": "execute_result",
          "data": {
            "text/plain": [
              "17.78"
            ]
          },
          "metadata": {
            "tags": []
          },
          "execution_count": 34
        }
      ]
    },
    {
      "cell_type": "code",
      "metadata": {
        "id": "5CXV6Ubf1H6z"
      },
      "source": [
        " def h_con(h): \n",
        "    return int(h.split('\\'')[0]) * 30.48 + \\\n",
        "    int(h.split('\\'')[1].replace('\"','')) * 2.54"
      ],
      "execution_count": null,
      "outputs": []
    },
    {
      "cell_type": "markdown",
      "metadata": {
        "id": "oJS6CL7517LA"
      },
      "source": [
        "Now the convert of whole height column and add it in data set...."
      ]
    },
    {
      "cell_type": "code",
      "metadata": {
        "id": "NvBdWq5A2B9z"
      },
      "source": [
        "X['height_cms']= X.height.apply(h_con)"
      ],
      "execution_count": null,
      "outputs": []
    },
    {
      "cell_type": "code",
      "metadata": {
        "colab": {
          "base_uri": "https://localhost:8080/",
          "height": 206
        },
        "id": "YkzhnqKc2fti",
        "outputId": "c6b2018d-e251-4e3e-b41b-c204d1b4fd91"
      },
      "source": [
        "X.head()"
      ],
      "execution_count": null,
      "outputs": [
        {
          "output_type": "execute_result",
          "data": {
            "text/html": [
              "<div>\n",
              "<style scoped>\n",
              "    .dataframe tbody tr th:only-of-type {\n",
              "        vertical-align: middle;\n",
              "    }\n",
              "\n",
              "    .dataframe tbody tr th {\n",
              "        vertical-align: top;\n",
              "    }\n",
              "\n",
              "    .dataframe thead th {\n",
              "        text-align: right;\n",
              "    }\n",
              "</style>\n",
              "<table border=\"1\" class=\"dataframe\">\n",
              "  <thead>\n",
              "    <tr style=\"text-align: right;\">\n",
              "      <th></th>\n",
              "      <th>gender</th>\n",
              "      <th>height</th>\n",
              "      <th>religion</th>\n",
              "      <th>caste</th>\n",
              "      <th>mother_tongue</th>\n",
              "      <th>country</th>\n",
              "      <th>height_cms</th>\n",
              "    </tr>\n",
              "  </thead>\n",
              "  <tbody>\n",
              "    <tr>\n",
              "      <th>1</th>\n",
              "      <td>1</td>\n",
              "      <td>5'7\"</td>\n",
              "      <td>2</td>\n",
              "      <td>34</td>\n",
              "      <td>6</td>\n",
              "      <td>19</td>\n",
              "      <td>170.18</td>\n",
              "    </tr>\n",
              "    <tr>\n",
              "      <th>2</th>\n",
              "      <td>1</td>\n",
              "      <td>5'7\"</td>\n",
              "      <td>1</td>\n",
              "      <td>14</td>\n",
              "      <td>8</td>\n",
              "      <td>5</td>\n",
              "      <td>170.18</td>\n",
              "    </tr>\n",
              "    <tr>\n",
              "      <th>3</th>\n",
              "      <td>0</td>\n",
              "      <td>5'0\"</td>\n",
              "      <td>1</td>\n",
              "      <td>36</td>\n",
              "      <td>8</td>\n",
              "      <td>5</td>\n",
              "      <td>152.40</td>\n",
              "    </tr>\n",
              "    <tr>\n",
              "      <th>4</th>\n",
              "      <td>1</td>\n",
              "      <td>5'5\"</td>\n",
              "      <td>0</td>\n",
              "      <td>13</td>\n",
              "      <td>13</td>\n",
              "      <td>5</td>\n",
              "      <td>165.10</td>\n",
              "    </tr>\n",
              "    <tr>\n",
              "      <th>5</th>\n",
              "      <td>1</td>\n",
              "      <td>5'5\"</td>\n",
              "      <td>1</td>\n",
              "      <td>38</td>\n",
              "      <td>8</td>\n",
              "      <td>5</td>\n",
              "      <td>165.10</td>\n",
              "    </tr>\n",
              "  </tbody>\n",
              "</table>\n",
              "</div>"
            ],
            "text/plain": [
              "  gender height religion caste mother_tongue country  height_cms\n",
              "1      1   5'7\"        2    34             6      19      170.18\n",
              "2      1   5'7\"        1    14             8       5      170.18\n",
              "3      0   5'0\"        1    36             8       5      152.40\n",
              "4      1   5'5\"        0    13            13       5      165.10\n",
              "5      1   5'5\"        1    38             8       5      165.10"
            ]
          },
          "metadata": {
            "tags": []
          },
          "execution_count": 40
        }
      ]
    },
    {
      "cell_type": "markdown",
      "metadata": {
        "id": "VHgi9T4K2-vb"
      },
      "source": [
        "Now drop the original \"height\" . It is not needed now...."
      ]
    },
    {
      "cell_type": "code",
      "metadata": {
        "id": "3A4n8wn332Py"
      },
      "source": [
        "X.drop('height',inplace=True,axis=1)"
      ],
      "execution_count": null,
      "outputs": []
    },
    {
      "cell_type": "code",
      "metadata": {
        "colab": {
          "base_uri": "https://localhost:8080/",
          "height": 206
        },
        "id": "wt80YMjT3E9r",
        "outputId": "6a73a997-06f5-401f-9e83-b9d8176a94c9"
      },
      "source": [
        "X.head()\n"
      ],
      "execution_count": null,
      "outputs": [
        {
          "output_type": "execute_result",
          "data": {
            "text/html": [
              "<div>\n",
              "<style scoped>\n",
              "    .dataframe tbody tr th:only-of-type {\n",
              "        vertical-align: middle;\n",
              "    }\n",
              "\n",
              "    .dataframe tbody tr th {\n",
              "        vertical-align: top;\n",
              "    }\n",
              "\n",
              "    .dataframe thead th {\n",
              "        text-align: right;\n",
              "    }\n",
              "</style>\n",
              "<table border=\"1\" class=\"dataframe\">\n",
              "  <thead>\n",
              "    <tr style=\"text-align: right;\">\n",
              "      <th></th>\n",
              "      <th>gender</th>\n",
              "      <th>religion</th>\n",
              "      <th>caste</th>\n",
              "      <th>mother_tongue</th>\n",
              "      <th>country</th>\n",
              "      <th>height_cms</th>\n",
              "    </tr>\n",
              "  </thead>\n",
              "  <tbody>\n",
              "    <tr>\n",
              "      <th>1</th>\n",
              "      <td>1</td>\n",
              "      <td>2</td>\n",
              "      <td>34</td>\n",
              "      <td>6</td>\n",
              "      <td>19</td>\n",
              "      <td>170.18</td>\n",
              "    </tr>\n",
              "    <tr>\n",
              "      <th>2</th>\n",
              "      <td>1</td>\n",
              "      <td>1</td>\n",
              "      <td>14</td>\n",
              "      <td>8</td>\n",
              "      <td>5</td>\n",
              "      <td>170.18</td>\n",
              "    </tr>\n",
              "    <tr>\n",
              "      <th>3</th>\n",
              "      <td>0</td>\n",
              "      <td>1</td>\n",
              "      <td>36</td>\n",
              "      <td>8</td>\n",
              "      <td>5</td>\n",
              "      <td>152.40</td>\n",
              "    </tr>\n",
              "    <tr>\n",
              "      <th>4</th>\n",
              "      <td>1</td>\n",
              "      <td>0</td>\n",
              "      <td>13</td>\n",
              "      <td>13</td>\n",
              "      <td>5</td>\n",
              "      <td>165.10</td>\n",
              "    </tr>\n",
              "    <tr>\n",
              "      <th>5</th>\n",
              "      <td>1</td>\n",
              "      <td>1</td>\n",
              "      <td>38</td>\n",
              "      <td>8</td>\n",
              "      <td>5</td>\n",
              "      <td>165.10</td>\n",
              "    </tr>\n",
              "  </tbody>\n",
              "</table>\n",
              "</div>"
            ],
            "text/plain": [
              "  gender religion caste mother_tongue country  height_cms\n",
              "1      1        2    34             6      19      170.18\n",
              "2      1        1    14             8       5      170.18\n",
              "3      0        1    36             8       5      152.40\n",
              "4      1        0    13            13       5      165.10\n",
              "5      1        1    38             8       5      165.10"
            ]
          },
          "metadata": {
            "tags": []
          },
          "execution_count": 47
        }
      ]
    },
    {
      "cell_type": "code",
      "metadata": {
        "id": "0A0YIb-D9Hzf"
      },
      "source": [
        "# import the library\n",
        "from sklearn.model_selection import train_test_split"
      ],
      "execution_count": null,
      "outputs": []
    },
    {
      "cell_type": "code",
      "metadata": {
        "colab": {
          "base_uri": "https://localhost:8080/"
        },
        "id": "F5Qb9qtx9nnf",
        "outputId": "27daa6a6-7e69-4777-e311-b982ea06bb4b"
      },
      "source": [
        "Y.head()"
      ],
      "execution_count": null,
      "outputs": [
        {
          "output_type": "execute_result",
          "data": {
            "text/plain": [
              "1    32.0\n",
              "2    32.0\n",
              "3    30.0\n",
              "4    30.0\n",
              "5    29.0\n",
              "Name: age_of_marriage, dtype: float64"
            ]
          },
          "metadata": {
            "tags": []
          },
          "execution_count": 49
        }
      ]
    },
    {
      "cell_type": "code",
      "metadata": {
        "id": "hfYVYgOc91BQ"
      },
      "source": [
        "Xtrain, Xtest, Ytrain, Ytest= train_test_split(X,Y, test_size= 0.2, random_state=0)"
      ],
      "execution_count": null,
      "outputs": []
    },
    {
      "cell_type": "code",
      "metadata": {
        "id": "VhXeA7BR_FUo"
      },
      "source": [
        "# import library....\n",
        "from sklearn.ensemble import RandomForestRegressor\n",
        "model= RandomForestRegressor(n_estimators=100,max_depth=11)\n",
        "model.fit(Xtrain,Ytrain)\n",
        "Ypredict = model.predict(Xtest)"
      ],
      "execution_count": null,
      "outputs": []
    },
    {
      "cell_type": "code",
      "metadata": {
        "id": "NgjwmGlgKYGs"
      },
      "source": [
        "Ypredict"
      ],
      "execution_count": null,
      "outputs": []
    },
    {
      "cell_type": "markdown",
      "metadata": {
        "id": "QITy3YiyAeIw"
      },
      "source": [
        "# **Now Evaluation**\n",
        "\n"
      ]
    },
    {
      "cell_type": "code",
      "metadata": {
        "id": "cDQxTLpdAl4p"
      },
      "source": [
        "from sklearn.metrics import mean_absolute_error, r2_score"
      ],
      "execution_count": null,
      "outputs": []
    },
    {
      "cell_type": "code",
      "metadata": {
        "colab": {
          "base_uri": "https://localhost:8080/"
        },
        "id": "FkaC8w3MIxiF",
        "outputId": "a252feab-7deb-4cc9-fe73-4a63c5cfbcde"
      },
      "source": [
        "print(\"MAE: \",mean_absolute_error(Ytest,Ypredict))"
      ],
      "execution_count": null,
      "outputs": [
        {
          "output_type": "stream",
          "text": [
            "MAE:  1.0345673018527517\n"
          ],
          "name": "stdout"
        }
      ]
    },
    {
      "cell_type": "markdown",
      "metadata": {
        "id": "Z1BTQYwFQP26"
      },
      "source": [
        "testing score...."
      ]
    },
    {
      "cell_type": "code",
      "metadata": {
        "id": "3DbWSELJK-Ok"
      },
      "source": [
        "test_score= f'{r2_score(Ytest,Ypredict) *100:.3f} %'"
      ],
      "execution_count": null,
      "outputs": []
    },
    {
      "cell_type": "markdown",
      "metadata": {
        "id": "WkjGSlSQQyPy"
      },
      "source": [
        "Traning "
      ]
    },
    {
      "cell_type": "code",
      "metadata": {
        "id": "80O22GyRPsBV"
      },
      "source": [
        "traning_score= f'{r2_score(Ytrain,model.predict(Xtrain)) *100:.3f} %'"
      ],
      "execution_count": null,
      "outputs": []
    },
    {
      "cell_type": "code",
      "metadata": {
        "colab": {
          "base_uri": "https://localhost:8080/"
        },
        "id": "rEfU99A0RDzh",
        "outputId": "ae71fe39-acfd-4ab9-e35e-664472b2879b"
      },
      "source": [
        "print(\"Traning Score(%)\",\"Testing Score(%)\")\n",
        "print(\"----------------------\")\n",
        "print(traning_score,\"\\t\",test_score)"
      ],
      "execution_count": null,
      "outputs": [
        {
          "output_type": "stream",
          "text": [
            "Traning Score(%) Testing Score(%)\n",
            "----------------------\n",
            "83.441 % \t 70.441 %\n"
          ],
          "name": "stdout"
        }
      ]
    },
    {
      "cell_type": "markdown",
      "metadata": {
        "id": "OnKasej-Tqd5"
      },
      "source": [
        "## **Now export this model**"
      ]
    },
    {
      "cell_type": "code",
      "metadata": {
        "colab": {
          "base_uri": "https://localhost:8080/"
        },
        "id": "sQne-IP9Tuuo",
        "outputId": "b2b8668e-e7a8-4dc6-e41b-c77af95efa6e"
      },
      "source": [
        "from sklearn.externals import joblib\n",
        "joblib.dump(model,'marrige_age.ml')"
      ],
      "execution_count": null,
      "outputs": [
        {
          "output_type": "execute_result",
          "data": {
            "text/plain": [
              "['marrige_age.ml']"
            ]
          },
          "metadata": {
            "tags": []
          },
          "execution_count": 87
        }
      ]
    }
  ]
}